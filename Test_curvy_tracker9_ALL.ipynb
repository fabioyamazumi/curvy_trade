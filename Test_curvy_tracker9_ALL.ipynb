{
 "cells": [
  {
   "cell_type": "markdown",
   "metadata": {},
   "source": [
    "# Teste ALL FX"
   ]
  },
  {
   "cell_type": "markdown",
   "metadata": {},
   "source": [
    "#### Dados:\n",
    "- curvy_tracker9"
   ]
  },
  {
   "cell_type": "markdown",
   "metadata": {},
   "source": [
    "#### Melhorias v7:\n",
    "- a pasta default é alterável (atributo data_folder)\n",
    "- USD index (all FX, EM_FX e DM/G10_FX). Salva resultado no XL e foi incluido no construtor.\n",
    "- Especificação do exception dos comandos try (FileNotFound)"
   ]
  },
  {
   "cell_type": "markdown",
   "metadata": {},
   "source": [
    "#### Melhorias v8:\n",
    "- correcao da matriz de chg price diaria"
   ]
  },
  {
   "cell_type": "code",
   "execution_count": 1,
   "metadata": {},
   "outputs": [],
   "source": [
    "import time\n",
    "import pandas as pd\n",
    "import numpy as np\n",
    "import matplotlib\n",
    "import matplotlib.pyplot as plt\n",
    "from tqdm import tqdm"
   ]
  },
  {
   "cell_type": "code",
   "execution_count": 2,
   "metadata": {},
   "outputs": [],
   "source": [
    "import curvy_tracker9"
   ]
  },
  {
   "cell_type": "code",
   "execution_count": 3,
   "metadata": {
    "scrolled": true
   },
   "outputs": [],
   "source": [
    "self = curvy_tracker9.CurvyTrade(k_max=12)"
   ]
  },
  {
   "cell_type": "markdown",
   "metadata": {},
   "source": [
    "#### Data Folder"
   ]
  },
  {
   "cell_type": "code",
   "execution_count": 4,
   "metadata": {},
   "outputs": [],
   "source": [
    "self.data_folder = 'data_ALL'"
   ]
  },
  {
   "cell_type": "markdown",
   "metadata": {},
   "source": [
    "#### Só usar PX last"
   ]
  },
  {
   "cell_type": "code",
   "execution_count": 5,
   "metadata": {},
   "outputs": [],
   "source": [
    "self.bbg_field_ask = self.bbg_field_last\n",
    "self.bbg_field_bid = self.bbg_field_last"
   ]
  },
  {
   "cell_type": "markdown",
   "metadata": {},
   "source": [
    "#### Moedas:"
   ]
  },
  {
   "cell_type": "code",
   "execution_count": 6,
   "metadata": {},
   "outputs": [
    {
     "data": {
      "text/plain": [
       "['AUD',\n",
       " 'CAD',\n",
       " 'CHF',\n",
       " 'DEM',\n",
       " 'EUR',\n",
       " 'GBP',\n",
       " 'JPY',\n",
       " 'NOK',\n",
       " 'NZD',\n",
       " 'SEK',\n",
       " 'BRL',\n",
       " 'CLP',\n",
       " 'COP',\n",
       " 'MXN',\n",
       " 'CZK',\n",
       " 'HUF',\n",
       " 'PLN',\n",
       " 'TRY',\n",
       " 'RUB',\n",
       " 'INR',\n",
       " 'HKD',\n",
       " 'KRW',\n",
       " 'SGD',\n",
       " 'TWD',\n",
       " 'ZAR']"
      ]
     },
     "execution_count": 6,
     "metadata": {},
     "output_type": "execute_result"
    }
   ],
   "source": [
    "self.currency_list"
   ]
  },
  {
   "cell_type": "code",
   "execution_count": 7,
   "metadata": {
    "scrolled": false
   },
   "outputs": [
    {
     "name": "stdout",
     "output_type": "stream",
     "text": [
      "tickers OK -  0.0740041732788086  seconds\n"
     ]
    },
    {
     "name": "stderr",
     "output_type": "stream",
     "text": [
      "C:\\Curvytrade\\curvy_tracker9.py:217: SettingWithCopyWarning: \n",
      "A value is trying to be set on a copy of a slice from a DataFrame.\n",
      "Try using .loc[row_indexer,col_indexer] = value instead\n",
      "\n",
      "See the caveats in the documentation: http://pandas.pydata.org/pandas-docs/stable/indexing.html#indexing-view-versus-copy\n",
      "  self.spot_last.loc['1998-12':]['DEM'] = np.NaN\n",
      "C:\\Curvytrade\\curvy_tracker9.py:218: SettingWithCopyWarning: \n",
      "A value is trying to be set on a copy of a slice from a DataFrame.\n",
      "Try using .loc[row_indexer,col_indexer] = value instead\n",
      "\n",
      "See the caveats in the documentation: http://pandas.pydata.org/pandas-docs/stable/indexing.html#indexing-view-versus-copy\n",
      "  self.spot_last.loc[:'1998-12']['EUR'] = np.NaN\n"
     ]
    },
    {
     "name": "stdout",
     "output_type": "stream",
     "text": [
      "spot_last OK -  2.011115074157715  seconds\n",
      "spot_bid and ask OK -  4.3702497482299805  seconds\n"
     ]
    },
    {
     "name": "stderr",
     "output_type": "stream",
     "text": [
      "C:\\Curvytrade\\curvy_tracker9.py:248: SettingWithCopyWarning: \n",
      "A value is trying to be set on a copy of a slice from a DataFrame.\n",
      "Try using .loc[row_indexer,col_indexer] = value instead\n",
      "\n",
      "See the caveats in the documentation: http://pandas.pydata.org/pandas-docs/stable/indexing.html#indexing-view-versus-copy\n",
      "  self.fwdpts_last.loc['1998-12':]['DEM'] = np.NaN\n",
      "C:\\Curvytrade\\curvy_tracker9.py:249: SettingWithCopyWarning: \n",
      "A value is trying to be set on a copy of a slice from a DataFrame.\n",
      "Try using .loc[row_indexer,col_indexer] = value instead\n",
      "\n",
      "See the caveats in the documentation: http://pandas.pydata.org/pandas-docs/stable/indexing.html#indexing-view-versus-copy\n",
      "  self.fwdpts_last.loc[:'1998-12']['EUR'] = np.NaN\n"
     ]
    },
    {
     "name": "stdout",
     "output_type": "stream",
     "text": [
      "fwdpts_last OK -  1.8491058349609375  seconds\n",
      "fwdpts_bid and ask OK -  4.421253204345703  seconds\n",
      "fwd_last OK -  0.014000654220581055  seconds\n",
      "fwd_bid OK -  0.00500035285949707  seconds\n",
      "fwd_ask OK -  0.005000114440917969  seconds\n",
      "fwd_discount_last OK -  0.019001245498657227  seconds\n",
      "vol EWMA OK -  3.823218584060669  seconds\n",
      "USD index OK -  0.603034257888794  seconds\n"
     ]
    }
   ],
   "source": [
    "self.run_constructor_in_parts1()"
   ]
  },
  {
   "cell_type": "code",
   "execution_count": 8,
   "metadata": {},
   "outputs": [
    {
     "name": "stdout",
     "output_type": "stream",
     "text": [
      "interest_curve OK -  43.32247805595398  seconds\n"
     ]
    }
   ],
   "source": [
    "self.run_constructor_in_parts2()"
   ]
  },
  {
   "cell_type": "code",
   "execution_count": 9,
   "metadata": {
    "scrolled": true
   },
   "outputs": [],
   "source": [
    "# self.run_constructor_in_parts3()"
   ]
  },
  {
   "cell_type": "code",
   "execution_count": 10,
   "metadata": {
    "scrolled": true
   },
   "outputs": [
    {
     "name": "stdout",
     "output_type": "stream",
     "text": [
      "NS-from 3 month tenor OK -  12.487714529037476  seconds\n"
     ]
    }
   ],
   "source": [
    "self.run_constructor_in_parts4()"
   ]
  },
  {
   "cell_type": "code",
   "execution_count": 11,
   "metadata": {},
   "outputs": [
    {
     "name": "stdout",
     "output_type": "stream",
     "text": [
      "betas OK -  0.27301573753356934  seconds\n"
     ]
    },
    {
     "name": "stderr",
     "output_type": "stream",
     "text": [
      "C:\\ProgramData\\Anaconda3\\lib\\site-packages\\pandas\\core\\indexing.py:630: SettingWithCopyWarning: \n",
      "A value is trying to be set on a copy of a slice from a DataFrame.\n",
      "Try using .loc[row_indexer,col_indexer] = value instead\n",
      "\n",
      "See the caveats in the documentation: http://pandas.pydata.org/pandas-docs/stable/indexing.html#indexing-view-versus-copy\n",
      "  self.obj[item_labels[indexer[info_axis]]] = value\n",
      "C:\\Curvytrade\\curvy_tracker9.py:358: SettingWithCopyWarning: \n",
      "A value is trying to be set on a copy of a slice from a DataFrame.\n",
      "Try using .loc[row_indexer,col_indexer] = value instead\n",
      "\n",
      "See the caveats in the documentation: http://pandas.pydata.org/pandas-docs/stable/indexing.html#indexing-view-versus-copy\n",
      "  self.relative_level.loc['1998-12':]['DEM'] = np.NaN\n",
      "C:\\Curvytrade\\curvy_tracker9.py:359: SettingWithCopyWarning: \n",
      "A value is trying to be set on a copy of a slice from a DataFrame.\n",
      "Try using .loc[row_indexer,col_indexer] = value instead\n",
      "\n",
      "See the caveats in the documentation: http://pandas.pydata.org/pandas-docs/stable/indexing.html#indexing-view-versus-copy\n",
      "  self.relative_level.loc[:'1998-12']['EUR'] = np.NaN\n"
     ]
    },
    {
     "name": "stdout",
     "output_type": "stream",
     "text": [
      "relative level OK -  1.3640782833099365  seconds\n"
     ]
    },
    {
     "name": "stderr",
     "output_type": "stream",
     "text": [
      "C:\\Curvytrade\\curvy_tracker9.py:364: SettingWithCopyWarning: \n",
      "A value is trying to be set on a copy of a slice from a DataFrame.\n",
      "Try using .loc[row_indexer,col_indexer] = value instead\n",
      "\n",
      "See the caveats in the documentation: http://pandas.pydata.org/pandas-docs/stable/indexing.html#indexing-view-versus-copy\n",
      "  self.relative_slope.loc['1998-12':]['DEM'] = np.NaN\n",
      "C:\\Curvytrade\\curvy_tracker9.py:365: SettingWithCopyWarning: \n",
      "A value is trying to be set on a copy of a slice from a DataFrame.\n",
      "Try using .loc[row_indexer,col_indexer] = value instead\n",
      "\n",
      "See the caveats in the documentation: http://pandas.pydata.org/pandas-docs/stable/indexing.html#indexing-view-versus-copy\n",
      "  self.relative_slope.loc[:'1998-12']['EUR'] = np.NaN\n",
      "C:\\Curvytrade\\curvy_tracker9.py:368: SettingWithCopyWarning: \n",
      "A value is trying to be set on a copy of a slice from a DataFrame.\n",
      "Try using .loc[row_indexer,col_indexer] = value instead\n",
      "\n",
      "See the caveats in the documentation: http://pandas.pydata.org/pandas-docs/stable/indexing.html#indexing-view-versus-copy\n",
      "  self.relative_curvature.loc['1998-12':]['DEM'] = np.NaN\n",
      "C:\\Curvytrade\\curvy_tracker9.py:369: SettingWithCopyWarning: \n",
      "A value is trying to be set on a copy of a slice from a DataFrame.\n",
      "Try using .loc[row_indexer,col_indexer] = value instead\n",
      "\n",
      "See the caveats in the documentation: http://pandas.pydata.org/pandas-docs/stable/indexing.html#indexing-view-versus-copy\n",
      "  self.relative_curvature.loc[:'1998-12']['EUR'] = np.NaN\n"
     ]
    },
    {
     "name": "stdout",
     "output_type": "stream",
     "text": [
      "daily fwdpts OK -  38.456199407577515  seconds\n"
     ]
    },
    {
     "name": "stderr",
     "output_type": "stream",
     "text": [
      "C:\\ProgramData\\Anaconda3\\lib\\site-packages\\IPython\\core\\interactiveshell.py:3191: PerformanceWarning: indexing past lexsort depth may impact performance.\n",
      "  if (yield from self.run_code(code, result)):\n"
     ]
    },
    {
     "name": "stdout",
     "output_type": "stream",
     "text": [
      "daily prices OK -  9.079519271850586  seconds\n",
      "ranks OK -  8.297474384307861  seconds\n"
     ]
    }
   ],
   "source": [
    "self.run_constructor_in_parts5()"
   ]
  },
  {
   "cell_type": "code",
   "execution_count": null,
   "metadata": {
    "scrolled": false
   },
   "outputs": [],
   "source": [
    "self.run_constructor_in_parts6()"
   ]
  },
  {
   "cell_type": "code",
   "execution_count": null,
   "metadata": {},
   "outputs": [],
   "source": [
    "self.run_daily_pnl_for_all_strategies(range(1,37))"
   ]
  },
  {
   "cell_type": "code",
   "execution_count": 12,
   "metadata": {},
   "outputs": [
    {
     "name": "stderr",
     "output_type": "stream",
     "text": [
      "100%|██████████████████████████████████████| 7414/7414 [43:53<00:00,  1.81it/s]\n"
     ]
    },
    {
     "name": "stdout",
     "output_type": "stream",
     "text": [
      "Daily P&L for 1: 2691.1409244537354  seconds\n"
     ]
    },
    {
     "name": "stderr",
     "output_type": "stream",
     "text": [
      "100%|██████████████████████████████████████| 7414/7414 [38:03<00:00,  2.17it/s]\n"
     ]
    },
    {
     "name": "stdout",
     "output_type": "stream",
     "text": [
      "Daily P&L for 2: 2334.8765473365784  seconds\n"
     ]
    },
    {
     "name": "stderr",
     "output_type": "stream",
     "text": [
      "100%|██████████████████████████████████████| 7414/7414 [27:29<00:00,  3.09it/s]\n"
     ]
    },
    {
     "name": "stdout",
     "output_type": "stream",
     "text": [
      "Daily P&L for 3: 1689.3856272697449  seconds\n"
     ]
    },
    {
     "name": "stderr",
     "output_type": "stream",
     "text": [
      "100%|██████████████████████████████████████| 7414/7414 [25:55<00:00,  3.18it/s]\n"
     ]
    },
    {
     "name": "stdout",
     "output_type": "stream",
     "text": [
      "Daily P&L for 4: 1595.2422425746918  seconds\n"
     ]
    },
    {
     "name": "stderr",
     "output_type": "stream",
     "text": [
      "100%|██████████████████████████████████████| 7414/7414 [25:27<00:00,  3.46it/s]\n"
     ]
    },
    {
     "name": "stdout",
     "output_type": "stream",
     "text": [
      "Daily P&L for 5: 1565.847561597824  seconds\n"
     ]
    },
    {
     "name": "stderr",
     "output_type": "stream",
     "text": [
      "100%|██████████████████████████████████████| 7414/7414 [23:52<00:00,  3.46it/s]\n"
     ]
    },
    {
     "name": "stdout",
     "output_type": "stream",
     "text": [
      "Daily P&L for 6: 1471.4141600131989  seconds\n"
     ]
    }
   ],
   "source": [
    "self.run_daily_pnl_for_all_strategies(range(1,7))"
   ]
  },
  {
   "cell_type": "code",
   "execution_count": null,
   "metadata": {},
   "outputs": [],
   "source": [
    "self.TR_df_daily_01 = pd.read_excel(r'data_ALL\\01_TR_Daily.xlsx').loc['1991-01-31':]+100\n",
    "self.TR_df_daily_02 = pd.read_excel(r'data_ALL\\02_TR_Daily.xlsx').loc['1991-01-31':]+100\n",
    "self.TR_df_daily_03 = pd.read_excel(r'data_ALL\\03_TR_Daily.xlsx').loc['1991-01-31':]+100\n",
    "self.TR_df_daily_04 = pd.read_excel(r'data_ALL\\04_TR_Daily.xlsx').loc['1991-01-31':]+100\n",
    "self.TR_df_daily_05 = pd.read_excel(r'data_ALL\\05_TR_Daily.xlsx').loc['1991-01-31':]+100\n",
    "self.TR_df_daily_06 = pd.read_excel(r'data_ALL\\06_TR_Daily.xlsx').loc['1991-01-31':]+100\n",
    "self.TR_df_daily_07 = pd.read_excel(r'data_ALL\\07_TR_Daily.xlsx').loc['1991-01-31':]+100\n",
    "self.TR_df_daily_08 = pd.read_excel(r'data_ALL\\08_TR_Daily.xlsx').loc['1991-01-31':]+100\n",
    "self.TR_df_daily_09 = pd.read_excel(r'data_ALL\\09_TR_Daily.xlsx').loc['1991-01-31':]+100\n",
    "self.TR_df_daily_10 = pd.read_excel(r'data_ALL\\10_TR_Daily.xlsx').loc['1991-01-31':]+100"
   ]
  },
  {
   "cell_type": "code",
   "execution_count": null,
   "metadata": {},
   "outputs": [],
   "source": []
  },
  {
   "cell_type": "markdown",
   "metadata": {},
   "source": [
    "### Data"
   ]
  },
  {
   "cell_type": "code",
   "execution_count": null,
   "metadata": {},
   "outputs": [],
   "source": [
    "# Carry trade\n",
    "self.TR_df_01.plot(figsize=(12,8))\n",
    "self.TR_df_daily_01.plot(figsize=(12,8))"
   ]
  },
  {
   "cell_type": "code",
   "execution_count": null,
   "metadata": {},
   "outputs": [],
   "source": [
    "# Curvy trade\n",
    "self.TR_df_02.plot(figsize=(12,8))\n",
    "self.TR_df_daily_02.plot(figsize=(12,8))"
   ]
  },
  {
   "cell_type": "code",
   "execution_count": null,
   "metadata": {},
   "outputs": [],
   "source": [
    "# Level trade\n",
    "self.TR_df_03.plot(figsize=(12,8))\n",
    "self.TR_df_daily_03.plot(figsize=(12,8))"
   ]
  },
  {
   "cell_type": "code",
   "execution_count": null,
   "metadata": {},
   "outputs": [],
   "source": [
    "# Slope trade\n",
    "self.TR_df_04.plot(figsize=(12,8))\n",
    "self.TR_df_daily_04.plot(figsize=(12,8))"
   ]
  },
  {
   "cell_type": "code",
   "execution_count": null,
   "metadata": {},
   "outputs": [],
   "source": [
    "# Carry (EV)\n",
    "self.TR_df_05.plot(figsize=(12,8))\n",
    "self.TR_df_daily_05.plot(figsize=(12,8))"
   ]
  },
  {
   "cell_type": "code",
   "execution_count": null,
   "metadata": {},
   "outputs": [],
   "source": [
    "# Curvy (EV)\n",
    "self.TR_df_06.plot(figsize=(12,8))\n",
    "self.TR_df_daily_06.plot(figsize=(12,8))"
   ]
  },
  {
   "cell_type": "code",
   "execution_count": null,
   "metadata": {},
   "outputs": [],
   "source": [
    "# Level (EV)\n",
    "self.TR_df_07.plot(figsize=(12,8))\n",
    "self.TR_df_daily_07.plot(figsize=(12,8))"
   ]
  },
  {
   "cell_type": "code",
   "execution_count": null,
   "metadata": {},
   "outputs": [],
   "source": [
    "# Slope (EV)\n",
    "self.TR_df_08.plot(figsize=(12,8))\n",
    "self.TR_df_daily_08.plot(figsize=(12,8))"
   ]
  },
  {
   "cell_type": "code",
   "execution_count": null,
   "metadata": {},
   "outputs": [],
   "source": [
    "# Carry-Curvy DS\n",
    "self.TR_df_09.plot(figsize=(12,8))\n",
    "self.TR_df_daily_09.plot(figsize=(12,8))"
   ]
  },
  {
   "cell_type": "code",
   "execution_count": null,
   "metadata": {},
   "outputs": [],
   "source": [
    "# Curvy-Carry DS\n",
    "self.TR_df_10.plot(figsize=(12,8))\n",
    "self.TR_df_daily_10.plot(figsize=(12,8))"
   ]
  },
  {
   "cell_type": "code",
   "execution_count": null,
   "metadata": {},
   "outputs": [],
   "source": [
    "df_table03 = self.table_three()\n",
    "df_table03.to_excel(self.data_folder + '\\\\table03_monthly.xlsx')"
   ]
  },
  {
   "cell_type": "code",
   "execution_count": null,
   "metadata": {
    "scrolled": false
   },
   "outputs": [],
   "source": [
    "df_table03"
   ]
  },
  {
   "cell_type": "code",
   "execution_count": null,
   "metadata": {
    "scrolled": true
   },
   "outputs": [],
   "source": [
    "df_table03_daily = self.table_three_daily()\n",
    "df_table03_daily.to_excel(self.data_folder + '\\\\table03_daily.xlsx')"
   ]
  },
  {
   "cell_type": "code",
   "execution_count": null,
   "metadata": {},
   "outputs": [],
   "source": [
    "df_table03_daily"
   ]
  },
  {
   "cell_type": "code",
   "execution_count": null,
   "metadata": {},
   "outputs": [],
   "source": [
    "self.run_table_four_five()"
   ]
  },
  {
   "cell_type": "code",
   "execution_count": null,
   "metadata": {},
   "outputs": [],
   "source": [
    "self.table04_Funding.to_excel(self.data_folder + '\\\\table04_funding.xlsx')\n",
    "self.table04_Funding"
   ]
  },
  {
   "cell_type": "code",
   "execution_count": null,
   "metadata": {},
   "outputs": [],
   "source": [
    "self.table05_Investing.to_excel(self.data_folder + '\\\\table05_investing.xlsx')\n",
    "self.table05_Investing"
   ]
  },
  {
   "cell_type": "code",
   "execution_count": null,
   "metadata": {},
   "outputs": [],
   "source": [
    "self.USD_index.plot(figsize=(12,8), logy=True)"
   ]
  },
  {
   "cell_type": "code",
   "execution_count": null,
   "metadata": {},
   "outputs": [],
   "source": [
    "self.plot_vols((12,8))"
   ]
  },
  {
   "cell_type": "markdown",
   "metadata": {},
   "source": [
    "# Regression Analysis (CRB)"
   ]
  },
  {
   "cell_type": "code",
   "execution_count": null,
   "metadata": {
    "scrolled": true
   },
   "outputs": [],
   "source": [
    "df_CRB = self.con.bdh('CRB RIND Index', self.bbg_field_last, self.ini_date_prices_bbg, self.end_date_bbg)"
   ]
  },
  {
   "cell_type": "code",
   "execution_count": null,
   "metadata": {},
   "outputs": [],
   "source": [
    "df_CRB.columns = df_CRB.columns.droplevel(1)"
   ]
  },
  {
   "cell_type": "code",
   "execution_count": null,
   "metadata": {
    "scrolled": true
   },
   "outputs": [],
   "source": [
    "df_CRB.columns = ['CRB']\n",
    "df_CRB.tail()"
   ]
  },
  {
   "cell_type": "code",
   "execution_count": null,
   "metadata": {},
   "outputs": [],
   "source": [
    "df_log_CRB = np.log(df_CRB)"
   ]
  },
  {
   "cell_type": "code",
   "execution_count": null,
   "metadata": {
    "scrolled": true
   },
   "outputs": [],
   "source": [
    "df_log_CRB.head()"
   ]
  },
  {
   "cell_type": "code",
   "execution_count": null,
   "metadata": {},
   "outputs": [],
   "source": [
    "df_log_CRB_daily_filled = df_log_CRB.loc[self.daily_calendar_extended].fillna(method='ffill')"
   ]
  },
  {
   "cell_type": "code",
   "execution_count": null,
   "metadata": {},
   "outputs": [],
   "source": [
    "df_log_CRB_monthly = df_log_CRB_daily_filled.loc[self.monthly_calendar]"
   ]
  },
  {
   "cell_type": "code",
   "execution_count": null,
   "metadata": {
    "scrolled": true
   },
   "outputs": [],
   "source": [
    "df_log_CRB_monthly.head()"
   ]
  },
  {
   "cell_type": "code",
   "execution_count": null,
   "metadata": {
    "scrolled": true
   },
   "outputs": [],
   "source": [
    "df_log_CRB_monthly.diff(3)"
   ]
  },
  {
   "cell_type": "code",
   "execution_count": null,
   "metadata": {},
   "outputs": [],
   "source": [
    "df_dlog_CRB = df_log_CRB_monthly.diff(3) / 3"
   ]
  },
  {
   "cell_type": "code",
   "execution_count": null,
   "metadata": {
    "scrolled": true
   },
   "outputs": [],
   "source": [
    "df_dlog_CRB"
   ]
  },
  {
   "cell_type": "code",
   "execution_count": null,
   "metadata": {},
   "outputs": [],
   "source": [
    "df_log_CRB_daily_filled.loc['1991-01-31']"
   ]
  },
  {
   "cell_type": "code",
   "execution_count": null,
   "metadata": {},
   "outputs": [],
   "source": [
    "df_dlog_CRB.loc['1991-03-29'] = (df_log_CRB_daily_filled.loc['1991-03-29'] - df_log_CRB_daily_filled.loc['1990-12-31']) / 3"
   ]
  },
  {
   "cell_type": "code",
   "execution_count": null,
   "metadata": {},
   "outputs": [],
   "source": [
    "df_dlog_CRB.loc['1991-02-28'] = (df_log_CRB_daily_filled.loc['1991-02-28'] - df_log_CRB_daily_filled.loc['1990-11-30']) / 3"
   ]
  },
  {
   "cell_type": "code",
   "execution_count": null,
   "metadata": {},
   "outputs": [],
   "source": [
    "df_dlog_CRB.loc['1991-01-31'] = (df_log_CRB_daily_filled.loc['1991-01-31'] - df_log_CRB_daily_filled.loc['1990-10-31']) / 3"
   ]
  },
  {
   "cell_type": "code",
   "execution_count": null,
   "metadata": {},
   "outputs": [],
   "source": [
    "df_dlog_CRB.to_excel(r'dlog_CRB.xlsx')"
   ]
  },
  {
   "cell_type": "markdown",
   "metadata": {},
   "source": [
    "# Return of long single FX"
   ]
  },
  {
   "cell_type": "code",
   "execution_count": null,
   "metadata": {},
   "outputs": [],
   "source": [
    "df_TRFX = pd.read_excel(r'C:\\Curvytrade\\TR_FX_Montly.xlsx')"
   ]
  },
  {
   "cell_type": "code",
   "execution_count": null,
   "metadata": {},
   "outputs": [],
   "source": [
    "df_TRFX"
   ]
  },
  {
   "cell_type": "code",
   "execution_count": null,
   "metadata": {},
   "outputs": [],
   "source": [
    "def table_three_monthly_period(df_TR_Index, start='1991', end='2019'):\n",
    "    freq = 'Monthly'\n",
    "    list_of_strategy_names = df_TRFX.columns\n",
    "    # idx = pd.MultiIndex.from_product(iterables=[list_of_strategy_names, self.k_range], names=['Sorting', 'k'])\n",
    "    idx = list_of_strategy_names\n",
    "    # idx = pd.MultiIndex.from_product(\n",
    "    # iterables=[['Carry trade', 'Carry (EV)', 'Level', 'Level (EV)', 'Slope', 'Slope (EV)', 'Curvature', 'Curvature (EV)'],\n",
    "    #        self.k_range],\n",
    "    # names=['Sorting', 'k'])\n",
    "    column_names = ['Mean annual', 'Stdev annual', 'Skewness monthly', 'Kurtosis monthly', 'Sharpe ratio']\n",
    "    dict_columns = {'Mean annual': 'Excess Return',\n",
    "                    'Stdev annual': 'Volatility',\n",
    "                    'Skewness monthly': 'Skewness',\n",
    "                    'Kurtosis monthly': 'Kurtosis',\n",
    "                    'Sharpe ratio': 'Sharpe'}\n",
    "    dict_mult = {'Excess Return': 100.0,\n",
    "                    'Volatility': 100.0,\n",
    "                    'Skewness': 1.0,\n",
    "                    'Kurtosis': 1.0,\n",
    "                    'Sharpe': 1.0}\n",
    "    table03_monthly = pd.DataFrame(index=idx, columns=column_names)\n",
    "    performance_data = lambda fx, field: self.GetPerformanceTable(df_TR_Index.loc[start:end, fx], freq=freq)[field] * dict_mult[field]\n",
    "    for strategy_name in list_of_strategy_names:\n",
    "        for column_name in column_names:\n",
    "            field = dict_columns[column_name]\n",
    "            fx = strategy_name\n",
    "            table03_monthly.loc[strategy_name, column_name] = performance_data(fx, field)\n",
    "    return table03_monthly"
   ]
  },
  {
   "cell_type": "code",
   "execution_count": null,
   "metadata": {
    "scrolled": true
   },
   "outputs": [],
   "source": [
    "table_three_monthly_period(df_TRFX)"
   ]
  },
  {
   "cell_type": "code",
   "execution_count": null,
   "metadata": {},
   "outputs": [],
   "source": [
    "df_table3 = table_three_monthly_period(df_TRFX)"
   ]
  },
  {
   "cell_type": "code",
   "execution_count": null,
   "metadata": {},
   "outputs": [],
   "source": [
    "df_table3.to_excel(r'C:\\Curvytrade\\TR_FX_Montly_TABLE3.xlsx')"
   ]
  },
  {
   "cell_type": "markdown",
   "metadata": {},
   "source": [
    "# USD beta exposure data"
   ]
  },
  {
   "cell_type": "code",
   "execution_count": null,
   "metadata": {},
   "outputs": [],
   "source": [
    "cota = self.TR_df_daily_01.copy(deep=True)"
   ]
  },
  {
   "cell_type": "code",
   "execution_count": null,
   "metadata": {},
   "outputs": [],
   "source": [
    "cota.loc[self.USD_index.index, 'USD'] = self.USD_index['USD_EM']"
   ]
  },
  {
   "cell_type": "code",
   "execution_count": null,
   "metadata": {},
   "outputs": [],
   "source": [
    "cota.pct_change(1).corr()"
   ]
  },
  {
   "cell_type": "code",
   "execution_count": null,
   "metadata": {},
   "outputs": [],
   "source": [
    "covariances = cota.pct_change(1).rolling(84).cov()\n",
    "covariance_USD = covariances.xs(key='USD', axis=0, level=1)\n",
    "variance_USD = covariances.loc[(slice(None),'USD'), 'USD']"
   ]
  },
  {
   "cell_type": "code",
   "execution_count": null,
   "metadata": {},
   "outputs": [],
   "source": [
    "beta_USD = pd.DataFrame(data=None, index=covariance_USD.index, columns=covariance_USD.columns)\n",
    "for d in self.USD_index.index:\n",
    "    beta_USD.loc[d] = covariance_USD.loc[d]  / covariance_USD['USD'].loc[d]"
   ]
  },
  {
   "cell_type": "code",
   "execution_count": null,
   "metadata": {},
   "outputs": [],
   "source": [
    "beta_USD.plot(figsize=(15,10))"
   ]
  },
  {
   "cell_type": "code",
   "execution_count": null,
   "metadata": {},
   "outputs": [],
   "source": [
    "beta_USD.plot(figsize=(15,10))"
   ]
  },
  {
   "cell_type": "code",
   "execution_count": null,
   "metadata": {},
   "outputs": [],
   "source": [
    "beta_USD.plot(figsize=(15,10))"
   ]
  },
  {
   "cell_type": "code",
   "execution_count": null,
   "metadata": {},
   "outputs": [],
   "source": [
    "self.beta_USD(prices_df=self.TR_df_daily_01, usd_index_name='USD', window=84).plot(figsize=(15,10))"
   ]
  },
  {
   "cell_type": "markdown",
   "metadata": {},
   "source": [
    "### Performance by period"
   ]
  },
  {
   "cell_type": "code",
   "execution_count": null,
   "metadata": {
    "scrolled": false
   },
   "outputs": [],
   "source": [
    "df_table03_daily_period_1991_1994 = self.table_three_daily_period(start='1991', end='1994')\n",
    "df_table03_daily_period_1991_1994.to_excel(self.data_folder + '\\\\table03_daily_period_1991_1994.xlsx')\n",
    "df_table03_daily_period_1991_1994"
   ]
  },
  {
   "cell_type": "code",
   "execution_count": null,
   "metadata": {
    "scrolled": false
   },
   "outputs": [],
   "source": [
    "df_table03_daily_period_1995_1999 = self.table_three_daily_period(start='1995', end='1999')\n",
    "df_table03_daily_period_1995_1999.to_excel(self.data_folder + '\\\\table03_daily_period_1995_1999.xlsx')\n",
    "df_table03_daily_period_1995_1999"
   ]
  },
  {
   "cell_type": "code",
   "execution_count": null,
   "metadata": {},
   "outputs": [],
   "source": [
    "df_table03_daily_period_2000_2004 = self.table_three_daily_period(start='2000', end='2004')\n",
    "df_table03_daily_period_2000_2004.to_excel(self.data_folder + '\\\\table03_daily_period_2000_2004.xlsx')\n",
    "df_table03_daily_period_2000_2004"
   ]
  },
  {
   "cell_type": "code",
   "execution_count": null,
   "metadata": {},
   "outputs": [],
   "source": [
    "df_table03_daily_period_2005_2009 = self.table_three_daily_period(start='2005', end='2009')\n",
    "df_table03_daily_period_2005_2009.to_excel(self.data_folder + '\\\\table03_daily_period_2005_2009.xlsx')\n",
    "df_table03_daily_period_2005_2009"
   ]
  },
  {
   "cell_type": "code",
   "execution_count": null,
   "metadata": {},
   "outputs": [],
   "source": [
    "df_table03_daily_period_2010_2014 = self.table_three_daily_period(start='2010', end='2014')\n",
    "df_table03_daily_period_2010_2014.to_excel(self.data_folder + '\\\\table03_daily_period_2010_2014.xlsx')\n",
    "df_table03_daily_period_2010_2014"
   ]
  },
  {
   "cell_type": "code",
   "execution_count": null,
   "metadata": {},
   "outputs": [],
   "source": [
    "df_table03_daily_period_2015_2019 = self.table_three_daily_period(start='2015', end='2019')\n",
    "df_table03_daily_period_2015_2019.to_excel(self.data_folder + '\\\\table03_daily_period_2015_2019.xlsx')\n",
    "df_table03_daily_period_2015_2019"
   ]
  },
  {
   "cell_type": "code",
   "execution_count": null,
   "metadata": {},
   "outputs": [],
   "source": [
    "df_table03_daily_period_2018_2019 = self.table_three_daily_period(start='2018', end='2019')\n",
    "df_table03_daily_period_2018_2019.to_excel(self.data_folder + '\\\\table03_daily_period_2018_2019.xlsx')\n",
    "df_table03_daily_period_2018_2019"
   ]
  },
  {
   "cell_type": "code",
   "execution_count": null,
   "metadata": {},
   "outputs": [],
   "source": [
    "self.df_strategy"
   ]
  },
  {
   "cell_type": "code",
   "execution_count": null,
   "metadata": {},
   "outputs": [],
   "source": []
  },
  {
   "cell_type": "code",
   "execution_count": null,
   "metadata": {},
   "outputs": [],
   "source": []
  },
  {
   "cell_type": "code",
   "execution_count": null,
   "metadata": {},
   "outputs": [],
   "source": []
  },
  {
   "cell_type": "code",
   "execution_count": null,
   "metadata": {},
   "outputs": [],
   "source": []
  },
  {
   "cell_type": "markdown",
   "metadata": {},
   "source": [
    "## Investigation data"
   ]
  },
  {
   "cell_type": "code",
   "execution_count": null,
   "metadata": {},
   "outputs": [],
   "source": [
    "# self.spot_last_XXXUSD.to_excel(self.data_folder + '\\\\Debug_spot_last_XXXUSD.xlsx')"
   ]
  },
  {
   "cell_type": "code",
   "execution_count": null,
   "metadata": {},
   "outputs": [],
   "source": [
    "# self.fwd_last_XXXUSD.to_excel(self.data_folder + '\\\\Debug_fwd_last_XXXUSD.xlsx')"
   ]
  },
  {
   "cell_type": "code",
   "execution_count": null,
   "metadata": {
    "scrolled": true
   },
   "outputs": [],
   "source": [
    "# self.daily_fwds_XXXUSD.to_excel(self.data_folder + '\\\\Debug_daily_fwds_XXXUSD.xlsx')"
   ]
  },
  {
   "cell_type": "code",
   "execution_count": null,
   "metadata": {},
   "outputs": [],
   "source": []
  },
  {
   "cell_type": "code",
   "execution_count": null,
   "metadata": {},
   "outputs": [],
   "source": []
  },
  {
   "cell_type": "code",
   "execution_count": null,
   "metadata": {},
   "outputs": [],
   "source": [
    "# nproocessors=3\n",
    "# processes = []\n",
    "# with ProcessPoolExecutor(max_workers=nproocessors) as executor:\n",
    "#     processes.append(executor.submit(self.run_strategy01))\n",
    "#     processes.append(executor.submit(self.run_strategy02))\n",
    "#     processes.append(executor.submit(self.run_strategy03))\n",
    "#     processes.append(executor.submit(self.run_strategy04))\n",
    "#     wait(processes)\n",
    "# results = {}\n",
    "# for process in processes:\n",
    "#     results.update(process.result())"
   ]
  },
  {
   "cell_type": "code",
   "execution_count": null,
   "metadata": {},
   "outputs": [],
   "source": [
    "# nproocessors=4\n",
    "# with ProcessPoolExecutor(max_workers=nproocessors) as executor:\n",
    "#     executor.submit(self.run_strategy01,)\n",
    "#     executor.submit(self.run_strategy02,)\n",
    "#     executor.submit(self.run_strategy03,)\n",
    "#     executor.submit(self.run_strategy04,)"
   ]
  },
  {
   "cell_type": "markdown",
   "metadata": {},
   "source": [
    "# Transaction cost"
   ]
  },
  {
   "cell_type": "code",
   "execution_count": null,
   "metadata": {},
   "outputs": [],
   "source": [
    "self.monthly_calendar"
   ]
  },
  {
   "cell_type": "code",
   "execution_count": null,
   "metadata": {},
   "outputs": [],
   "source": [
    "self.bbg_field_last"
   ]
  },
  {
   "cell_type": "code",
   "execution_count": null,
   "metadata": {},
   "outputs": [],
   "source": [
    "self.df_tickers.loc['DEM']"
   ]
  },
  {
   "cell_type": "code",
   "execution_count": null,
   "metadata": {},
   "outputs": [],
   "source": [
    "self.spot_bid = self._get_spot_data(['PX_BID'])"
   ]
  },
  {
   "cell_type": "code",
   "execution_count": null,
   "metadata": {},
   "outputs": [],
   "source": [
    "self.pct_costfx_01.dropna()"
   ]
  },
  {
   "cell_type": "code",
   "execution_count": null,
   "metadata": {},
   "outputs": [],
   "source": [
    "(self.fwd_ask_XXXUSD / self.fwd_last_XXXUSD - 1)['JPY'].plot(figsize=(12,8))"
   ]
  },
  {
   "cell_type": "code",
   "execution_count": null,
   "metadata": {},
   "outputs": [],
   "source": [
    "((self.fwd_ask_XXXUSD - self.fwd_bid_XXXUSD) / 2 / self.fwd_last_XXXUSD)['JPY'].plot(figsize=(12,8))"
   ]
  },
  {
   "cell_type": "code",
   "execution_count": null,
   "metadata": {},
   "outputs": [],
   "source": [
    "(self.fwd_ask_XXXUSD - self.fwd_bid_XXXUSD)['BRL'].plot(kind='hist')"
   ]
  },
  {
   "cell_type": "code",
   "execution_count": null,
   "metadata": {},
   "outputs": [],
   "source": [
    "trade_date = self.monthly_calendar[48]"
   ]
  },
  {
   "cell_type": "code",
   "execution_count": null,
   "metadata": {},
   "outputs": [],
   "source": [
    "self.weights_df_01.loc[('k4', trade_date), ]"
   ]
  },
  {
   "cell_type": "code",
   "execution_count": null,
   "metadata": {},
   "outputs": [],
   "source": [
    "wgt = self.weights_df_01.loc[('k4', trade_date), ]"
   ]
  },
  {
   "cell_type": "code",
   "execution_count": null,
   "metadata": {},
   "outputs": [],
   "source": [
    "traded_fwd_price = pd.Series(data=None, index=wgt.index)\n",
    "traded_fwd_price"
   ]
  },
  {
   "cell_type": "code",
   "execution_count": null,
   "metadata": {},
   "outputs": [],
   "source": [
    "traded_tickers = wgt > 0.0"
   ]
  },
  {
   "cell_type": "code",
   "execution_count": null,
   "metadata": {},
   "outputs": [],
   "source": [
    "traded_fwd_price[traded_tickers]"
   ]
  },
  {
   "cell_type": "code",
   "execution_count": null,
   "metadata": {},
   "outputs": [],
   "source": [
    "self.fwd_last_XXXUSD.loc[trade_date, traded_tickers]"
   ]
  },
  {
   "cell_type": "code",
   "execution_count": null,
   "metadata": {},
   "outputs": [],
   "source": [
    "traded_fwd_price[traded_tickers] = self.fwd_last_XXXUSD.loc[trade_date, traded_tickers]"
   ]
  },
  {
   "cell_type": "code",
   "execution_count": null,
   "metadata": {},
   "outputs": [],
   "source": [
    "traded_fwd_price"
   ]
  },
  {
   "cell_type": "code",
   "execution_count": null,
   "metadata": {},
   "outputs": [],
   "source": [
    "traded_tickers = wgt < 0.0\n",
    "traded_fwd_price[traded_tickers] = self.fwd_last_XXXUSD.loc[trade_date, traded_tickers]"
   ]
  },
  {
   "cell_type": "code",
   "execution_count": null,
   "metadata": {},
   "outputs": [],
   "source": [
    "traded_fwd_price"
   ]
  },
  {
   "cell_type": "code",
   "execution_count": null,
   "metadata": {},
   "outputs": [],
   "source": [
    "wgt * 100 / traded_fwd_price"
   ]
  },
  {
   "cell_type": "code",
   "execution_count": null,
   "metadata": {},
   "outputs": [],
   "source": [
    "float(traded_fwd_price.loc['CAD'])"
   ]
  },
  {
   "cell_type": "code",
   "execution_count": null,
   "metadata": {},
   "outputs": [],
   "source": []
  },
  {
   "cell_type": "markdown",
   "metadata": {},
   "source": [
    "# Cost Analysis"
   ]
  },
  {
   "cell_type": "code",
   "execution_count": null,
   "metadata": {
    "scrolled": false
   },
   "outputs": [],
   "source": [
    "[getattr(self, \"ir_0\" + str(i)).plot(title=i) for i in range(1, 10)]\n",
    "self.ir_10.plot(title=10)"
   ]
  },
  {
   "cell_type": "code",
   "execution_count": null,
   "metadata": {},
   "outputs": [],
   "source": [
    "self.ir_09['k1'].plot(legend=True)\n",
    "self.ir_10['k2'].plot(legend=True)\n",
    "self.ir_01['k3'].plot(legend=True)\n",
    "self.ir_02['k3'].plot(legend=True)"
   ]
  },
  {
   "cell_type": "code",
   "execution_count": null,
   "metadata": {},
   "outputs": [],
   "source": [
    "self.ir_09['k1'].plot(legend=True)\n",
    "self.ir_10['k2'].plot(legend=True)\n",
    "self.ir_01['k3'].plot(legend=True)\n",
    "self.ir_02['k3'].plot(legend=True)"
   ]
  },
  {
   "cell_type": "code",
   "execution_count": null,
   "metadata": {},
   "outputs": [],
   "source": [
    "self.ir_01.plot()\n",
    "self.sr_01.plot()"
   ]
  },
  {
   "cell_type": "code",
   "execution_count": null,
   "metadata": {},
   "outputs": [],
   "source": [
    "(self.ir_01 - self.sr_01)['k5'].plot()"
   ]
  },
  {
   "cell_type": "code",
   "execution_count": null,
   "metadata": {},
   "outputs": [],
   "source": [
    "self.sr_01['k5'].plot()\n",
    "self.sr_02['k5'].plot()\n",
    "self.sr_03['k5'].plot()"
   ]
  },
  {
   "cell_type": "code",
   "execution_count": null,
   "metadata": {},
   "outputs": [],
   "source": [
    "self.pct_irfx_01.loc['k5'].sum().plot(kind='bar', figsize=(12,8))"
   ]
  },
  {
   "cell_type": "code",
   "execution_count": null,
   "metadata": {},
   "outputs": [],
   "source": [
    "self.pct_irfx_02.loc['k5'].sum().plot(kind='bar', figsize=(12,8))"
   ]
  },
  {
   "cell_type": "code",
   "execution_count": null,
   "metadata": {},
   "outputs": [],
   "source": [
    "self.pct_irfx_03.loc['k5'].sum().plot(kind='bar', figsize=(12,8))"
   ]
  },
  {
   "cell_type": "code",
   "execution_count": null,
   "metadata": {},
   "outputs": [],
   "source": [
    "self.pct_irfx_04.loc['k5'].sum().plot(kind='bar', figsize=(12,8))"
   ]
  },
  {
   "cell_type": "code",
   "execution_count": null,
   "metadata": {},
   "outputs": [],
   "source": [
    "self.pct_irfx_01.loc['k5'].sum().plot(kind='bar', figsize=(12,8), title='ir')"
   ]
  },
  {
   "cell_type": "code",
   "execution_count": null,
   "metadata": {},
   "outputs": [],
   "source": [
    "self.pct_pnlfx_01.loc['k5'].sum().plot(kind='bar', figsize=(12,8), title='pnl')"
   ]
  },
  {
   "cell_type": "code",
   "execution_count": null,
   "metadata": {},
   "outputs": [],
   "source": [
    "self.pct_irfx_02.loc['k5'].sum().plot(kind='bar', figsize=(12,8), title='ir')"
   ]
  },
  {
   "cell_type": "code",
   "execution_count": null,
   "metadata": {},
   "outputs": [],
   "source": [
    "self.pct_pnlfx_02.loc['k5'].sum().plot(kind='bar', figsize=(12,8), title='pnl')"
   ]
  },
  {
   "cell_type": "code",
   "execution_count": null,
   "metadata": {},
   "outputs": [],
   "source": [
    "self.pct_srfx_01.loc['k5'].sum().plot(kind='bar', figsize=(12,8), title='sr')"
   ]
  },
  {
   "cell_type": "code",
   "execution_count": null,
   "metadata": {},
   "outputs": [],
   "source": [
    "self.pct_srfx_02.loc['k5'].sum().plot(kind='bar', figsize=(12,8), title='sr')"
   ]
  },
  {
   "cell_type": "code",
   "execution_count": null,
   "metadata": {},
   "outputs": [],
   "source": [
    "(self.pct_srfx_02.loc['k5'] + 1).cumprod().fillna(method='ffill').plot(figsize=(12,8))"
   ]
  },
  {
   "cell_type": "code",
   "execution_count": null,
   "metadata": {},
   "outputs": [],
   "source": [
    "(self.pct_srfx_02.loc['k5'] + 1).cumprod().fillna(method='ffill')"
   ]
  },
  {
   "cell_type": "code",
   "execution_count": null,
   "metadata": {},
   "outputs": [],
   "source": [
    "(self.pct_srfx_02.loc['k5'] + 1).cumprod().fillna(method='ffill')"
   ]
  },
  {
   "cell_type": "code",
   "execution_count": null,
   "metadata": {},
   "outputs": [],
   "source": [
    "cota = (self.pct_srfx_02.loc['k5'] + 1).cumprod().fillna(method='ffill')"
   ]
  },
  {
   "cell_type": "code",
   "execution_count": null,
   "metadata": {},
   "outputs": [],
   "source": [
    "vol = np.log(cota).diff(1).dropna().std() * np.sqrt(252)\n",
    "vol"
   ]
  },
  {
   "cell_type": "code",
   "execution_count": null,
   "metadata": {},
   "outputs": [],
   "source": [
    "retorno = cota.pct_change(1).mean() * 252 / cota.pct_change(1).count()\n",
    "retorno"
   ]
  },
  {
   "cell_type": "code",
   "execution_count": null,
   "metadata": {},
   "outputs": [],
   "source": [
    "retorno / vol"
   ]
  },
  {
   "cell_type": "markdown",
   "metadata": {},
   "source": [
    "# Estatisticas"
   ]
  },
  {
   "cell_type": "code",
   "execution_count": null,
   "metadata": {},
   "outputs": [],
   "source": [
    "ret = self.pct_srfx_02.loc['k5']\n",
    "irr = self.pct_irfx_02.loc['k5']"
   ]
  },
  {
   "cell_type": "code",
   "execution_count": null,
   "metadata": {},
   "outputs": [],
   "source": [
    "# ret = self.pct_pnlfx_02.loc['k5']"
   ]
  },
  {
   "cell_type": "code",
   "execution_count": null,
   "metadata": {},
   "outputs": [],
   "source": [
    "# irr = self.pct_irfx_02.loc['k5']"
   ]
  },
  {
   "cell_type": "code",
   "execution_count": null,
   "metadata": {
    "scrolled": false
   },
   "outputs": [],
   "source": [
    "(((self.holdings_df_02.loc['k5'] < 0.0) & (ret > 0.0)) * ret).sum().plot(kind='bar', figsize=(12,8), title='gain short')"
   ]
  },
  {
   "cell_type": "code",
   "execution_count": null,
   "metadata": {},
   "outputs": [],
   "source": [
    "(((self.holdings_df_02.loc['k5'] < 0.0) & (ret < 0.0)) * ret).sum().plot(kind='bar', figsize=(12,8), title='loss short')"
   ]
  },
  {
   "cell_type": "code",
   "execution_count": null,
   "metadata": {},
   "outputs": [],
   "source": [
    "(((self.holdings_df_02.loc['k5'] < 0.0)) * ret).sum().plot(kind='bar', figsize=(12,8), title='pnl short')\n",
    "(((self.holdings_df_02.loc['k5'] < 0.0)) * irr).sum().plot(kind='bar', figsize=(12,8), title='pnl short')"
   ]
  },
  {
   "cell_type": "code",
   "execution_count": null,
   "metadata": {},
   "outputs": [],
   "source": [
    "teste = ret.sum()"
   ]
  },
  {
   "cell_type": "code",
   "execution_count": null,
   "metadata": {},
   "outputs": [],
   "source": [
    "labels = list(ret.sum().index)\n",
    "men_means = ret.sum() * 100\n",
    "women_means = irr.sum() * 100\n",
    "x = np.arange(len(labels))  # the label locations\n",
    "width = 0.35  # the width of the bars\n",
    "\n",
    "fig, ax = plt.subplots(figsize=(13,8))\n",
    "rects1 = ax.bar(x=x - width/2, height=men_means, width=width, label='Spot return')\n",
    "rects2 = ax.bar(x + width/2, women_means, width, label='Interest return')\n",
    "\n",
    "# Add some text for labels, title and custom x-axis tick labels, etc.\n",
    "ax.set_ylabel('Scores')\n",
    "ax.set_title('Breakdown of return')\n",
    "ax.set_xticks(x)\n",
    "ax.set_xticklabels(labels)\n",
    "ax.legend()\n",
    "\n",
    "fig.tight_layout()\n",
    "\n",
    "plt.show()"
   ]
  },
  {
   "cell_type": "code",
   "execution_count": null,
   "metadata": {},
   "outputs": [],
   "source": [
    "def plot_break01(strategy_n, k):\n",
    "    name_strat = '_' + \"{:02}\".format(strategy_n)\n",
    "    nome_str = self.df_strategy.loc[strategy_n, 'Name']\n",
    "    k_str = 'k' + str(k)\n",
    "    spot_ret = getattr(self, 'pct_srfx' + name_strat).loc[k_str]\n",
    "    ir_ret = getattr(self, 'pct_irfx' + name_strat).loc[k_str]\n",
    "    df = pd.DataFrame(data=spot_ret.sum(), columns=['variação spot'])\n",
    "    df['juros'] = ir_ret.sum()\n",
    "    df.plot(kind='bar', figsize=(12,8), title=nome_str + '(' + k_str + ')' + ': decomposição dos retornos')"
   ]
  },
  {
   "cell_type": "code",
   "execution_count": null,
   "metadata": {},
   "outputs": [],
   "source": [
    "def plot_pnl(strategy_n, k):\n",
    "    name_strat = '_' + \"{:02}\".format(strategy_n)\n",
    "    nome_str = self.df_strategy.loc[strategy_n, 'Name']\n",
    "    k_str = 'k' + str(k)\n",
    "    spot_ret = getattr(self, 'pct_pnlfx' + name_strat).loc[k_str].sum()\n",
    "    spot_ret = pd.DataFrame(data=spot_ret, columns=['retornos'])\n",
    "    spot_ret.plot(kind='bar', figsize=(12,8), title=nome_str + '(' + k_str + ')' + ': decomposição por moeda')"
   ]
  },
  {
   "cell_type": "code",
   "execution_count": null,
   "metadata": {
    "scrolled": false
   },
   "outputs": [],
   "source": [
    "plot_pnl(1,5)\n",
    "plot_pnl(5,5)\n",
    "plot_pnl(2,5)\n",
    "plot_pnl(3,5)\n",
    "plot_pnl(4,5)"
   ]
  },
  {
   "cell_type": "code",
   "execution_count": null,
   "metadata": {
    "scrolled": false
   },
   "outputs": [],
   "source": [
    "plot_break01(2, 5)"
   ]
  },
  {
   "cell_type": "code",
   "execution_count": null,
   "metadata": {},
   "outputs": [],
   "source": [
    "plot_break01(1, 5)"
   ]
  },
  {
   "cell_type": "code",
   "execution_count": null,
   "metadata": {},
   "outputs": [],
   "source": [
    "plot_break01(9, 1)"
   ]
  },
  {
   "cell_type": "code",
   "execution_count": null,
   "metadata": {},
   "outputs": [],
   "source": [
    "plot_break01(10, 1)"
   ]
  },
  {
   "cell_type": "code",
   "execution_count": null,
   "metadata": {},
   "outputs": [],
   "source": [
    "ret.sum().plot(x=ret.index, y=[ret.sum().values, ret.sum().values + 1], kind='bar', figsize=(12,9))"
   ]
  },
  {
   "cell_type": "code",
   "execution_count": null,
   "metadata": {},
   "outputs": [],
   "source": [
    "ret.sum().plot(kind='bar', figsize=(12,9))"
   ]
  },
  {
   "cell_type": "code",
   "execution_count": null,
   "metadata": {},
   "outputs": [],
   "source": [
    "(((self.holdings_df_02.loc['k5'] > 0.0)) * ret).sum().plot(kind='bar', figsize=(12,8), title='pnl long')"
   ]
  },
  {
   "cell_type": "code",
   "execution_count": null,
   "metadata": {
    "scrolled": false
   },
   "outputs": [],
   "source": [
    "ret.sum().plot(kind='bar', figsize=(12,8))"
   ]
  },
  {
   "cell_type": "code",
   "execution_count": null,
   "metadata": {},
   "outputs": [],
   "source": []
  },
  {
   "cell_type": "code",
   "execution_count": null,
   "metadata": {},
   "outputs": [],
   "source": [
    "ntrades = ret.count()\n",
    "ntrades"
   ]
  },
  {
   "cell_type": "code",
   "execution_count": null,
   "metadata": {},
   "outputs": [],
   "source": [
    "n_acertos = (ret > 0).sum()\n",
    "n_acertos"
   ]
  },
  {
   "cell_type": "code",
   "execution_count": null,
   "metadata": {},
   "outputs": [],
   "source": [
    "n_erros = (ret < 0).sum()\n",
    "n_erros"
   ]
  },
  {
   "cell_type": "code",
   "execution_count": null,
   "metadata": {},
   "outputs": [],
   "source": [
    "(n_acertos / ntrades * 100).plot(kind='bar', figsize=(12,8))\n",
    "(n_acertos * 0 + 50).plot()"
   ]
  },
  {
   "cell_type": "code",
   "execution_count": null,
   "metadata": {
    "scrolled": false
   },
   "outputs": [],
   "source": [
    "(n_acertos / ntrades * 100).plot(kind='bar', figsize=(12,8))\n",
    "(n_acertos * 0 + 50).plot()"
   ]
  },
  {
   "cell_type": "code",
   "execution_count": null,
   "metadata": {},
   "outputs": [],
   "source": [
    "(n_erros / ntrades * 100).plot(kind='bar', figsize=(12,8))\n",
    "(n_erros * 0 + 50).plot()"
   ]
  },
  {
   "cell_type": "code",
   "execution_count": null,
   "metadata": {},
   "outputs": [],
   "source": [
    "self.monthly_calendar"
   ]
  },
  {
   "cell_type": "code",
   "execution_count": null,
   "metadata": {},
   "outputs": [],
   "source": []
  },
  {
   "cell_type": "code",
   "execution_count": null,
   "metadata": {},
   "outputs": [],
   "source": []
  },
  {
   "cell_type": "code",
   "execution_count": null,
   "metadata": {},
   "outputs": [],
   "source": []
  },
  {
   "cell_type": "markdown",
   "metadata": {},
   "source": [
    "# Daily P&L"
   ]
  },
  {
   "cell_type": "markdown",
   "metadata": {},
   "source": [
    "### Write to Excel"
   ]
  },
  {
   "cell_type": "code",
   "execution_count": null,
   "metadata": {},
   "outputs": [],
   "source": [
    "self.daily_fwds_XXXUSD.to_excel(r'C:\\Curvytrade\\data_ALL\\daily_fwds_XXXUSD.xlsx')"
   ]
  },
  {
   "cell_type": "code",
   "execution_count": null,
   "metadata": {},
   "outputs": [],
   "source": [
    "def calculate_daily_pnl(dates, df_blotter):\n",
    "    list_to_do = tqdm(dates)\n",
    "    df_blotter['ndays'] = 0\n",
    "    df_blotter['k'] = ['k' + str(i) for i in df_blotter['k']]\n",
    "    TR_df_daily_new = pd.DataFrame(data=None, index=self.daily_calendar, columns=self.TR_df_daily_01.columns)\n",
    "    idx = pd.MultiIndex.from_product(iterables=[list(self.k_list), self.daily_calendar])\n",
    "    TR_df_daily_pnl_byfx = pd.DataFrame(data=None, index=idx, columns=self.currency_list)\n",
    "    \n",
    "    for d in list_to_do:\n",
    "        # Pnl of not expired trades\n",
    "        live_trades = (df_blotter['maturity'] >= d) & (df_blotter['trade_dt'] <= d)\n",
    "        time_delta_aux = (df_blotter.loc[live_trades, 'maturity'] - d)\n",
    "        df_blotter.loc[live_trades, 'ndays'] = time_delta_aux.astype('timedelta64[D]')\n",
    "        df_blotter['eval_date'] = d\n",
    "\n",
    "        col_fx = df_blotter.loc[live_trades, 'fx']\n",
    "        col_ndays = df_blotter.loc[live_trades, 'ndays']\n",
    "        col_eval = df_blotter.loc[live_trades, 'eval_date']\n",
    "        inputs = zip(col_fx, col_ndays, col_eval)\n",
    "        df_blotter.loc[live_trades, 'price_mtm'] = [self.daily_fwds_XXXUSD.loc[(fx, d), ndays] for fx, ndays, d in inputs]\n",
    "        df_blotter.loc[live_trades, 'pnl'] = (df_blotter.loc[live_trades, 'price_mtm'] -  df_blotter.loc[live_trades, 'traded_px']) * df_blotter.loc[live_trades, 'holding']\n",
    "\n",
    "        trades_till_now = (df_blotter['trade_dt'] <= d)\n",
    "        pnl_accum = df_blotter.loc[trades_till_now].groupby(by=['k', 'eval_date']).sum().loc[(self.k_list, d), 'pnl'].unstack(0).loc[d]\n",
    "        # Write Pnl\n",
    "        TR_df_daily_new.loc[d, self.k_list] = pnl_accum\n",
    "        lst_moedas = df_blotter.loc[trades_till_now].groupby(by=['k', 'eval_date', 'fx']).sum()['pnl'].unstack().columns\n",
    "        pnl_acum_fx = df_blotter.loc[trades_till_now].groupby(by=['k', 'eval_date', 'fx']).sum()['pnl'].unstack()\n",
    "        TR_df_daily_pnl_byfx.loc[(self.k_list, d), lst_moedas] = pnl_acum_fx\n",
    "    return TR_df_daily_new, TR_df_daily_pnl_byfx"
   ]
  },
  {
   "cell_type": "code",
   "execution_count": null,
   "metadata": {},
   "outputs": [],
   "source": [
    "df_blotter = pd.read_excel(r'C:\\Curvytrade\\data_ALL\\01_Blotter.xlsx')\n",
    "list_dates = self.daily_calendar[22:]\n",
    "TR_df_daily, TR_df_daily_fx = calculate_daily_pnl(dates=list_dates, df_blotter=df_blotter)\n",
    "TR_df_daily.to_excel(r'C:\\Curvytrade\\data_ALL\\01_TR_Daily.xlsx')\n",
    "TR_df_daily_fx.to_excel(r'C:\\Curvytrade\\data_ALL\\01_TR_DailyFX.xlsx')"
   ]
  },
  {
   "cell_type": "code",
   "execution_count": null,
   "metadata": {},
   "outputs": [],
   "source": [
    "df_blotter = pd.read_excel(r'C:\\Curvytrade\\data_ALL\\04_Blotter.xlsx')\n",
    "list_dates = self.daily_calendar[22:]\n",
    "TR_df_daily_new, TR_df_daily_pnl_byfx = calculate_daily_pnl(dates=list_dates, df_blotter=df_blotter)\n",
    "TR_df_daily_new.to_excel(r'C:\\Curvytrade\\data_ALL\\04_TR_Daily.xlsx')\n",
    "TR_df_daily_pnl_byfx.to_excel(r'C:\\Curvytrade\\data_ALL\\04_TR_DailyFX.xlsx')"
   ]
  },
  {
   "cell_type": "code",
   "execution_count": null,
   "metadata": {},
   "outputs": [],
   "source": [
    "self.TR_df_daily_01 = pd.read_excel(r'C:\\Curvytrade\\data_ALL\\01_TR_Daily.xlsx')"
   ]
  },
  {
   "cell_type": "code",
   "execution_count": null,
   "metadata": {},
   "outputs": [],
   "source": [
    "list_dates = self.daily_calendar[22:]\n",
    "for i in range(1, 11):\n",
    "    strat_string = \"{:02}\".format(i)\n",
    "    df_blotter = pd.read_excel(self.data_folder + \"\\\\\" + strat_string + \"_Blotter.xlsx\")\n",
    "    [TR_df_daily, TR_df_daily_fx] = calculate_daily_pnl(dates=list_dates, df_blotter=df_blotter)\n",
    "    TR_df_daily.to_excel(self.data_folder + \"\\\\\" + strat_string +  \"_TR_Daily.xlsx\")\n",
    "    TR_df_daily_fx.to_excel(self.data_folder + \"\\\\\" + strat_string +  \"_TR_DailyFX.xlsx\")"
   ]
  },
  {
   "cell_type": "code",
   "execution_count": null,
   "metadata": {
    "scrolled": true
   },
   "outputs": [],
   "source": [
    "list_dates = self.daily_calendar[22:]\n",
    "for i in range(1, 11):\n",
    "    strat_string = \"{:02}\".format(i)\n",
    "    df_blotter = pd.read_excel(self.data_folder + \"\\\\\" + strat_string + \"_Blotter.xlsx\")\n",
    "    [TR_df_daily, TR_df_daily_fx] = calculate_daily_pnl(dates=list_dates, df_blotter=df_blotter)\n",
    "    TR_df_daily.to_excel(self.data_folder + \"\\\\\" + strat_string +  \"_TR_Daily.xlsx\")\n",
    "    TR_df_daily_fx.to_excel(self.data_folder + \"\\\\\" + strat_string +  \"_TR_DailyFX.xlsx\")"
   ]
  },
  {
   "cell_type": "code",
   "execution_count": null,
   "metadata": {},
   "outputs": [],
   "source": [
    "self.spot_last_XXXUSD.to_excel(r'data_ALL\\spot_last_XXXUSD.xlsx')"
   ]
  },
  {
   "cell_type": "code",
   "execution_count": null,
   "metadata": {},
   "outputs": [],
   "source": [
    "self.fwd_last_XXXUSD.to_excel(r'data_ALL\\fwd_last_XXXUSD.xlsx')"
   ]
  },
  {
   "cell_type": "code",
   "execution_count": null,
   "metadata": {},
   "outputs": [],
   "source": []
  },
  {
   "cell_type": "code",
   "execution_count": null,
   "metadata": {},
   "outputs": [],
   "source": [
    "from scipy.stats import skew\n",
    "skew(self.spot_last_XXXUSD.pct_change(1))"
   ]
  },
  {
   "cell_type": "code",
   "execution_count": null,
   "metadata": {
    "scrolled": true
   },
   "outputs": [],
   "source": [
    "self.spot_last_XXXUSD.pct_change(1)['AUD']"
   ]
  },
  {
   "cell_type": "code",
   "execution_count": null,
   "metadata": {},
   "outputs": [],
   "source": [
    "assimetria = [skew(self.spot_last_XXXUSD.pct_change(1)[fx].dropna()) for fx in self.currency_list]"
   ]
  },
  {
   "cell_type": "code",
   "execution_count": null,
   "metadata": {},
   "outputs": [],
   "source": [
    "pd.DataFrame(data=assimetria, index=self.currency_list).to_excel(r'data_ALL\\Assimetria.xlsx')"
   ]
  },
  {
   "cell_type": "code",
   "execution_count": null,
   "metadata": {},
   "outputs": [],
   "source": [
    "pd.DataFrame(data=assimetria, index=self.currency_list).plot(kind='bar', figsize=(12,8))"
   ]
  },
  {
   "cell_type": "code",
   "execution_count": null,
   "metadata": {},
   "outputs": [],
   "source": [
    "self.fwd_discount_last.mean().to_excel(r'data_ALL\\fwd_dsc_medio.xlsx')"
   ]
  },
  {
   "cell_type": "code",
   "execution_count": null,
   "metadata": {},
   "outputs": [],
   "source": [
    "self.spot_last_XXXUSD.loc[self.monthly_calendar]"
   ]
  },
  {
   "cell_type": "code",
   "execution_count": null,
   "metadata": {},
   "outputs": [],
   "source": [
    "spot_mensal_xxxusd = self.spot_last_XXXUSD.loc[self.monthly_calendar]"
   ]
  },
  {
   "cell_type": "code",
   "execution_count": null,
   "metadata": {},
   "outputs": [],
   "source": [
    "spot_mensal_xxxusd = spot_mensal_xxxusd.loc['2004':]"
   ]
  },
  {
   "cell_type": "code",
   "execution_count": null,
   "metadata": {},
   "outputs": [],
   "source": [
    "spot_mensal_xxxusd.to_excel(r'data_ALL\\spot_mensal_xxxusd.xlsx')"
   ]
  },
  {
   "cell_type": "code",
   "execution_count": null,
   "metadata": {
    "scrolled": true
   },
   "outputs": [],
   "source": [
    "spot_mensal_xxxusd.pct_change(1)"
   ]
  },
  {
   "cell_type": "code",
   "execution_count": null,
   "metadata": {},
   "outputs": [],
   "source": [
    "assimetria_mensal = pd.DataFrame(data=[(skew(spot_mensal_xxxusd.pct_change(1)[fx].dropna())) for fx in self.currency_list], index=self.currency_list, columns=['skew'])"
   ]
  },
  {
   "cell_type": "code",
   "execution_count": null,
   "metadata": {},
   "outputs": [],
   "source": [
    "assimetria_mensal"
   ]
  },
  {
   "cell_type": "code",
   "execution_count": null,
   "metadata": {},
   "outputs": [],
   "source": [
    "assimetria_mensal.to_excel(r'data_ALL\\assimetria_mensal.xlsx')"
   ]
  },
  {
   "cell_type": "code",
   "execution_count": null,
   "metadata": {},
   "outputs": [],
   "source": [
    "fwd_discount_mensal = self.fwd_discount_last.loc[self.monthly_calendar].loc['2004':]"
   ]
  },
  {
   "cell_type": "code",
   "execution_count": null,
   "metadata": {},
   "outputs": [],
   "source": [
    "fwd_discount_mensal.mean().to_excel(r'media_fwd_discount_mensal.xlsx')"
   ]
  },
  {
   "cell_type": "code",
   "execution_count": null,
   "metadata": {},
   "outputs": [],
   "source": [
    "media_fwd_discount_mensal = fwd_discount_mensal.mean()"
   ]
  },
  {
   "cell_type": "code",
   "execution_count": null,
   "metadata": {},
   "outputs": [],
   "source": [
    "fwd_discount_mensal.to_excel(r'data_ALL\\fwd_discount_mensal.xlsx')"
   ]
  },
  {
   "cell_type": "code",
   "execution_count": null,
   "metadata": {},
   "outputs": [],
   "source": [
    "media_fwd_discount_mensal"
   ]
  },
  {
   "cell_type": "code",
   "execution_count": null,
   "metadata": {},
   "outputs": [],
   "source": [
    "assimetria_fwd = assimetria_mensal"
   ]
  },
  {
   "cell_type": "code",
   "execution_count": null,
   "metadata": {},
   "outputs": [],
   "source": [
    "assimetria_fwd['fwd_dsc'] = media_fwd_discount_mensal"
   ]
  },
  {
   "cell_type": "code",
   "execution_count": null,
   "metadata": {},
   "outputs": [],
   "source": [
    "assimetria_fwd.dropna(inplace=True)"
   ]
  },
  {
   "cell_type": "code",
   "execution_count": null,
   "metadata": {},
   "outputs": [],
   "source": [
    "assimetria_fwd"
   ]
  },
  {
   "cell_type": "code",
   "execution_count": null,
   "metadata": {},
   "outputs": [],
   "source": [
    "assimetria_fwd.plot(kind='scatter', x='fwd_dsc', y='skew')"
   ]
  },
  {
   "cell_type": "code",
   "execution_count": null,
   "metadata": {},
   "outputs": [],
   "source": [
    "y = list(assimetria_fwd['skew'])\n",
    "z = list(assimetria_fwd['fwd_dsc'])\n",
    "n = list(assimetria_fwd.index)\n",
    "\n",
    "fig, ax = plt.subplots()\n",
    "ax.scatter(z, y)\n",
    "\n",
    "for i, txt in enumerate(n):\n",
    "    ax.annotate(txt, (z[i], y[i]))"
   ]
  },
  {
   "cell_type": "code",
   "execution_count": null,
   "metadata": {},
   "outputs": [],
   "source": [
    "y = list(assimetria_fwd['skew'])\n",
    "z = list(assimetria_fwd['fwd_dsc']*100)\n",
    "n = list(assimetria_fwd.index)\n",
    "\n",
    "fig, ax = plt.subplots(figsize=(12,8))\n",
    "ax.scatter(z, y)\n",
    "plt.plot(np.unique(z), np.poly1d(np.polyfit(z, y, 1))(np.unique(z)))\n",
    "ax.set_ylabel('Assimetria', fontsize=13)\n",
    "ax.set_xlabel('Forward premium', fontsize=13)\n",
    "for i, txt in enumerate(n):\n",
    "    ax.annotate(txt, (z[i], y[i]), textcoords=\"offset points\", xytext=(5,-4))"
   ]
  },
  {
   "cell_type": "code",
   "execution_count": null,
   "metadata": {},
   "outputs": [],
   "source": [
    "len(assimetria_fwd.index)"
   ]
  },
  {
   "cell_type": "code",
   "execution_count": null,
   "metadata": {},
   "outputs": [],
   "source": [
    "y = list(assimetria_fwd['skew'])\n",
    "z = list(assimetria_fwd['fwd_dsc']*100)\n",
    "n = list(assimetria_fwd.index)\n",
    "\n",
    "fig, ax = plt.subplots(figsize=(12,8))\n",
    "ax.scatter(z, y)\n",
    "plt.plot(np.unique(z), np.poly1d(np.polyfit(z, y, 1))(np.unique(z)))\n",
    "ax.set_ylabel('Assimetria', fontsize=14)\n",
    "ax.set_xlabel('Forward premium', fontsize=14)\n",
    "plt.rc('ytick', labelsize=12)\n",
    "plt.rc('xtick', labelsize=12)\n",
    "\n",
    "for i, txt in enumerate(n):\n",
    "    if txt == 'HKD':\n",
    "        ax.annotate(txt, (z[i], y[i]), textcoords=\"offset points\", xytext=(5,-4), fontsize=13)\n",
    "    elif txt == 'JPY':\n",
    "        ax.annotate(txt, (z[i], y[i]), textcoords=\"offset points\", xytext=(-9,-17), fontsize=13)\n",
    "    elif txt == 'CAD':\n",
    "        ax.annotate(txt, (z[i], y[i]), textcoords=\"offset points\", xytext=(0,-13), fontsize=13)\n",
    "    else:\n",
    "        ax.annotate(txt, (z[i], y[i]), textcoords=\"offset points\", xytext=(-12,8), fontsize=13)\n",
    "plt.show()"
   ]
  },
  {
   "cell_type": "code",
   "execution_count": null,
   "metadata": {
    "scrolled": false
   },
   "outputs": [],
   "source": [
    "y = list(assimetria_fwd.loc[self.currency_list_DM, 'skew'].dropna())\n",
    "z = list(assimetria_fwd.loc[self.currency_list_DM, 'fwd_dsc'].dropna()*100)\n",
    "n = list(assimetria_fwd.loc[self.currency_list_DM, 'fwd_dsc'].dropna().index)\n",
    "\n",
    "fig, ax = plt.subplots(figsize=(10,7))\n",
    "ax.scatter(z, y)\n",
    "plt.plot(np.unique(z), np.poly1d(np.polyfit(z, y, 1))(np.unique(z)))\n",
    "plt.rc('ytick', labelsize=14)    # fontsize of the tick labels\n",
    "ax.set_ylabel('Assimetria', fontsize='large')\n",
    "ax.set_xlabel('Forward premium', fontsize='large')\n",
    "\n",
    "for i, txt in enumerate(n):\n",
    "    ax.annotate(txt, (z[i], y[i]), textcoords=\"offset points\", xytext=(5,-4))"
   ]
  },
  {
   "cell_type": "code",
   "execution_count": null,
   "metadata": {},
   "outputs": [],
   "source": []
  },
  {
   "cell_type": "code",
   "execution_count": null,
   "metadata": {},
   "outputs": [],
   "source": []
  },
  {
   "cell_type": "code",
   "execution_count": null,
   "metadata": {},
   "outputs": [],
   "source": []
  },
  {
   "cell_type": "code",
   "execution_count": null,
   "metadata": {},
   "outputs": [],
   "source": [
    "y = [2.56422, 3.77284, 3.52623, 3.51468, 3.02199]\n",
    "z = [0.15, 0.3, 0.45, 0.6, 0.75]\n",
    "n = [58, 651, 393, 203, 123]\n",
    "\n",
    "fig, ax = plt.subplots()\n",
    "ax.scatter(z, y)\n",
    "plt.plot(np.unique(z), np.poly1d(np.polyfit(z, y, 1))(np.unique(z)))\n",
    "for i, txt in enumerate(n):\n",
    "    ax.annotate(txt, (z[i], y[i]))"
   ]
  },
  {
   "cell_type": "code",
   "execution_count": null,
   "metadata": {},
   "outputs": [],
   "source": [
    "assimetria_fwd['fwd_dsc']"
   ]
  },
  {
   "cell_type": "code",
   "execution_count": null,
   "metadata": {},
   "outputs": [],
   "source": [
    "self.interest_curve.loc['BRL'].loc['2019-07-02']"
   ]
  },
  {
   "cell_type": "code",
   "execution_count": null,
   "metadata": {},
   "outputs": [],
   "source": [
    "self.interest_curve.loc['USD'].loc['2019-07-02']"
   ]
  },
  {
   "cell_type": "code",
   "execution_count": null,
   "metadata": {},
   "outputs": [],
   "source": [
    "self.interest_curve.loc['BRL'].loc['2019-07-02'][1]"
   ]
  },
  {
   "cell_type": "code",
   "execution_count": null,
   "metadata": {},
   "outputs": [],
   "source": [
    "self.interest_curve.loc['USD'].loc['2019-07-02'][1]"
   ]
  },
  {
   "cell_type": "code",
   "execution_count": null,
   "metadata": {},
   "outputs": [],
   "source": [
    "self.interest_curve.loc['BRL'].loc['2019-07-02'][1] - self.interest_curve.loc['USD'].loc['2019-07-02'][1]"
   ]
  },
  {
   "cell_type": "code",
   "execution_count": null,
   "metadata": {},
   "outputs": [],
   "source": [
    "self.fwd_discount_last.loc['2019-07-02']['BRL'] * 100"
   ]
  },
  {
   "cell_type": "code",
   "execution_count": null,
   "metadata": {},
   "outputs": [],
   "source": []
  },
  {
   "cell_type": "markdown",
   "metadata": {},
   "source": [
    "## Data for daily P&L"
   ]
  },
  {
   "cell_type": "code",
   "execution_count": null,
   "metadata": {},
   "outputs": [],
   "source": [
    "self.run_strategy12_for_all_fx()"
   ]
  },
  {
   "cell_type": "code",
   "execution_count": null,
   "metadata": {},
   "outputs": [],
   "source": []
  },
  {
   "cell_type": "code",
   "execution_count": null,
   "metadata": {},
   "outputs": [],
   "source": [
    "df_blotter = pd.read_excel(r'C:\\Curvytrade\\data_ALL\\11_Blotter.xlsx')"
   ]
  },
  {
   "cell_type": "code",
   "execution_count": null,
   "metadata": {},
   "outputs": [],
   "source": [
    "[self.TR_df_daily_11, self.TR_df_daily_fx_11] = self.calculate_daily_pnl(df_blotter)"
   ]
  },
  {
   "cell_type": "code",
   "execution_count": null,
   "metadata": {},
   "outputs": [],
   "source": [
    "strategy_n = 11\n",
    "name_start = self.data_folder + \"\\\\\" + \"{:02}\".format(strategy_n) + '_'"
   ]
  },
  {
   "cell_type": "code",
   "execution_count": null,
   "metadata": {},
   "outputs": [],
   "source": [
    "self.TR_df_daily_fx_11 + 100"
   ]
  }
 ],
 "metadata": {
  "kernelspec": {
   "display_name": "Python 3",
   "language": "python",
   "name": "python3"
  },
  "language_info": {
   "codemirror_mode": {
    "name": "ipython",
    "version": 3
   },
   "file_extension": ".py",
   "mimetype": "text/x-python",
   "name": "python",
   "nbconvert_exporter": "python",
   "pygments_lexer": "ipython3",
   "version": "3.7.1"
  }
 },
 "nbformat": 4,
 "nbformat_minor": 2
}
