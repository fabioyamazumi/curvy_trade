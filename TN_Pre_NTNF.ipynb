{
 "cells": [
  {
   "cell_type": "code",
   "execution_count": 1,
   "metadata": {},
   "outputs": [],
   "source": [
    "from selenium import webdriver\n",
    "import time\n",
    "from bs4 import BeautifulSoup\n",
    "import pandas as pd\n",
    "import glob\n",
    "import os\n",
    "import requests\n",
    "from shutil import copyfile\n",
    "import re\n",
    "import tabula\n",
    "import random"
   ]
  },
  {
   "cell_type": "raw",
   "metadata": {},
   "source": [
    "Baixar o chromedriver: http://chromedriver.chromium.org/downloads\n",
    "https://sites.google.com/a/chromium.org/chromedriver/home"
   ]
  },
  {
   "cell_type": "code",
   "execution_count": 2,
   "metadata": {},
   "outputs": [],
   "source": [
    "# data_consulta = \"07/01/2021\"\n",
    "data_consulta = \"21/01/2021\""
   ]
  },
  {
   "cell_type": "code",
   "execution_count": 3,
   "metadata": {},
   "outputs": [],
   "source": [
    "CHROMEDRIVER = r'D:\\\\Dropbox\\\\FYY\\\\Trading\\\\Projects\\\\Chromedriver\\\\chromedriver.exe'"
   ]
  },
  {
   "cell_type": "raw",
   "metadata": {},
   "source": [
    "options = webdriver.ChromeOptions()\n",
    "tgt = r\"C\\\\Users\\\\fyyamazumi\\\\Downloads\\\\\"\n",
    "profile = {\"plugins.plugins_list\":[{\"enabled\":False, \"name\":\"Chrome PDF Viewer\"}], \"download.default_directory\":tgt}\n",
    "options.add_experimental_option(\"prefs\", profile)\n",
    "browser = webdriver.Chrome(CHROMEDRIVER, options=options)"
   ]
  },
  {
   "cell_type": "code",
   "execution_count": 4,
   "metadata": {},
   "outputs": [],
   "source": [
    "options = webdriver.ChromeOptions()\n",
    "tgt = r\"C\\\\Users\\\\fyyamazumi\\\\Downloads\\\\\"\n",
    "# profile = {\"plugins.plugins_list\":[{\"enabled\":False, \"name\":\"Chrome PDF Viewer\"}], \"download.default_directory\":tgt}\n",
    "profile = {\"plugins.plugins_disabled\": [\"Chrome PDF Viewer\"], \"download.default_directory\":tgt, \"plugins.always_open_pdf_externally\": True}\n",
    "options.add_experimental_option(\"prefs\", profile)\n",
    "browser = webdriver.Chrome(CHROMEDRIVER, options=options)"
   ]
  },
  {
   "cell_type": "raw",
   "metadata": {},
   "source": [
    "# browser = webdriver.Chrome(r'D:\\\\Dropbox\\\\FYY\\\\Trading\\\\Projects\\\\Chromedriver\\\\chromedriver.exe')"
   ]
  },
  {
   "cell_type": "code",
   "execution_count": 5,
   "metadata": {},
   "outputs": [],
   "source": [
    "browser.implicitly_wait(200)"
   ]
  },
  {
   "cell_type": "code",
   "execution_count": 6,
   "metadata": {},
   "outputs": [],
   "source": [
    "url = \"https://sisweb.tesouro.gov.br/apex/f?p=2501:2::::2::&minimal=full&font=opensans\"\n",
    "# url2 = \"https://sisweb.tesouro.gov.br/apex/f?p=2501:2::::2::\""
   ]
  },
  {
   "cell_type": "code",
   "execution_count": 7,
   "metadata": {},
   "outputs": [],
   "source": [
    "browser.get(url)"
   ]
  },
  {
   "cell_type": "code",
   "execution_count": 8,
   "metadata": {},
   "outputs": [],
   "source": [
    "time.sleep(1)"
   ]
  },
  {
   "cell_type": "code",
   "execution_count": 9,
   "metadata": {},
   "outputs": [],
   "source": [
    "from selenium.webdriver.common.keys import Keys"
   ]
  },
  {
   "cell_type": "code",
   "execution_count": 10,
   "metadata": {},
   "outputs": [
    {
     "name": "stdout",
     "output_type": "stream",
     "text": [
      "26/01/2021\n",
      "Nota do Tesouro Nacional série B (NTN-B)\n",
      "Resultado do Leilão\n"
     ]
    }
   ],
   "source": [
    "content = browser.page_source\n",
    "soup = BeautifulSoup(content)\n",
    "links = soup.find_all(\"a\", text='Download')\n",
    "table = soup.find_all(\"table\")\n",
    "df = pd.read_html(str(table))[2]\n",
    "print(df.iloc[1,6])\n",
    "print(df.iloc[1,2])\n",
    "print(df.iloc[1,1])"
   ]
  },
  {
   "cell_type": "code",
   "execution_count": 11,
   "metadata": {},
   "outputs": [],
   "source": [
    "def checa_data_escolhida(browser, string_dia_escolhido, str_tipo, str_papel_escolhido = 'Letra do Tesouro Nacional (LTN)'):\n",
    "    disponivel = False\n",
    "    content = browser.page_source\n",
    "    soup = BeautifulSoup(content)\n",
    "    table = soup.find_all(\"table\")\n",
    "    df = pd.read_html(str(table))[2]\n",
    "#     data_site = df.iloc[1,6] #data\n",
    "#     print(df.iloc[1,2]) #papel\n",
    "#     print(df.iloc[1,1]) #portaria\n",
    "    contador = 0\n",
    "    while contador <=9:\n",
    "        if df.iloc[contador, 6] == string_dia_escolhido: #data\n",
    "            if df.iloc[contador, 2] == str_papel_escolhido: #papel\n",
    "                if df.iloc[contador, 1] == str_tipo: #tipo do documento\n",
    "                    disponivel = True\n",
    "                    break\n",
    "        contador+=1\n",
    "    return disponivel, contador"
   ]
  },
  {
   "cell_type": "code",
   "execution_count": 12,
   "metadata": {},
   "outputs": [],
   "source": [
    "def latest_modified_file(Caminho_Pasta):\n",
    "    list_of_files = glob.glob(Caminho_Pasta + '*')  # * means all if need specific format then *.csv\n",
    "    latest_file = max(list_of_files, key=os.path.getctime)\n",
    "    return latest_file"
   ]
  },
  {
   "cell_type": "code",
   "execution_count": 13,
   "metadata": {},
   "outputs": [],
   "source": [
    "def get_link_pdf_from_internal_frame(browser, frame_position=0):\n",
    "    content = browser.page_source\n",
    "    soup = BeautifulSoup(content)\n",
    "    frames = soup.find_all(\"frame\")\n",
    "    link_pdf = frames[0].get('src')\n",
    "    return link_pdf"
   ]
  },
  {
   "cell_type": "code",
   "execution_count": 14,
   "metadata": {},
   "outputs": [],
   "source": [
    "def read_pdf_portaria(filename_pdf, papel=\"LTN\", file_dv_unit=r\"D:\\Dropbox\\FYY\\Trading\\Projects\\TN_Leiloes\\DV_unit.csv\"):\n",
    "    # Read pdf into DataFrame\n",
    "    list_dfs_pdf = tabula.read_pdf(input_path=filename_pdf, multiple_tables=True)\n",
    "    df_aux = list_dfs_pdf[0] # Work on first table\n",
    "    df_papel = df_aux.loc[df_aux[\"Unnamed: 0\"] == papel]\n",
    "    df_papel = df_papel.rename(columns={\"Unnamed: 0\": \"Titulo\", \"Unnamed: 1\": \"Cod\", \"Unnamed: 2\": \"Vcto\", \"Data base\": \"Index\", \"VN na data-\": \"VN\", \"Quantidade\": \"Qtd_mm\"})\n",
    "    df_papel = df_papel.drop(columns=['Cod','Index', 'VN', 'Juros'])\n",
    "    df_papel = df_papel.set_index(keys=['Vcto'])\n",
    "    df_papel[\"Qtd_mm\"] = [float(x.replace(\".\", \"\")) for x in df_papel[\"Qtd_mm\"]]\n",
    "    df_papel['Qtd_mm'] = df_papel['Qtd_mm'] / 1000000.0\n",
    "    df_papel['DV K'] = 0.0\n",
    "    df_dv_unit = pd.read_csv(file_dv_unit, delimiter=\";\", decimal=\",\", index_col=0)\n",
    "    dv_unit = df_dv_unit.loc[df_papel.index]['DV unit']\n",
    "    df_papel[\"DV K\"] = df_papel[\"Qtd_mm\"] * dv_unit * 1000.0\n",
    "    # If not issued for public, zero\n",
    "    df_papel.loc[df_papel['Adquirente'] != \"Público\", \"DV K\"] = 0.0\n",
    "    return df_papel"
   ]
  },
  {
   "cell_type": "code",
   "execution_count": 15,
   "metadata": {},
   "outputs": [
    {
     "data": {
      "text/plain": [
       "(True, 4)"
      ]
     },
     "execution_count": 15,
     "metadata": {},
     "output_type": "execute_result"
    }
   ],
   "source": [
    "checa_data_escolhida(browser, data_consulta, \"Portaria\", 'Nota do Tesouro Nacional série F (NTN-F)')"
   ]
  },
  {
   "cell_type": "code",
   "execution_count": 16,
   "metadata": {},
   "outputs": [
    {
     "data": {
      "text/plain": [
       "(True, 7)"
      ]
     },
     "execution_count": 16,
     "metadata": {},
     "output_type": "execute_result"
    }
   ],
   "source": [
    "checa_data_escolhida(browser, data_consulta, \"Resultado do Leilão\", 'Nota do Tesouro Nacional série F (NTN-F)')"
   ]
  },
  {
   "cell_type": "code",
   "execution_count": 17,
   "metadata": {},
   "outputs": [],
   "source": [
    "links = soup.find_all(\"a\", text='Download')"
   ]
  },
  {
   "cell_type": "code",
   "execution_count": 18,
   "metadata": {},
   "outputs": [],
   "source": [
    "resultado_LTN = checa_data_escolhida(browser, data_consulta, \"Portaria\", \"Letra do Tesouro Nacional (LTN)\")\n",
    "resultado_NTNF = checa_data_escolhida(browser, data_consulta, \"Portaria\", \"Nota do Tesouro Nacional série F (NTN-F)\")"
   ]
  },
  {
   "cell_type": "code",
   "execution_count": 19,
   "metadata": {},
   "outputs": [],
   "source": [
    "def procurar_ultimo_arquivo(pasta_procurar, string_procurar):\n",
    "    # se string for localizada no nome do ultimo arquivo modificado, o find retorna a posição, caso contrário retorna -1.\n",
    "    localizado = latest_modified_file(pasta_procurar).find(string_procurar) > 0\n",
    "    return localizado"
   ]
  },
  {
   "cell_type": "code",
   "execution_count": 20,
   "metadata": {},
   "outputs": [],
   "source": [
    "def get_pdf_portaria(browser, link_position, pdf_filename=\"D:\\\\Dropbox\\\\FYY\\\\Trading\\\\Projects\\\\TN_Leiloes\\\\LTN.pdf\", search_for_str=\"Portaria\"):\n",
    "    \"\"\"\n",
    "    link_position:\n",
    "        usar resultado_LTN[1] ou resultado_NTNF[1]\n",
    "    \"\"\"\n",
    "    # 1. obtem o URL da portaria (uma pagina que tem um frame com PDF embutido dentro)\n",
    "    url_Portaria = links[link_position].get('href')\n",
    "    browser.get(url_Portaria)\n",
    "    # 2. obtem o URL do PDF dentro do frame embutido na página\n",
    "    link_pdf_portaria = get_link_pdf_from_internal_frame(browser)\n",
    "    print(str(link_pdf_portaria))\n",
    "    # 3. Faz o download do PDF na pasta downloads (default definido nas opçoes do browser)\n",
    "    browser.get(link_pdf_portaria) \n",
    "    # 4. Salva o arquivo gerado numa pasta especificada\n",
    "    # 4.1 Localiza o arquivo salvo na pasta downloads\n",
    "    usuario = os.environ['USERNAME']\n",
    "    src_path = \"C:\\\\users\\\\\" + usuario + \"\\\\Downloads\\\\\"\n",
    "    str_Procurar = search_for_str #procura arquivo com esta string no nome\n",
    "    time.sleep(1)\n",
    "    while procurar_ultimo_arquivo(src_path, str_Procurar) == False:\n",
    "        time.sleep(1)\n",
    "    if procurar_ultimo_arquivo(src_path, str_Procurar):\n",
    "        src = latest_modified_file(src_path)\n",
    "        print(src)\n",
    "#         dst = \"C:\\\\Users\\\\\" + usuario + \"\\\\Documents\\\\My_Projects\\\\Projetos\\\\TN_Leilao\\\\LTN.pdf\"\n",
    "        dst = pdf_filename\n",
    "        print(dst)\n",
    "        copyfile(src, dst)\n",
    "        time.sleep(1)\n",
    "        #Deleta arquivo da pasta downloads\n",
    "        os.remove(src)\n",
    "        print(\"File Removed from Downloads!\")"
   ]
  },
  {
   "cell_type": "markdown",
   "metadata": {},
   "source": [
    "### Repetidor"
   ]
  },
  {
   "cell_type": "markdown",
   "metadata": {},
   "source": [
    "```Python\n",
    "LTN_OK = False\n",
    "NTNF_OK = False\n",
    "# Condition to loop\n",
    "not(NTNF_OK) or not(LTN_OK)\n",
    "```"
   ]
  },
  {
   "cell_type": "code",
   "execution_count": 21,
   "metadata": {},
   "outputs": [],
   "source": [
    "LTN_OK = False\n",
    "NTNF_OK = False"
   ]
  },
  {
   "cell_type": "code",
   "execution_count": 22,
   "metadata": {},
   "outputs": [
    {
     "name": "stdout",
     "output_type": "stream",
     "text": [
      "https://cdn.tesouro.gov.br/sistemas-internos///apex//producao//sistemas//thot//arquivos//publicacoes/36886_1204209///1b. Portaria 658.pdf?v=2809\n",
      "C:\\users\\Windows\\Downloads\\1b. Portaria 658.pdf\n",
      "D:\\Dropbox\\FYY\\Trading\\Projects\\TN_Leiloes\\NTNF.pdf\n"
     ]
    },
    {
     "name": "stderr",
     "output_type": "stream",
     "text": [
      "'pages' argument isn't specified.Will extract only from page 1 by default.\n"
     ]
    },
    {
     "name": "stdout",
     "output_type": "stream",
     "text": [
      "File Removed from Downloads!\n",
      "NTNF OK!!\n"
     ]
    }
   ],
   "source": [
    "random.seed(a=5)\n",
    "\n",
    "while not(NTNF_OK):\n",
    "    botao_pesquisar = browser.find_elements_by_xpath(\"//button[@id='botao-pesquisar']\")\n",
    "    botao_pesquisar[0].click()\n",
    "    content = browser.page_source\n",
    "    soup = BeautifulSoup(content)\n",
    "    links = soup.find_all(\"a\", text='Download')\n",
    "#     resultado_LTN = checa_data_escolhida(browser, data_consulta, \"Portaria\", \"Letra do Tesouro Nacional (LTN)\")\n",
    "    resultado_NTNF = checa_data_escolhida(browser, data_consulta, \"Portaria\", \"Nota do Tesouro Nacional série F (NTN-F)\")\n",
    "\n",
    "    time.sleep(1.5 + random.random())\n",
    "#     if resultado_LTN[0] and not(LTN_OK):\n",
    "#         LTN_pdf_filename = \"D:\\\\Dropbox\\\\FYY\\\\Trading\\\\Projects\\\\TN_Leiloes\\\\LTN.pdf\"\n",
    "#         get_pdf_portaria(browser=browser, \n",
    "#                          link_position=resultado_LTN[1], \n",
    "#                          pdf_filename=LTN_pdf_filename, \n",
    "#                          search_for_str=\"Portaria\")\n",
    "#         # Read PDF content\n",
    "#         df_LTN = read_pdf_portaria(filename_pdf=LTN_pdf_filename, papel=\"LTN\", file_dv_unit=r\"D:\\Dropbox\\FYY\\Trading\\Projects\\TN_Leiloes\\DV_unit.csv\")\n",
    "#         # Export df\n",
    "#         df_LTN.to_csv('df_LTN.csv', sep=\";\", decimal=\",\", encoding=\"ANSI\")\n",
    "#         LTN_OK = True\n",
    "#         browser.get(url)\n",
    "#         browser.get(url)\n",
    "    \n",
    "    if resultado_NTNF[0] and not (NTNF_OK):\n",
    "        NTNF_pdf_filename = \"D:\\\\Dropbox\\\\FYY\\\\Trading\\\\Projects\\\\TN_Leiloes\\\\NTNF.pdf\"\n",
    "        get_pdf_portaria(browser=browser, \n",
    "                         link_position=resultado_NTNF[1], \n",
    "                         pdf_filename=NTNF_pdf_filename, \n",
    "                         search_for_str=\"Portaria\")\n",
    "        # Read PDF content\n",
    "        df_NTNF = read_pdf_portaria(filename_pdf=NTNF_pdf_filename, papel=\"NTN-F\", file_dv_unit=r\"D:\\Dropbox\\FYY\\Trading\\Projects\\TN_Leiloes\\DV_unit.csv\")\n",
    "        # Export df\n",
    "        df_NTNF.to_csv('df_NTNF.csv', sep=\";\", decimal=\",\", encoding=\"ANSI\")\n",
    "        NTNF_OK = True\n",
    "        browser.get(url)\n",
    "        browser.get(url)\n",
    "print(\"NTNF OK!!\")"
   ]
  },
  {
   "cell_type": "code",
   "execution_count": 23,
   "metadata": {},
   "outputs": [],
   "source": [
    "browser.quit()"
   ]
  },
  {
   "cell_type": "code",
   "execution_count": null,
   "metadata": {},
   "outputs": [],
   "source": []
  },
  {
   "cell_type": "code",
   "execution_count": null,
   "metadata": {},
   "outputs": [],
   "source": []
  },
  {
   "cell_type": "code",
   "execution_count": null,
   "metadata": {},
   "outputs": [],
   "source": []
  }
 ],
 "metadata": {
  "kernelspec": {
   "display_name": "Python 3",
   "language": "python",
   "name": "python3"
  },
  "language_info": {
   "codemirror_mode": {
    "name": "ipython",
    "version": 3
   },
   "file_extension": ".py",
   "mimetype": "text/x-python",
   "name": "python",
   "nbconvert_exporter": "python",
   "pygments_lexer": "ipython3",
   "version": "3.7.1"
  }
 },
 "nbformat": 4,
 "nbformat_minor": 2
}
