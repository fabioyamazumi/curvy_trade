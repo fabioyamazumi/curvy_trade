{
 "cells": [
  {
   "cell_type": "markdown",
   "metadata": {},
   "source": [
    "# Teste moedas EM"
   ]
  },
  {
   "cell_type": "markdown",
   "metadata": {},
   "source": [
    "#### Dados:\n",
    "- curvy_tracker8"
   ]
  },
  {
   "cell_type": "markdown",
   "metadata": {},
   "source": [
    "#### Melhorias v7:\n",
    "- a pasta default é alterável (atributo data_folder)\n",
    "- USD index (all FX, EM_FX e DM/G10_FX). Salva resultado no XL e foi incluido no construtor.\n",
    "- Especificação do exception dos comandos try (FileNotFound)"
   ]
  },
  {
   "cell_type": "markdown",
   "metadata": {},
   "source": [
    "#### Melhorias v8:\n",
    "- correcao da matriz de chg price diaria"
   ]
  },
  {
   "cell_type": "code",
   "execution_count": 24,
   "metadata": {},
   "outputs": [],
   "source": [
    "import time\n",
    "import pandas as pd\n",
    "import numpy as np\n",
    "from tqdm import tqdm"
   ]
  },
  {
   "cell_type": "code",
   "execution_count": 2,
   "metadata": {},
   "outputs": [],
   "source": [
    "import curvy_tracker9"
   ]
  },
  {
   "cell_type": "code",
   "execution_count": 3,
   "metadata": {
    "scrolled": true
   },
   "outputs": [],
   "source": [
    "self = curvy_tracker9.CurvyTrade(k_max=7)"
   ]
  },
  {
   "cell_type": "markdown",
   "metadata": {},
   "source": [
    "#### Data Folder"
   ]
  },
  {
   "cell_type": "code",
   "execution_count": 4,
   "metadata": {},
   "outputs": [],
   "source": [
    "self.data_folder = 'data_EM'"
   ]
  },
  {
   "cell_type": "markdown",
   "metadata": {},
   "source": [
    "#### Só usar PX last"
   ]
  },
  {
   "cell_type": "code",
   "execution_count": 5,
   "metadata": {},
   "outputs": [],
   "source": [
    "self.bbg_field_ask = self.bbg_field_last\n",
    "self.bbg_field_bid = self.bbg_field_last"
   ]
  },
  {
   "cell_type": "markdown",
   "metadata": {},
   "source": [
    "#### Moedas:"
   ]
  },
  {
   "cell_type": "code",
   "execution_count": 6,
   "metadata": {},
   "outputs": [
    {
     "name": "stdout",
     "output_type": "stream",
     "text": [
      "['AUD', 'CAD', 'CHF', 'DEM', 'EUR', 'GBP', 'JPY', 'NOK', 'NZD', 'SEK', 'BRL', 'CLP', 'COP', 'MXN', 'CZK', 'HUF', 'PLN', 'TRY', 'RUB', 'INR', 'HKD', 'KRW', 'SGD', 'TWD', 'ZAR']\n"
     ]
    }
   ],
   "source": [
    "print(self.currency_list)"
   ]
  },
  {
   "cell_type": "code",
   "execution_count": 7,
   "metadata": {},
   "outputs": [
    {
     "name": "stdout",
     "output_type": "stream",
     "text": [
      "['BRL', 'CLP', 'COP', 'MXN', 'CZK', 'HUF', 'PLN', 'TRY', 'RUB', 'INR', 'HKD', 'KRW', 'SGD', 'TWD', 'ZAR']\n"
     ]
    }
   ],
   "source": [
    "self.currency_list = self.build_currency_list_EM()\n",
    "print(self.currency_list)"
   ]
  },
  {
   "cell_type": "code",
   "execution_count": 8,
   "metadata": {},
   "outputs": [
    {
     "name": "stdout",
     "output_type": "stream",
     "text": [
      "['BRL', 'CLP', 'COP', 'MXN', 'CZK', 'HUF', 'PLN', 'TRY', 'RUB', 'INR', 'HKD', 'KRW', 'SGD', 'TWD', 'ZAR', 'USD']\n"
     ]
    }
   ],
   "source": [
    "list_currency_list_curve = list(self.currency_list)\n",
    "list_currency_list_curve.append('USD')\n",
    "print(list_currency_list_curve)"
   ]
  },
  {
   "cell_type": "code",
   "execution_count": 9,
   "metadata": {},
   "outputs": [
    {
     "name": "stdout",
     "output_type": "stream",
     "text": [
      "['BRL', 'CLP', 'COP', 'MXN', 'CZK', 'HUF', 'PLN', 'TRY', 'RUB', 'INR', 'HKD', 'KRW', 'SGD', 'TWD', 'ZAR', 'USD']\n"
     ]
    }
   ],
   "source": [
    "self.currency_list_curve = list_currency_list_curve\n",
    "print(self.currency_list_curve)"
   ]
  },
  {
   "cell_type": "code",
   "execution_count": 10,
   "metadata": {
    "scrolled": false
   },
   "outputs": [
    {
     "name": "stdout",
     "output_type": "stream",
     "text": [
      "Warning: DEM is not in currency list.\n",
      "tickers OK -  0.8700497150421143  seconds\n"
     ]
    },
    {
     "name": "stderr",
     "output_type": "stream",
     "text": [
      "C:\\Curvytrade\\curvy_tracker9.py:221: SettingWithCopyWarning: \n",
      "A value is trying to be set on a copy of a slice from a DataFrame.\n",
      "Try using .loc[row_indexer,col_indexer] = value instead\n",
      "\n",
      "See the caveats in the documentation: http://pandas.pydata.org/pandas-docs/stable/indexing.html#indexing-view-versus-copy\n",
      "  self.spot_last.loc['1998-12':]['DEM'] = np.NaN\n",
      "C:\\Curvytrade\\curvy_tracker9.py:222: SettingWithCopyWarning: \n",
      "A value is trying to be set on a copy of a slice from a DataFrame.\n",
      "Try using .loc[row_indexer,col_indexer] = value instead\n",
      "\n",
      "See the caveats in the documentation: http://pandas.pydata.org/pandas-docs/stable/indexing.html#indexing-view-versus-copy\n",
      "  self.spot_last.loc[:'1998-12']['EUR'] = np.NaN\n"
     ]
    },
    {
     "name": "stdout",
     "output_type": "stream",
     "text": [
      "spot_last OK -  8.293474435806274  seconds\n"
     ]
    },
    {
     "name": "stderr",
     "output_type": "stream",
     "text": [
      "C:\\Curvytrade\\curvy_tracker9.py:830: SettingWithCopyWarning: \n",
      "A value is trying to be set on a copy of a slice from a DataFrame.\n",
      "Try using .loc[row_indexer,col_indexer] = value instead\n",
      "\n",
      "See the caveats in the documentation: http://pandas.pydata.org/pandas-docs/stable/indexing.html#indexing-view-versus-copy\n",
      "  self.spot_last.loc['1998-12':]['DEM'] = np.NaN\n",
      "C:\\Curvytrade\\curvy_tracker9.py:831: SettingWithCopyWarning: \n",
      "A value is trying to be set on a copy of a slice from a DataFrame.\n",
      "Try using .loc[row_indexer,col_indexer] = value instead\n",
      "\n",
      "See the caveats in the documentation: http://pandas.pydata.org/pandas-docs/stable/indexing.html#indexing-view-versus-copy\n",
      "  self.spot_last.loc[:'1998-12']['EUR'] = np.NaN\n"
     ]
    },
    {
     "name": "stdout",
     "output_type": "stream",
     "text": [
      "spot_bid and ask OK -  18.053032636642456  seconds\n"
     ]
    },
    {
     "name": "stderr",
     "output_type": "stream",
     "text": [
      "C:\\Curvytrade\\curvy_tracker9.py:252: SettingWithCopyWarning: \n",
      "A value is trying to be set on a copy of a slice from a DataFrame.\n",
      "Try using .loc[row_indexer,col_indexer] = value instead\n",
      "\n",
      "See the caveats in the documentation: http://pandas.pydata.org/pandas-docs/stable/indexing.html#indexing-view-versus-copy\n",
      "  self.fwdpts_last.loc['1998-12':]['DEM'] = np.NaN\n",
      "C:\\Curvytrade\\curvy_tracker9.py:253: SettingWithCopyWarning: \n",
      "A value is trying to be set on a copy of a slice from a DataFrame.\n",
      "Try using .loc[row_indexer,col_indexer] = value instead\n",
      "\n",
      "See the caveats in the documentation: http://pandas.pydata.org/pandas-docs/stable/indexing.html#indexing-view-versus-copy\n",
      "  self.fwdpts_last.loc[:'1998-12']['EUR'] = np.NaN\n"
     ]
    },
    {
     "name": "stdout",
     "output_type": "stream",
     "text": [
      "fwdpts_last OK -  6.723384618759155  seconds\n"
     ]
    },
    {
     "name": "stderr",
     "output_type": "stream",
     "text": [
      "C:\\Curvytrade\\curvy_tracker9.py:842: SettingWithCopyWarning: \n",
      "A value is trying to be set on a copy of a slice from a DataFrame.\n",
      "Try using .loc[row_indexer,col_indexer] = value instead\n",
      "\n",
      "See the caveats in the documentation: http://pandas.pydata.org/pandas-docs/stable/indexing.html#indexing-view-versus-copy\n",
      "  self.fwdpts_last.loc['1998-12':]['DEM'] = np.NaN\n",
      "C:\\Curvytrade\\curvy_tracker9.py:843: SettingWithCopyWarning: \n",
      "A value is trying to be set on a copy of a slice from a DataFrame.\n",
      "Try using .loc[row_indexer,col_indexer] = value instead\n",
      "\n",
      "See the caveats in the documentation: http://pandas.pydata.org/pandas-docs/stable/indexing.html#indexing-view-versus-copy\n",
      "  self.fwdpts_last.loc[:'1998-12']['EUR'] = np.NaN\n"
     ]
    },
    {
     "name": "stdout",
     "output_type": "stream",
     "text": [
      "fwdpts_bid and ask OK -  12.769730567932129  seconds\n",
      "fwd_last OK -  0.00500035285949707  seconds\n",
      "fwd_bid OK -  0.003999948501586914  seconds\n",
      "fwd_ask OK -  0.0070002079010009766  seconds\n",
      "fwd_discount_last OK -  0.1410081386566162  seconds\n",
      "vol EWMA OK -  2.529144525527954  seconds\n",
      "USD index OK -  0.2720155715942383  seconds\n"
     ]
    }
   ],
   "source": [
    "self.run_constructor_in_parts1()"
   ]
  },
  {
   "cell_type": "code",
   "execution_count": 11,
   "metadata": {},
   "outputs": [
    {
     "name": "stdout",
     "output_type": "stream",
     "text": [
      "interest_curve OK -  23.597349643707275  seconds\n"
     ]
    }
   ],
   "source": [
    "self.run_constructor_in_parts2()"
   ]
  },
  {
   "cell_type": "code",
   "execution_count": 12,
   "metadata": {
    "scrolled": true
   },
   "outputs": [],
   "source": [
    "# self.run_constructor_in_parts3()"
   ]
  },
  {
   "cell_type": "code",
   "execution_count": 13,
   "metadata": {
    "scrolled": true
   },
   "outputs": [
    {
     "name": "stdout",
     "output_type": "stream",
     "text": [
      "NS-from 3 month tenor OK -  9.465541362762451  seconds\n"
     ]
    }
   ],
   "source": [
    "self.run_constructor_in_parts4()"
   ]
  },
  {
   "cell_type": "code",
   "execution_count": 14,
   "metadata": {},
   "outputs": [
    {
     "name": "stdout",
     "output_type": "stream",
     "text": [
      "betas OK -  0.1780099868774414  seconds\n"
     ]
    },
    {
     "name": "stderr",
     "output_type": "stream",
     "text": [
      "C:\\ProgramData\\Anaconda3\\lib\\site-packages\\pandas\\core\\indexing.py:630: SettingWithCopyWarning: \n",
      "A value is trying to be set on a copy of a slice from a DataFrame.\n",
      "Try using .loc[row_indexer,col_indexer] = value instead\n",
      "\n",
      "See the caveats in the documentation: http://pandas.pydata.org/pandas-docs/stable/indexing.html#indexing-view-versus-copy\n",
      "  self.obj[item_labels[indexer[info_axis]]] = value\n",
      "C:\\Curvytrade\\curvy_tracker9.py:357: SettingWithCopyWarning: \n",
      "A value is trying to be set on a copy of a slice from a DataFrame.\n",
      "Try using .loc[row_indexer,col_indexer] = value instead\n",
      "\n",
      "See the caveats in the documentation: http://pandas.pydata.org/pandas-docs/stable/indexing.html#indexing-view-versus-copy\n",
      "  self.relative_level.loc['1998-12':]['DEM'] = np.NaN\n",
      "C:\\Curvytrade\\curvy_tracker9.py:358: SettingWithCopyWarning: \n",
      "A value is trying to be set on a copy of a slice from a DataFrame.\n",
      "Try using .loc[row_indexer,col_indexer] = value instead\n",
      "\n",
      "See the caveats in the documentation: http://pandas.pydata.org/pandas-docs/stable/indexing.html#indexing-view-versus-copy\n",
      "  self.relative_level.loc[:'1998-12']['EUR'] = np.NaN\n"
     ]
    },
    {
     "name": "stdout",
     "output_type": "stream",
     "text": [
      "relative level OK -  0.7660436630249023  seconds\n"
     ]
    },
    {
     "name": "stderr",
     "output_type": "stream",
     "text": [
      "C:\\Curvytrade\\curvy_tracker9.py:363: SettingWithCopyWarning: \n",
      "A value is trying to be set on a copy of a slice from a DataFrame.\n",
      "Try using .loc[row_indexer,col_indexer] = value instead\n",
      "\n",
      "See the caveats in the documentation: http://pandas.pydata.org/pandas-docs/stable/indexing.html#indexing-view-versus-copy\n",
      "  self.relative_slope.loc['1998-12':]['DEM'] = np.NaN\n",
      "C:\\Curvytrade\\curvy_tracker9.py:364: SettingWithCopyWarning: \n",
      "A value is trying to be set on a copy of a slice from a DataFrame.\n",
      "Try using .loc[row_indexer,col_indexer] = value instead\n",
      "\n",
      "See the caveats in the documentation: http://pandas.pydata.org/pandas-docs/stable/indexing.html#indexing-view-versus-copy\n",
      "  self.relative_slope.loc[:'1998-12']['EUR'] = np.NaN\n",
      "C:\\Curvytrade\\curvy_tracker9.py:367: SettingWithCopyWarning: \n",
      "A value is trying to be set on a copy of a slice from a DataFrame.\n",
      "Try using .loc[row_indexer,col_indexer] = value instead\n",
      "\n",
      "See the caveats in the documentation: http://pandas.pydata.org/pandas-docs/stable/indexing.html#indexing-view-versus-copy\n",
      "  self.relative_curvature.loc['1998-12':]['DEM'] = np.NaN\n",
      "C:\\Curvytrade\\curvy_tracker9.py:368: SettingWithCopyWarning: \n",
      "A value is trying to be set on a copy of a slice from a DataFrame.\n",
      "Try using .loc[row_indexer,col_indexer] = value instead\n",
      "\n",
      "See the caveats in the documentation: http://pandas.pydata.org/pandas-docs/stable/indexing.html#indexing-view-versus-copy\n",
      "  self.relative_curvature.loc[:'1998-12']['EUR'] = np.NaN\n",
      "Daily forward points...: 100%|█████████████████| 15/15 [01:35<00:00,  7.26s/it]\n"
     ]
    },
    {
     "name": "stdout",
     "output_type": "stream",
     "text": [
      "daily fwdpts OK -  392.6724593639374  seconds\n"
     ]
    },
    {
     "name": "stderr",
     "output_type": "stream",
     "text": [
      "C:\\ProgramData\\Anaconda3\\lib\\site-packages\\IPython\\core\\interactiveshell.py:3191: PerformanceWarning: indexing past lexsort depth may impact performance.\n",
      "  if (yield from self.run_code(code, result)):\n"
     ]
    },
    {
     "name": "stdout",
     "output_type": "stream",
     "text": [
      "daily prices OK -  112.04940891265869  seconds\n",
      "ranks OK -  59.64841175079346  seconds\n"
     ]
    }
   ],
   "source": [
    "self.run_constructor_in_parts5()"
   ]
  },
  {
   "cell_type": "code",
   "execution_count": 15,
   "metadata": {},
   "outputs": [
    {
     "name": "stdout",
     "output_type": "stream",
     "text": [
      "Carry trade OK -  589.2287020683289  seconds\n",
      "Curvy trade OK -  596.2741048336029  seconds\n",
      "Level trade OK -  563.5792348384857  seconds\n"
     ]
    }
   ],
   "source": [
    "self.run_strategy01()\n",
    "self.run_strategy02()\n",
    "self.run_strategy03()"
   ]
  },
  {
   "cell_type": "code",
   "execution_count": 16,
   "metadata": {},
   "outputs": [
    {
     "name": "stdout",
     "output_type": "stream",
     "text": [
      "Equal vol Level trade OK -  537.7617580890656  seconds\n",
      "Equal vol Slope trade OK -  423.7202353477478  seconds\n"
     ]
    }
   ],
   "source": [
    "self.carry_trade_target_vol = 0.09\n",
    "self.run_strategy07()\n",
    "self.run_strategy08()"
   ]
  },
  {
   "cell_type": "code",
   "execution_count": null,
   "metadata": {
    "scrolled": true
   },
   "outputs": [],
   "source": [
    "self.run_constructor_in_parts6()"
   ]
  },
  {
   "cell_type": "code",
   "execution_count": null,
   "metadata": {},
   "outputs": [],
   "source": [
    "# self.run_strategy05()"
   ]
  },
  {
   "cell_type": "markdown",
   "metadata": {},
   "source": [
    "### Data"
   ]
  },
  {
   "cell_type": "code",
   "execution_count": null,
   "metadata": {},
   "outputs": [],
   "source": [
    "# Carry trade\n",
    "self.TR_df_01.plot(figsize=(12,8))\n",
    "self.TR_df_daily_01.plot(figsize=(12,8))"
   ]
  },
  {
   "cell_type": "code",
   "execution_count": null,
   "metadata": {},
   "outputs": [],
   "source": [
    "# Curvy trade\n",
    "self.TR_df_02.plot(figsize=(12,8))\n",
    "self.TR_df_daily_02.plot(figsize=(12,8))"
   ]
  },
  {
   "cell_type": "code",
   "execution_count": null,
   "metadata": {},
   "outputs": [],
   "source": [
    "# Level trade\n",
    "self.TR_df_03.plot(figsize=(12,8))\n",
    "self.TR_df_daily_03.plot(figsize=(12,8))"
   ]
  },
  {
   "cell_type": "code",
   "execution_count": null,
   "metadata": {},
   "outputs": [],
   "source": [
    "# Slope trade\n",
    "self.TR_df_04.plot(figsize=(12,8))\n",
    "self.TR_df_daily_04.plot(figsize=(12,8))"
   ]
  },
  {
   "cell_type": "code",
   "execution_count": null,
   "metadata": {},
   "outputs": [],
   "source": [
    "# Carry (EV)\n",
    "self.TR_df_05.plot(figsize=(12,8))\n",
    "self.TR_df_daily_05.plot(figsize=(12,8))"
   ]
  },
  {
   "cell_type": "code",
   "execution_count": null,
   "metadata": {},
   "outputs": [],
   "source": [
    "# Curvy (EV)\n",
    "self.TR_df_06.plot(figsize=(12,8))\n",
    "self.TR_df_daily_06.plot(figsize=(12,8))"
   ]
  },
  {
   "cell_type": "code",
   "execution_count": null,
   "metadata": {},
   "outputs": [],
   "source": [
    "# Level (EV)\n",
    "self.TR_df_07.plot(figsize=(12,8))\n",
    "self.TR_df_daily_07.plot(figsize=(12,8))"
   ]
  },
  {
   "cell_type": "code",
   "execution_count": null,
   "metadata": {},
   "outputs": [],
   "source": [
    "# Slope (EV)\n",
    "self.TR_df_08.plot(figsize=(12,8))\n",
    "self.TR_df_daily_08.plot(figsize=(12,8))"
   ]
  },
  {
   "cell_type": "code",
   "execution_count": null,
   "metadata": {},
   "outputs": [],
   "source": [
    "# Carry-Curvy DS\n",
    "self.TR_df_09.plot(figsize=(12,8))\n",
    "self.TR_df_daily_09.plot(figsize=(12,8))"
   ]
  },
  {
   "cell_type": "code",
   "execution_count": null,
   "metadata": {},
   "outputs": [],
   "source": [
    "# Curvy-Carry DS\n",
    "self.TR_df_10.plot(figsize=(12,8))\n",
    "self.TR_df_daily_10.plot(figsize=(12,8))"
   ]
  },
  {
   "cell_type": "code",
   "execution_count": null,
   "metadata": {},
   "outputs": [],
   "source": [
    "df_table03 = self.table_three()\n",
    "df_table03.to_excel(self.data_folder + '\\\\table03_monthly.xlsx')"
   ]
  },
  {
   "cell_type": "code",
   "execution_count": null,
   "metadata": {},
   "outputs": [],
   "source": [
    "df_table03"
   ]
  },
  {
   "cell_type": "code",
   "execution_count": null,
   "metadata": {},
   "outputs": [],
   "source": [
    "df_table03_daily = self.table_three_daily()\n",
    "df_table03_daily.to_excel(self.data_folder + '\\\\table03_daily.xlsx')"
   ]
  },
  {
   "cell_type": "code",
   "execution_count": null,
   "metadata": {},
   "outputs": [],
   "source": [
    "df_table03_daily"
   ]
  },
  {
   "cell_type": "code",
   "execution_count": null,
   "metadata": {},
   "outputs": [],
   "source": [
    "self.run_table_four_five()"
   ]
  },
  {
   "cell_type": "code",
   "execution_count": null,
   "metadata": {},
   "outputs": [],
   "source": [
    "self.table04_Funding.to_excel(self.data_folder + '\\\\table04_funding.xlsx')\n",
    "self.table04_Funding"
   ]
  },
  {
   "cell_type": "code",
   "execution_count": null,
   "metadata": {},
   "outputs": [],
   "source": [
    "self.table05_Investing.to_excel(self.data_folder + '\\\\table05_investing.xlsx')\n",
    "self.table05_Investing"
   ]
  },
  {
   "cell_type": "code",
   "execution_count": null,
   "metadata": {
    "scrolled": true
   },
   "outputs": [],
   "source": [
    "self.USD_index"
   ]
  },
  {
   "cell_type": "code",
   "execution_count": null,
   "metadata": {},
   "outputs": [],
   "source": [
    "self.USD_index.plot(figsize=(12,8), logy=True)"
   ]
  },
  {
   "cell_type": "code",
   "execution_count": null,
   "metadata": {},
   "outputs": [],
   "source": [
    "self.plot_vols((12,8))"
   ]
  },
  {
   "cell_type": "markdown",
   "metadata": {},
   "source": [
    "# USD beta exposure data"
   ]
  },
  {
   "cell_type": "code",
   "execution_count": null,
   "metadata": {},
   "outputs": [],
   "source": [
    "self.USD_index = pd.read_excel('data_ALL\\\\USD_index.xlsx')"
   ]
  },
  {
   "cell_type": "code",
   "execution_count": null,
   "metadata": {},
   "outputs": [],
   "source": [
    "cota = self.TR_df_daily_01.copy(deep=True)"
   ]
  },
  {
   "cell_type": "code",
   "execution_count": null,
   "metadata": {},
   "outputs": [],
   "source": [
    "cota.loc[self.USD_index.index, 'USD'] = self.USD_index['USD_EM']"
   ]
  },
  {
   "cell_type": "code",
   "execution_count": null,
   "metadata": {},
   "outputs": [],
   "source": [
    "cota.pct_change(1).corr()"
   ]
  },
  {
   "cell_type": "code",
   "execution_count": null,
   "metadata": {},
   "outputs": [],
   "source": [
    "covariances = cota.pct_change(1).rolling(84).cov()\n",
    "covariance_USD = covariances.xs(key='USD', axis=0, level=1)\n",
    "variance_USD = covariances.loc[(slice(None),'USD'), 'USD']"
   ]
  },
  {
   "cell_type": "code",
   "execution_count": null,
   "metadata": {},
   "outputs": [],
   "source": [
    "beta_USD = pd.DataFrame(data=None, index=covariance_USD.index, columns=covariance_USD.columns)\n",
    "for d in self.USD_index.index:\n",
    "    beta_USD.loc[d] = covariance_USD.loc[d]  / covariance_USD['USD'].loc[d]"
   ]
  },
  {
   "cell_type": "code",
   "execution_count": null,
   "metadata": {},
   "outputs": [],
   "source": [
    "beta_USD.plot(figsize=(15,10))"
   ]
  },
  {
   "cell_type": "code",
   "execution_count": null,
   "metadata": {},
   "outputs": [],
   "source": [
    "beta_USD.plot(figsize=(15,10))"
   ]
  },
  {
   "cell_type": "code",
   "execution_count": null,
   "metadata": {},
   "outputs": [],
   "source": [
    "beta_USD.plot(figsize=(15,10))"
   ]
  },
  {
   "cell_type": "code",
   "execution_count": null,
   "metadata": {},
   "outputs": [],
   "source": [
    "self.beta_USD(prices_df=self.TR_df_daily_01, usd_index_name='USD_EM', window=84).plot(figsize=(15,10))"
   ]
  },
  {
   "cell_type": "markdown",
   "metadata": {},
   "source": [
    "### Performance by period"
   ]
  },
  {
   "cell_type": "code",
   "execution_count": null,
   "metadata": {
    "scrolled": false
   },
   "outputs": [],
   "source": [
    "df_table03_daily_period_1991_1994 = self.table_three_daily_period(start='1991', end='1994')\n",
    "df_table03_daily_period_1991_1994.to_excel(self.data_folder + '\\\\table03_daily_period_1991_1994.xlsx')\n",
    "df_table03_daily_period_1991_1994"
   ]
  },
  {
   "cell_type": "code",
   "execution_count": null,
   "metadata": {},
   "outputs": [],
   "source": [
    "df_table03_daily_period_1995_1999 = self.table_three_daily_period(start='1995', end='1999')\n",
    "df_table03_daily_period_1995_1999.to_excel(self.data_folder + '\\\\table03_daily_period_1995_1999.xlsx')\n",
    "df_table03_daily_period_1995_1999"
   ]
  },
  {
   "cell_type": "code",
   "execution_count": null,
   "metadata": {
    "scrolled": false
   },
   "outputs": [],
   "source": [
    "df_table03_daily_period_2000_2004 = self.table_three_daily_period(start='2000', end='2004')\n",
    "df_table03_daily_period_2000_2004.to_excel(self.data_folder + '\\\\table03_daily_period_2000_2004.xlsx')\n",
    "df_table03_daily_period_2000_2004"
   ]
  },
  {
   "cell_type": "code",
   "execution_count": null,
   "metadata": {},
   "outputs": [],
   "source": [
    "df_table03_daily_period_2005_2009 = self.table_three_daily_period(start='2005', end='2009')\n",
    "df_table03_daily_period_2005_2009.to_excel(self.data_folder + '\\\\table03_daily_period_2005_2009.xlsx')\n",
    "df_table03_daily_period_2005_2009"
   ]
  },
  {
   "cell_type": "code",
   "execution_count": null,
   "metadata": {},
   "outputs": [],
   "source": [
    "df_table03_daily_period_2010_2014 = self.table_three_daily_period(start='2010', end='2014')\n",
    "df_table03_daily_period_2010_2014.to_excel(self.data_folder + '\\\\table03_daily_period_2010_2014.xlsx')\n",
    "df_table03_daily_period_2010_2014"
   ]
  },
  {
   "cell_type": "code",
   "execution_count": null,
   "metadata": {},
   "outputs": [],
   "source": [
    "df_table03_daily_period_2015_2019 = self.table_three_daily_period(start='2015', end='2019')\n",
    "df_table03_daily_period_2015_2019.to_excel(self.data_folder + '\\\\table03_daily_period_2015_2019.xlsx')\n",
    "df_table03_daily_period_2015_2019"
   ]
  },
  {
   "cell_type": "code",
   "execution_count": null,
   "metadata": {},
   "outputs": [],
   "source": [
    "df_table03_daily_period_2018_2019 = self.table_three_daily_period(start='2018', end='2019')\n",
    "df_table03_daily_period_2018_2019.to_excel(self.data_folder + '\\\\table03_daily_period_2018_2019.xlsx')\n",
    "df_table03_daily_period_2018_2019"
   ]
  },
  {
   "cell_type": "code",
   "execution_count": null,
   "metadata": {},
   "outputs": [],
   "source": []
  },
  {
   "cell_type": "code",
   "execution_count": null,
   "metadata": {},
   "outputs": [],
   "source": []
  },
  {
   "cell_type": "code",
   "execution_count": null,
   "metadata": {},
   "outputs": [],
   "source": []
  },
  {
   "cell_type": "code",
   "execution_count": null,
   "metadata": {},
   "outputs": [],
   "source": [
    "# nproocessors=3\n",
    "# processes = []\n",
    "# with ProcessPoolExecutor(max_workers=nproocessors) as executor:\n",
    "#     processes.append(executor.submit(self.run_strategy01))\n",
    "#     processes.append(executor.submit(self.run_strategy02))\n",
    "#     processes.append(executor.submit(self.run_strategy03))\n",
    "#     processes.append(executor.submit(self.run_strategy04))\n",
    "#     wait(processes)\n",
    "# results = {}\n",
    "# for process in processes:\n",
    "#     results.update(process.result())"
   ]
  },
  {
   "cell_type": "code",
   "execution_count": null,
   "metadata": {},
   "outputs": [],
   "source": [
    "# nproocessors=4\n",
    "# with ProcessPoolExecutor(max_workers=nproocessors) as executor:\n",
    "#     executor.submit(self.run_strategy01,)\n",
    "#     executor.submit(self.run_strategy02,)\n",
    "#     executor.submit(self.run_strategy03,)\n",
    "#     executor.submit(self.run_strategy04,)"
   ]
  },
  {
   "cell_type": "code",
   "execution_count": null,
   "metadata": {},
   "outputs": [],
   "source": []
  },
  {
   "cell_type": "code",
   "execution_count": null,
   "metadata": {},
   "outputs": [],
   "source": []
  },
  {
   "cell_type": "code",
   "execution_count": null,
   "metadata": {},
   "outputs": [],
   "source": [
    "def plot_break01(strategy_n, k):\n",
    "    name_strat = '_' + \"{:02}\".format(strategy_n)\n",
    "    nome_str = self.df_strategy.loc[strategy_n, 'Name']\n",
    "    k_str = 'k' + str(k)\n",
    "    spot_ret = getattr(self, 'pct_srfx' + name_strat).loc[k_str]\n",
    "    ir_ret = getattr(self, 'pct_irfx' + name_strat).loc[k_str]\n",
    "    df = pd.DataFrame(data=spot_ret.sum(), columns=['variação spot'])\n",
    "    df['juros'] = ir_ret.sum()\n",
    "    df.plot(kind='bar', figsize=(12,8), title=nome_str + '(' + k_str + ')' + ': decomposição dos retornos')"
   ]
  },
  {
   "cell_type": "code",
   "execution_count": null,
   "metadata": {},
   "outputs": [],
   "source": [
    "def plot_pnl(strategy_n, k):\n",
    "    name_strat = '_' + \"{:02}\".format(strategy_n)\n",
    "    nome_str = self.df_strategy.loc[strategy_n, 'Name']\n",
    "    k_str = 'k' + str(k)\n",
    "    spot_ret = getattr(self, 'pct_pnlfx' + name_strat).loc[k_str].sum()\n",
    "    spot_ret = pd.DataFrame(data=spot_ret, columns=['retornos'])\n",
    "    spot_ret.plot(kind='bar', figsize=(12,8), title=nome_str + '(' + k_str + ')' + ': decomposição por moeda')"
   ]
  },
  {
   "cell_type": "code",
   "execution_count": null,
   "metadata": {
    "scrolled": false
   },
   "outputs": [],
   "source": [
    "plot_pnl(1,5)\n",
    "plot_pnl(5,5)\n",
    "plot_pnl(2,5)\n",
    "plot_pnl(3,5)\n",
    "plot_pnl(4,5)"
   ]
  },
  {
   "cell_type": "code",
   "execution_count": null,
   "metadata": {},
   "outputs": [],
   "source": [
    "plot_break01(2, 5)"
   ]
  },
  {
   "cell_type": "code",
   "execution_count": null,
   "metadata": {},
   "outputs": [],
   "source": [
    "plot_break01(1, 5)"
   ]
  },
  {
   "cell_type": "code",
   "execution_count": null,
   "metadata": {},
   "outputs": [],
   "source": [
    "plot_break01(9, 1)"
   ]
  },
  {
   "cell_type": "code",
   "execution_count": null,
   "metadata": {},
   "outputs": [],
   "source": [
    "plot_break01(10, 1)"
   ]
  },
  {
   "cell_type": "code",
   "execution_count": null,
   "metadata": {},
   "outputs": [],
   "source": [
    "ret = self.pct_srfx_02.loc['k4']\n",
    "irr = self.pct_irfx_02.loc['k4']"
   ]
  },
  {
   "cell_type": "code",
   "execution_count": null,
   "metadata": {},
   "outputs": [],
   "source": [
    "(((self.holdings_df_02.loc['k4'] < 0.0) & (ret > 0.0)) * ret).sum().plot(kind='bar', figsize=(12,8), title='gain short')"
   ]
  },
  {
   "cell_type": "code",
   "execution_count": null,
   "metadata": {},
   "outputs": [],
   "source": [
    "(((self.holdings_df_02.loc['k4'] < 0.0) & (ret < 0.0)) * ret).sum().plot(kind='bar', figsize=(12,8), title='loss short')"
   ]
  },
  {
   "cell_type": "code",
   "execution_count": null,
   "metadata": {},
   "outputs": [],
   "source": [
    "ntrades = ret.count()\n",
    "n_acertos = (ret > 0).sum()\n",
    "n_erros = (ret < 0).sum()"
   ]
  },
  {
   "cell_type": "code",
   "execution_count": null,
   "metadata": {},
   "outputs": [],
   "source": [
    "(n_acertos / ntrades * 100).plot(kind='bar', figsize=(12,8))\n",
    "(n_acertos * 0 + 50).plot()"
   ]
  },
  {
   "cell_type": "code",
   "execution_count": null,
   "metadata": {},
   "outputs": [],
   "source": [
    "(n_erros / ntrades * 100).plot(kind='bar', figsize=(12,8))\n",
    "(n_erros * 0 + 50).plot()"
   ]
  },
  {
   "cell_type": "code",
   "execution_count": null,
   "metadata": {},
   "outputs": [],
   "source": []
  },
  {
   "cell_type": "code",
   "execution_count": null,
   "metadata": {},
   "outputs": [],
   "source": []
  },
  {
   "cell_type": "code",
   "execution_count": null,
   "metadata": {},
   "outputs": [],
   "source": []
  },
  {
   "cell_type": "markdown",
   "metadata": {},
   "source": [
    "# Daily P&L"
   ]
  },
  {
   "cell_type": "markdown",
   "metadata": {},
   "source": [
    "### Write to Excel"
   ]
  },
  {
   "cell_type": "code",
   "execution_count": 18,
   "metadata": {},
   "outputs": [],
   "source": [
    "self.daily_fwds_XXXUSD.to_excel(r'C:\\Curvytrade\\data_EM\\daily_fwds_XXXUSD.xlsx')"
   ]
  },
  {
   "cell_type": "code",
   "execution_count": 25,
   "metadata": {},
   "outputs": [],
   "source": [
    "def calculate_daily_pnl(dates, df_blotter):\n",
    "    list_to_do = tqdm(dates)\n",
    "    df_blotter['ndays'] = 0\n",
    "    df_blotter['k'] = ['k' + str(i) for i in df_blotter['k']]\n",
    "    TR_df_daily_new = pd.DataFrame(data=None, index=self.daily_calendar, columns=self.TR_df_daily_01.columns)\n",
    "    idx = pd.MultiIndex.from_product(iterables=[list(self.k_list), self.daily_calendar])\n",
    "    TR_df_daily_pnl_byfx = pd.DataFrame(data=None, index=idx, columns=self.currency_list)\n",
    "    \n",
    "    for d in list_to_do:\n",
    "        # Pnl of not expired trades\n",
    "        live_trades = (df_blotter['maturity'] >= d) & (df_blotter['trade_dt'] <= d)\n",
    "        time_delta_aux = (df_blotter.loc[live_trades, 'maturity'] - d)\n",
    "        df_blotter.loc[live_trades, 'ndays'] = time_delta_aux.astype('timedelta64[D]')\n",
    "        df_blotter['eval_date'] = d\n",
    "\n",
    "        col_fx = df_blotter.loc[live_trades, 'fx']\n",
    "        col_ndays = df_blotter.loc[live_trades, 'ndays']\n",
    "        col_eval = df_blotter.loc[live_trades, 'eval_date']\n",
    "        inputs = zip(col_fx, col_ndays, col_eval)\n",
    "        df_blotter.loc[live_trades, 'price_mtm'] = [self.daily_fwds_XXXUSD.loc[(fx, d), ndays] for fx, ndays, d in inputs]\n",
    "        df_blotter.loc[live_trades, 'pnl'] = (df_blotter.loc[live_trades, 'price_mtm'] -  df_blotter.loc[live_trades, 'traded_px']) * df_blotter.loc[live_trades, 'holding']\n",
    "\n",
    "        trades_till_now = (df_blotter['trade_dt'] <= d)\n",
    "        pnl_accum = df_blotter.loc[trades_till_now].groupby(by=['k', 'eval_date']).sum().loc[(self.k_list, d), 'pnl'].unstack(0).loc[d]\n",
    "        # Write Pnl\n",
    "        TR_df_daily_new.loc[d, self.k_list] = pnl_accum\n",
    "        lst_moedas = df_blotter.loc[trades_till_now].groupby(by=['k', 'eval_date', 'fx']).sum()['pnl'].unstack().columns\n",
    "        pnl_acum_fx = df_blotter.loc[trades_till_now].groupby(by=['k', 'eval_date', 'fx']).sum()['pnl'].unstack()\n",
    "        TR_df_daily_pnl_byfx.loc[(self.k_list, d), lst_moedas] = pnl_acum_fx\n",
    "    return TR_df_daily_new, TR_df_daily_pnl_byfx"
   ]
  },
  {
   "cell_type": "code",
   "execution_count": 26,
   "metadata": {},
   "outputs": [
    {
     "name": "stderr",
     "output_type": "stream",
     "text": [
      "100%|██████████████████████████████████████| 7414/7414 [12:20<00:00,  4.76it/s]\n"
     ]
    },
    {
     "ename": "NameError",
     "evalue": "name 'TR_df_daily_new' is not defined",
     "output_type": "error",
     "traceback": [
      "\u001b[1;31m---------------------------------------------------------------------------\u001b[0m",
      "\u001b[1;31mNameError\u001b[0m                                 Traceback (most recent call last)",
      "\u001b[1;32m<ipython-input-26-db13bd4d09de>\u001b[0m in \u001b[0;36m<module>\u001b[1;34m\u001b[0m\n\u001b[0;32m      2\u001b[0m \u001b[0mlist_dates\u001b[0m \u001b[1;33m=\u001b[0m \u001b[0mself\u001b[0m\u001b[1;33m.\u001b[0m\u001b[0mdaily_calendar\u001b[0m\u001b[1;33m[\u001b[0m\u001b[1;36m22\u001b[0m\u001b[1;33m:\u001b[0m\u001b[1;33m]\u001b[0m\u001b[1;33m\u001b[0m\u001b[1;33m\u001b[0m\u001b[0m\n\u001b[0;32m      3\u001b[0m \u001b[0mTR_df_daily\u001b[0m\u001b[1;33m,\u001b[0m \u001b[0mTR_df_daily_fx\u001b[0m \u001b[1;33m=\u001b[0m \u001b[0mcalculate_daily_pnl\u001b[0m\u001b[1;33m(\u001b[0m\u001b[0mdates\u001b[0m\u001b[1;33m=\u001b[0m\u001b[0mlist_dates\u001b[0m\u001b[1;33m,\u001b[0m \u001b[0mdf_blotter\u001b[0m\u001b[1;33m=\u001b[0m\u001b[0mdf_blotter\u001b[0m\u001b[1;33m)\u001b[0m\u001b[1;33m\u001b[0m\u001b[1;33m\u001b[0m\u001b[0m\n\u001b[1;32m----> 4\u001b[1;33m \u001b[0mTR_df_daily_new\u001b[0m\u001b[1;33m.\u001b[0m\u001b[0mto_excel\u001b[0m\u001b[1;33m(\u001b[0m\u001b[1;34mr'C:\\Curvytrade\\data_EM\\01_TR_Daily.xlsx'\u001b[0m\u001b[1;33m)\u001b[0m\u001b[1;33m\u001b[0m\u001b[1;33m\u001b[0m\u001b[0m\n\u001b[0m\u001b[0;32m      5\u001b[0m \u001b[0mTR_df_daily_pnl_byfx\u001b[0m\u001b[1;33m.\u001b[0m\u001b[0mto_excel\u001b[0m\u001b[1;33m(\u001b[0m\u001b[1;34mr'C:\\Curvytrade\\data_EM\\01_TR_DailyFX.xlsx'\u001b[0m\u001b[1;33m)\u001b[0m\u001b[1;33m\u001b[0m\u001b[1;33m\u001b[0m\u001b[0m\n",
      "\u001b[1;31mNameError\u001b[0m: name 'TR_df_daily_new' is not defined"
     ]
    }
   ],
   "source": [
    "df_blotter = pd.read_excel(r'C:\\Curvytrade\\data_EM\\01_Blotter.xlsx')\n",
    "list_dates = self.daily_calendar[22:]\n",
    "TR_df_daily, TR_df_daily_fx = calculate_daily_pnl(dates=list_dates, df_blotter=df_blotter)\n",
    "TR_df_daily.to_excel(r'C:\\Curvytrade\\data_EM\\01_TR_Daily.xlsx')\n",
    "TR_df_daily_fx.to_excel(r'C:\\Curvytrade\\data_EM\\01_TR_DailyFX.xlsx')"
   ]
  },
  {
   "cell_type": "code",
   "execution_count": 28,
   "metadata": {},
   "outputs": [],
   "source": [
    "TR_df_daily.to_excel(r'C:\\Curvytrade\\data_EM\\01_TR_Daily.xlsx')\n",
    "TR_df_daily_fx.to_excel(r'C:\\Curvytrade\\data_EM\\01_TR_DailyFX.xlsx')"
   ]
  },
  {
   "cell_type": "code",
   "execution_count": 29,
   "metadata": {},
   "outputs": [
    {
     "name": "stderr",
     "output_type": "stream",
     "text": [
      "100%|██████████████████████████████████████| 7414/7414 [13:17<00:00,  5.81it/s]\n"
     ]
    }
   ],
   "source": [
    "df_blotter = pd.read_excel(r'C:\\Curvytrade\\data_EM\\02_Blotter.xlsx')\n",
    "list_dates = self.daily_calendar[22:]\n",
    "TR_df_daily_new, TR_df_daily_pnl_byfx = calculate_daily_pnl(dates=list_dates, df_blotter=df_blotter)\n",
    "TR_df_daily_new.to_excel(r'C:\\Curvytrade\\data_EM\\02_TR_Daily.xlsx')\n",
    "TR_df_daily_pnl_byfx.to_excel(r'C:\\Curvytrade\\data_EM\\02_TR_DailyFX.xlsx')"
   ]
  },
  {
   "cell_type": "code",
   "execution_count": null,
   "metadata": {},
   "outputs": [],
   "source": []
  }
 ],
 "metadata": {
  "kernelspec": {
   "display_name": "Python 3",
   "language": "python",
   "name": "python3"
  },
  "language_info": {
   "codemirror_mode": {
    "name": "ipython",
    "version": 3
   },
   "file_extension": ".py",
   "mimetype": "text/x-python",
   "name": "python",
   "nbconvert_exporter": "python",
   "pygments_lexer": "ipython3",
   "version": "3.7.1"
  }
 },
 "nbformat": 4,
 "nbformat_minor": 2
}
