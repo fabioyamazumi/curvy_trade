{
 "cells": [
  {
   "cell_type": "markdown",
   "metadata": {},
   "source": [
    "# Teste moedas EM"
   ]
  },
  {
   "cell_type": "markdown",
   "metadata": {},
   "source": [
    "#### Dados:\n",
    "- curvy_tracker8"
   ]
  },
  {
   "cell_type": "markdown",
   "metadata": {},
   "source": [
    "#### Melhorias v7:\n",
    "- a pasta default é alterável (atributo data_folder)\n",
    "- USD index (all FX, EM_FX e DM/G10_FX). Salva resultado no XL e foi incluido no construtor.\n",
    "- Especificação do exception dos comandos try (FileNotFound)"
   ]
  },
  {
   "cell_type": "markdown",
   "metadata": {},
   "source": [
    "#### Melhorias v8:\n",
    "- correcao da matriz de chg price diaria"
   ]
  },
  {
   "cell_type": "code",
   "execution_count": 1,
   "metadata": {},
   "outputs": [],
   "source": [
    "import time\n",
    "import pandas as pd\n",
    "import numpy as np\n",
    "from tqdm import tqdm"
   ]
  },
  {
   "cell_type": "code",
   "execution_count": 2,
   "metadata": {},
   "outputs": [],
   "source": [
    "import curvy_tracker9"
   ]
  },
  {
   "cell_type": "code",
   "execution_count": 3,
   "metadata": {
    "scrolled": true
   },
   "outputs": [],
   "source": [
    "self = curvy_tracker9.CurvyTrade(k_max=7)"
   ]
  },
  {
   "cell_type": "markdown",
   "metadata": {},
   "source": [
    "#### Data Folder"
   ]
  },
  {
   "cell_type": "code",
   "execution_count": 4,
   "metadata": {},
   "outputs": [],
   "source": [
    "self.data_folder = 'data_EM'"
   ]
  },
  {
   "cell_type": "markdown",
   "metadata": {},
   "source": [
    "#### Só usar PX last"
   ]
  },
  {
   "cell_type": "code",
   "execution_count": 5,
   "metadata": {},
   "outputs": [],
   "source": [
    "self.bbg_field_ask = self.bbg_field_last\n",
    "self.bbg_field_bid = self.bbg_field_last"
   ]
  },
  {
   "cell_type": "markdown",
   "metadata": {},
   "source": [
    "#### Moedas:"
   ]
  },
  {
   "cell_type": "code",
   "execution_count": 6,
   "metadata": {},
   "outputs": [
    {
     "name": "stdout",
     "output_type": "stream",
     "text": [
      "['AUD', 'CAD', 'CHF', 'DEM', 'EUR', 'GBP', 'JPY', 'NOK', 'NZD', 'SEK', 'BRL', 'CLP', 'COP', 'MXN', 'CZK', 'HUF', 'PLN', 'TRY', 'RUB', 'INR', 'HKD', 'KRW', 'SGD', 'TWD', 'ZAR']\n"
     ]
    }
   ],
   "source": [
    "print(self.currency_list)"
   ]
  },
  {
   "cell_type": "code",
   "execution_count": 7,
   "metadata": {},
   "outputs": [
    {
     "name": "stdout",
     "output_type": "stream",
     "text": [
      "['BRL', 'CLP', 'COP', 'MXN', 'CZK', 'HUF', 'PLN', 'TRY', 'RUB', 'INR', 'HKD', 'KRW', 'SGD', 'TWD', 'ZAR']\n"
     ]
    }
   ],
   "source": [
    "self.currency_list = self.build_currency_list_EM()\n",
    "print(self.currency_list)"
   ]
  },
  {
   "cell_type": "code",
   "execution_count": 8,
   "metadata": {},
   "outputs": [
    {
     "name": "stdout",
     "output_type": "stream",
     "text": [
      "['BRL', 'CLP', 'COP', 'MXN', 'CZK', 'HUF', 'PLN', 'TRY', 'RUB', 'INR', 'HKD', 'KRW', 'SGD', 'TWD', 'ZAR', 'USD']\n"
     ]
    }
   ],
   "source": [
    "list_currency_list_curve = list(self.currency_list)\n",
    "list_currency_list_curve.append('USD')\n",
    "print(list_currency_list_curve)"
   ]
  },
  {
   "cell_type": "code",
   "execution_count": 9,
   "metadata": {},
   "outputs": [
    {
     "name": "stdout",
     "output_type": "stream",
     "text": [
      "['BRL', 'CLP', 'COP', 'MXN', 'CZK', 'HUF', 'PLN', 'TRY', 'RUB', 'INR', 'HKD', 'KRW', 'SGD', 'TWD', 'ZAR', 'USD']\n"
     ]
    }
   ],
   "source": [
    "self.currency_list_curve = list_currency_list_curve\n",
    "print(self.currency_list_curve)"
   ]
  },
  {
   "cell_type": "code",
   "execution_count": 10,
   "metadata": {
    "scrolled": false
   },
   "outputs": [
    {
     "name": "stdout",
     "output_type": "stream",
     "text": [
      "tickers OK -  0.09200501441955566  seconds\n"
     ]
    },
    {
     "name": "stderr",
     "output_type": "stream",
     "text": [
      "C:\\Curvytrade\\curvy_tracker9.py:217: SettingWithCopyWarning: \n",
      "A value is trying to be set on a copy of a slice from a DataFrame.\n",
      "Try using .loc[row_indexer,col_indexer] = value instead\n",
      "\n",
      "See the caveats in the documentation: http://pandas.pydata.org/pandas-docs/stable/indexing.html#indexing-view-versus-copy\n",
      "  self.spot_last.loc['1998-12':]['DEM'] = np.NaN\n",
      "C:\\Curvytrade\\curvy_tracker9.py:218: SettingWithCopyWarning: \n",
      "A value is trying to be set on a copy of a slice from a DataFrame.\n",
      "Try using .loc[row_indexer,col_indexer] = value instead\n",
      "\n",
      "See the caveats in the documentation: http://pandas.pydata.org/pandas-docs/stable/indexing.html#indexing-view-versus-copy\n",
      "  self.spot_last.loc[:'1998-12']['EUR'] = np.NaN\n"
     ]
    },
    {
     "name": "stdout",
     "output_type": "stream",
     "text": [
      "spot_last OK -  1.2700726985931396  seconds\n",
      "spot_bid and ask OK -  2.414137840270996  seconds\n"
     ]
    },
    {
     "name": "stderr",
     "output_type": "stream",
     "text": [
      "C:\\Curvytrade\\curvy_tracker9.py:248: SettingWithCopyWarning: \n",
      "A value is trying to be set on a copy of a slice from a DataFrame.\n",
      "Try using .loc[row_indexer,col_indexer] = value instead\n",
      "\n",
      "See the caveats in the documentation: http://pandas.pydata.org/pandas-docs/stable/indexing.html#indexing-view-versus-copy\n",
      "  self.fwdpts_last.loc['1998-12':]['DEM'] = np.NaN\n",
      "C:\\Curvytrade\\curvy_tracker9.py:249: SettingWithCopyWarning: \n",
      "A value is trying to be set on a copy of a slice from a DataFrame.\n",
      "Try using .loc[row_indexer,col_indexer] = value instead\n",
      "\n",
      "See the caveats in the documentation: http://pandas.pydata.org/pandas-docs/stable/indexing.html#indexing-view-versus-copy\n",
      "  self.fwdpts_last.loc[:'1998-12']['EUR'] = np.NaN\n"
     ]
    },
    {
     "name": "stdout",
     "output_type": "stream",
     "text": [
      "fwdpts_last OK -  1.3050744533538818  seconds\n",
      "fwdpts_bid and ask OK -  2.1901252269744873  seconds\n",
      "fwd_last OK -  0.013000726699829102  seconds\n",
      "fwd_bid OK -  0.004000425338745117  seconds\n",
      "fwd_ask OK -  0.0030002593994140625  seconds\n",
      "fwd_discount_last OK -  0.019001245498657227  seconds\n",
      "vol EWMA OK -  1.9731128215789795  seconds\n",
      "USD index OK -  0.24501395225524902  seconds\n"
     ]
    }
   ],
   "source": [
    "self.run_constructor_in_parts1()"
   ]
  },
  {
   "cell_type": "code",
   "execution_count": 11,
   "metadata": {},
   "outputs": [
    {
     "name": "stdout",
     "output_type": "stream",
     "text": [
      "interest_curve OK -  19.57211923599243  seconds\n"
     ]
    }
   ],
   "source": [
    "self.run_constructor_in_parts2()"
   ]
  },
  {
   "cell_type": "code",
   "execution_count": 12,
   "metadata": {
    "scrolled": true
   },
   "outputs": [],
   "source": [
    "# self.run_constructor_in_parts3()"
   ]
  },
  {
   "cell_type": "code",
   "execution_count": 13,
   "metadata": {
    "scrolled": true
   },
   "outputs": [
    {
     "name": "stdout",
     "output_type": "stream",
     "text": [
      "NS-from 3 month tenor OK -  9.510544061660767  seconds\n"
     ]
    }
   ],
   "source": [
    "self.run_constructor_in_parts4()"
   ]
  },
  {
   "cell_type": "code",
   "execution_count": 14,
   "metadata": {
    "scrolled": false
   },
   "outputs": [
    {
     "name": "stdout",
     "output_type": "stream",
     "text": [
      "betas OK -  0.17701005935668945  seconds\n"
     ]
    },
    {
     "name": "stderr",
     "output_type": "stream",
     "text": [
      "C:\\ProgramData\\Anaconda3\\lib\\site-packages\\pandas\\core\\indexing.py:630: SettingWithCopyWarning: \n",
      "A value is trying to be set on a copy of a slice from a DataFrame.\n",
      "Try using .loc[row_indexer,col_indexer] = value instead\n",
      "\n",
      "See the caveats in the documentation: http://pandas.pydata.org/pandas-docs/stable/indexing.html#indexing-view-versus-copy\n",
      "  self.obj[item_labels[indexer[info_axis]]] = value\n",
      "C:\\Curvytrade\\curvy_tracker9.py:358: SettingWithCopyWarning: \n",
      "A value is trying to be set on a copy of a slice from a DataFrame.\n",
      "Try using .loc[row_indexer,col_indexer] = value instead\n",
      "\n",
      "See the caveats in the documentation: http://pandas.pydata.org/pandas-docs/stable/indexing.html#indexing-view-versus-copy\n",
      "  self.relative_level.loc['1998-12':]['DEM'] = np.NaN\n",
      "C:\\Curvytrade\\curvy_tracker9.py:359: SettingWithCopyWarning: \n",
      "A value is trying to be set on a copy of a slice from a DataFrame.\n",
      "Try using .loc[row_indexer,col_indexer] = value instead\n",
      "\n",
      "See the caveats in the documentation: http://pandas.pydata.org/pandas-docs/stable/indexing.html#indexing-view-versus-copy\n",
      "  self.relative_level.loc[:'1998-12']['EUR'] = np.NaN\n"
     ]
    },
    {
     "name": "stdout",
     "output_type": "stream",
     "text": [
      "relative level OK -  0.9320535659790039  seconds\n"
     ]
    },
    {
     "name": "stderr",
     "output_type": "stream",
     "text": [
      "C:\\Curvytrade\\curvy_tracker9.py:364: SettingWithCopyWarning: \n",
      "A value is trying to be set on a copy of a slice from a DataFrame.\n",
      "Try using .loc[row_indexer,col_indexer] = value instead\n",
      "\n",
      "See the caveats in the documentation: http://pandas.pydata.org/pandas-docs/stable/indexing.html#indexing-view-versus-copy\n",
      "  self.relative_slope.loc['1998-12':]['DEM'] = np.NaN\n",
      "C:\\Curvytrade\\curvy_tracker9.py:365: SettingWithCopyWarning: \n",
      "A value is trying to be set on a copy of a slice from a DataFrame.\n",
      "Try using .loc[row_indexer,col_indexer] = value instead\n",
      "\n",
      "See the caveats in the documentation: http://pandas.pydata.org/pandas-docs/stable/indexing.html#indexing-view-versus-copy\n",
      "  self.relative_slope.loc[:'1998-12']['EUR'] = np.NaN\n",
      "C:\\Curvytrade\\curvy_tracker9.py:368: SettingWithCopyWarning: \n",
      "A value is trying to be set on a copy of a slice from a DataFrame.\n",
      "Try using .loc[row_indexer,col_indexer] = value instead\n",
      "\n",
      "See the caveats in the documentation: http://pandas.pydata.org/pandas-docs/stable/indexing.html#indexing-view-versus-copy\n",
      "  self.relative_curvature.loc['1998-12':]['DEM'] = np.NaN\n",
      "C:\\Curvytrade\\curvy_tracker9.py:369: SettingWithCopyWarning: \n",
      "A value is trying to be set on a copy of a slice from a DataFrame.\n",
      "Try using .loc[row_indexer,col_indexer] = value instead\n",
      "\n",
      "See the caveats in the documentation: http://pandas.pydata.org/pandas-docs/stable/indexing.html#indexing-view-versus-copy\n",
      "  self.relative_curvature.loc[:'1998-12']['EUR'] = np.NaN\n"
     ]
    },
    {
     "name": "stdout",
     "output_type": "stream",
     "text": [
      "daily fwdpts OK -  21.828248500823975  seconds\n"
     ]
    },
    {
     "name": "stderr",
     "output_type": "stream",
     "text": [
      "C:\\ProgramData\\Anaconda3\\lib\\site-packages\\IPython\\core\\interactiveshell.py:3191: PerformanceWarning: indexing past lexsort depth may impact performance.\n",
      "  if (yield from self.run_code(code, result)):\n"
     ]
    },
    {
     "name": "stdout",
     "output_type": "stream",
     "text": [
      "daily prices OK -  7.836448431015015  seconds\n",
      "ranks OK -  6.120350122451782  seconds\n"
     ]
    }
   ],
   "source": [
    "self.run_constructor_in_parts5()"
   ]
  },
  {
   "cell_type": "code",
   "execution_count": null,
   "metadata": {
    "scrolled": true
   },
   "outputs": [],
   "source": [
    "self.run_constructor_in_parts6()"
   ]
  },
  {
   "cell_type": "code",
   "execution_count": 15,
   "metadata": {},
   "outputs": [
    {
     "name": "stderr",
     "output_type": "stream",
     "text": [
      "100%|██████████████████████████████████████| 7414/7414 [16:57<00:00,  4.45it/s]\n"
     ]
    },
    {
     "name": "stdout",
     "output_type": "stream",
     "text": [
      "Daily P&L for 1: 1042.9156510829926  seconds\n"
     ]
    },
    {
     "name": "stderr",
     "output_type": "stream",
     "text": [
      "100%|██████████████████████████████████████| 7414/7414 [14:45<00:00,  4.92it/s]\n"
     ]
    },
    {
     "name": "stdout",
     "output_type": "stream",
     "text": [
      "Daily P&L for 2: 908.9079866409302  seconds\n"
     ]
    },
    {
     "name": "stderr",
     "output_type": "stream",
     "text": [
      "100%|██████████████████████████████████████| 7414/7414 [14:32<00:00,  5.87it/s]\n"
     ]
    },
    {
     "name": "stdout",
     "output_type": "stream",
     "text": [
      "Daily P&L for 3: 894.7711780071259  seconds\n"
     ]
    },
    {
     "name": "stderr",
     "output_type": "stream",
     "text": [
      "100%|██████████████████████████████████████| 7414/7414 [13:34<00:00,  5.30it/s]\n"
     ]
    },
    {
     "name": "stdout",
     "output_type": "stream",
     "text": [
      "Daily P&L for 4: 835.9768152236938  seconds\n"
     ]
    },
    {
     "name": "stderr",
     "output_type": "stream",
     "text": [
      "100%|██████████████████████████████████████| 7414/7414 [13:54<00:00,  5.55it/s]\n"
     ]
    },
    {
     "name": "stdout",
     "output_type": "stream",
     "text": [
      "Daily P&L for 5: 853.1247959136963  seconds\n"
     ]
    },
    {
     "name": "stderr",
     "output_type": "stream",
     "text": [
      "100%|██████████████████████████████████████| 7414/7414 [11:49<00:00,  6.88it/s]\n"
     ]
    },
    {
     "name": "stdout",
     "output_type": "stream",
     "text": [
      "Daily P&L for 6: 727.8956332206726  seconds\n"
     ]
    }
   ],
   "source": [
    "self.run_daily_pnl_for_all_strategies(strategy_range=range(1,7))"
   ]
  },
  {
   "cell_type": "markdown",
   "metadata": {},
   "source": [
    "## Data for daily P&L"
   ]
  },
  {
   "cell_type": "code",
   "execution_count": null,
   "metadata": {},
   "outputs": [],
   "source": [
    "self.TR_df_daily_01 = pd.read_excel(r'data_EM\\01_TR_Daily.xlsx').loc['1991-01-31':]+100\n",
    "self.TR_df_daily_02 = pd.read_excel(r'data_EM\\02_TR_Daily.xlsx').loc['1991-01-31':]+100\n",
    "self.TR_df_daily_03 = pd.read_excel(r'data_EM\\03_TR_Daily.xlsx').loc['1991-01-31':]+100\n",
    "self.TR_df_daily_04 = pd.read_excel(r'data_EM\\04_TR_Daily.xlsx').loc['1991-01-31':]+100\n",
    "self.TR_df_daily_05 = pd.read_excel(r'data_EM\\05_TR_Daily.xlsx').loc['1991-01-31':]+100\n",
    "self.TR_df_daily_06 = pd.read_excel(r'data_EM\\06_TR_Daily.xlsx').loc['1991-01-31':]+100\n",
    "self.TR_df_daily_07 = pd.read_excel(r'data_EM\\07_TR_Daily.xlsx').loc['1991-01-31':]+100\n",
    "self.TR_df_daily_08 = pd.read_excel(r'data_EM\\08_TR_Daily.xlsx').loc['1991-01-31':]+100\n",
    "self.TR_df_daily_09 = pd.read_excel(r'data_EM\\09_TR_Daily.xlsx').loc['1991-01-31':]+100\n",
    "self.TR_df_daily_10 = pd.read_excel(r'data_EM\\10_TR_Daily.xlsx').loc['1991-01-31':]+100"
   ]
  },
  {
   "cell_type": "markdown",
   "metadata": {},
   "source": [
    "### Data"
   ]
  },
  {
   "cell_type": "code",
   "execution_count": null,
   "metadata": {},
   "outputs": [],
   "source": [
    "# Carry trade\n",
    "self.TR_df_01.plot(figsize=(12,8))\n",
    "self.TR_df_daily_01.plot(figsize=(12,8))"
   ]
  },
  {
   "cell_type": "code",
   "execution_count": null,
   "metadata": {},
   "outputs": [],
   "source": [
    "# Curvy trade\n",
    "self.TR_df_02.plot(figsize=(12,8))\n",
    "self.TR_df_daily_02.plot(figsize=(12,8))"
   ]
  },
  {
   "cell_type": "code",
   "execution_count": null,
   "metadata": {},
   "outputs": [],
   "source": [
    "# Level trade\n",
    "self.TR_df_03.plot(figsize=(12,8))\n",
    "self.TR_df_daily_03.plot(figsize=(12,8))"
   ]
  },
  {
   "cell_type": "code",
   "execution_count": null,
   "metadata": {},
   "outputs": [],
   "source": [
    "# Slope trade\n",
    "self.TR_df_04.plot(figsize=(12,8))\n",
    "self.TR_df_daily_04.plot(figsize=(12,8))"
   ]
  },
  {
   "cell_type": "code",
   "execution_count": null,
   "metadata": {},
   "outputs": [],
   "source": [
    "# Carry (EV)\n",
    "self.TR_df_05.plot(figsize=(12,8), logy=True)\n",
    "self.TR_df_daily_05.plot(figsize=(12,8), logy=True)"
   ]
  },
  {
   "cell_type": "code",
   "execution_count": null,
   "metadata": {},
   "outputs": [],
   "source": [
    "# Carry (EV)\n",
    "self.TR_df_05.plot(figsize=(12,8))\n",
    "self.TR_df_daily_05.plot(figsize=(12,8))"
   ]
  },
  {
   "cell_type": "code",
   "execution_count": null,
   "metadata": {},
   "outputs": [],
   "source": [
    "# Curvy (EV)\n",
    "self.TR_df_06.plot(figsize=(12,8))\n",
    "self.TR_df_daily_06.plot(figsize=(12,8))"
   ]
  },
  {
   "cell_type": "code",
   "execution_count": null,
   "metadata": {},
   "outputs": [],
   "source": [
    "# Level (EV)\n",
    "self.TR_df_07.plot(figsize=(12,8))\n",
    "self.TR_df_daily_07.plot(figsize=(12,8))"
   ]
  },
  {
   "cell_type": "code",
   "execution_count": null,
   "metadata": {},
   "outputs": [],
   "source": [
    "# Slope (EV)\n",
    "self.TR_df_08.plot(figsize=(12,8))\n",
    "self.TR_df_daily_08.plot(figsize=(12,8))"
   ]
  },
  {
   "cell_type": "code",
   "execution_count": null,
   "metadata": {},
   "outputs": [],
   "source": [
    "# Carry-Curvy DS\n",
    "self.TR_df_09.plot(figsize=(12,8))\n",
    "self.TR_df_daily_09.plot(figsize=(12,8))"
   ]
  },
  {
   "cell_type": "code",
   "execution_count": null,
   "metadata": {},
   "outputs": [],
   "source": [
    "# Curvy-Carry DS\n",
    "self.TR_df_10.plot(figsize=(12,8))\n",
    "self.TR_df_daily_10.plot(figsize=(12,8))"
   ]
  },
  {
   "cell_type": "code",
   "execution_count": null,
   "metadata": {},
   "outputs": [],
   "source": [
    "# Carry to Vol\n",
    "self.TR_df_11.plot(figsize=(12,8))\n",
    "self.TR_df_daily_11.plot(figsize=(12,8))"
   ]
  },
  {
   "cell_type": "code",
   "execution_count": null,
   "metadata": {},
   "outputs": [],
   "source": [
    "df_table03 = self.table_three()\n",
    "df_table03.to_excel(self.data_folder + '\\\\table03_monthly.xlsx')"
   ]
  },
  {
   "cell_type": "code",
   "execution_count": null,
   "metadata": {},
   "outputs": [],
   "source": [
    "df_table03"
   ]
  },
  {
   "cell_type": "code",
   "execution_count": null,
   "metadata": {},
   "outputs": [],
   "source": [
    "df_table03_daily = self.table_three_daily()\n",
    "df_table03_daily.to_excel(self.data_folder + '\\\\table03_daily.xlsx')"
   ]
  },
  {
   "cell_type": "code",
   "execution_count": null,
   "metadata": {},
   "outputs": [],
   "source": [
    "df_table03_daily"
   ]
  },
  {
   "cell_type": "code",
   "execution_count": null,
   "metadata": {},
   "outputs": [],
   "source": [
    "self.run_table_four_five()"
   ]
  },
  {
   "cell_type": "code",
   "execution_count": null,
   "metadata": {},
   "outputs": [],
   "source": [
    "self.table04_Funding.to_excel(self.data_folder + '\\\\table04_funding.xlsx')\n",
    "self.table04_Funding"
   ]
  },
  {
   "cell_type": "code",
   "execution_count": null,
   "metadata": {},
   "outputs": [],
   "source": [
    "self.table05_Investing.to_excel(self.data_folder + '\\\\table05_investing.xlsx')\n",
    "self.table05_Investing"
   ]
  },
  {
   "cell_type": "code",
   "execution_count": null,
   "metadata": {
    "scrolled": true
   },
   "outputs": [],
   "source": [
    "self.USD_index"
   ]
  },
  {
   "cell_type": "code",
   "execution_count": null,
   "metadata": {},
   "outputs": [],
   "source": [
    "self.USD_index.plot(figsize=(12,8), logy=True)"
   ]
  },
  {
   "cell_type": "code",
   "execution_count": null,
   "metadata": {},
   "outputs": [],
   "source": [
    "self.plot_vols((12,8))"
   ]
  },
  {
   "cell_type": "markdown",
   "metadata": {},
   "source": [
    "# USD beta exposure data"
   ]
  },
  {
   "cell_type": "code",
   "execution_count": null,
   "metadata": {},
   "outputs": [],
   "source": [
    "self.USD_index = pd.read_excel('data_ALL\\\\USD_index.xlsx')"
   ]
  },
  {
   "cell_type": "code",
   "execution_count": null,
   "metadata": {},
   "outputs": [],
   "source": [
    "cota = self.TR_df_daily_01.copy(deep=True)"
   ]
  },
  {
   "cell_type": "code",
   "execution_count": null,
   "metadata": {},
   "outputs": [],
   "source": [
    "cota.loc[self.USD_index.index, 'USD'] = self.USD_index['USD_EM']"
   ]
  },
  {
   "cell_type": "code",
   "execution_count": null,
   "metadata": {},
   "outputs": [],
   "source": [
    "cota.pct_change(1).corr()"
   ]
  },
  {
   "cell_type": "code",
   "execution_count": null,
   "metadata": {},
   "outputs": [],
   "source": [
    "covariances = cota.pct_change(1).rolling(84).cov()\n",
    "covariance_USD = covariances.xs(key='USD', axis=0, level=1)\n",
    "variance_USD = covariances.loc[(slice(None),'USD'), 'USD']"
   ]
  },
  {
   "cell_type": "code",
   "execution_count": null,
   "metadata": {},
   "outputs": [],
   "source": [
    "beta_USD = pd.DataFrame(data=None, index=covariance_USD.index, columns=covariance_USD.columns)\n",
    "for d in self.USD_index.index:\n",
    "    beta_USD.loc[d] = covariance_USD.loc[d]  / covariance_USD['USD'].loc[d]"
   ]
  },
  {
   "cell_type": "code",
   "execution_count": null,
   "metadata": {},
   "outputs": [],
   "source": [
    "beta_USD.plot(figsize=(15,10))"
   ]
  },
  {
   "cell_type": "code",
   "execution_count": null,
   "metadata": {},
   "outputs": [],
   "source": [
    "beta_USD.plot(figsize=(15,10))"
   ]
  },
  {
   "cell_type": "code",
   "execution_count": null,
   "metadata": {},
   "outputs": [],
   "source": [
    "beta_USD.plot(figsize=(15,10))"
   ]
  },
  {
   "cell_type": "code",
   "execution_count": null,
   "metadata": {},
   "outputs": [],
   "source": [
    "self.beta_USD(prices_df=self.TR_df_daily_01, usd_index_name='USD_EM', window=84).plot(figsize=(15,10))"
   ]
  },
  {
   "cell_type": "markdown",
   "metadata": {},
   "source": [
    "### Performance by period"
   ]
  },
  {
   "cell_type": "code",
   "execution_count": null,
   "metadata": {
    "scrolled": false
   },
   "outputs": [],
   "source": [
    "df_table03_daily_period_1991_1994 = self.table_three_daily_period(start='1991', end='1994')\n",
    "df_table03_daily_period_1991_1994.to_excel(self.data_folder + '\\\\table03_daily_period_1991_1994.xlsx')\n",
    "df_table03_daily_period_1991_1994"
   ]
  },
  {
   "cell_type": "code",
   "execution_count": null,
   "metadata": {},
   "outputs": [],
   "source": [
    "df_table03_daily_period_1995_1999 = self.table_three_daily_period(start='1995', end='1999')\n",
    "df_table03_daily_period_1995_1999.to_excel(self.data_folder + '\\\\table03_daily_period_1995_1999.xlsx')\n",
    "df_table03_daily_period_1995_1999"
   ]
  },
  {
   "cell_type": "code",
   "execution_count": null,
   "metadata": {
    "scrolled": false
   },
   "outputs": [],
   "source": [
    "df_table03_daily_period_2000_2004 = self.table_three_daily_period(start='2000', end='2004')\n",
    "df_table03_daily_period_2000_2004.to_excel(self.data_folder + '\\\\table03_daily_period_2000_2004.xlsx')\n",
    "df_table03_daily_period_2000_2004"
   ]
  },
  {
   "cell_type": "code",
   "execution_count": null,
   "metadata": {},
   "outputs": [],
   "source": [
    "df_table03_daily_period_2005_2009 = self.table_three_daily_period(start='2005', end='2009')\n",
    "df_table03_daily_period_2005_2009.to_excel(self.data_folder + '\\\\table03_daily_period_2005_2009.xlsx')\n",
    "df_table03_daily_period_2005_2009"
   ]
  },
  {
   "cell_type": "code",
   "execution_count": null,
   "metadata": {},
   "outputs": [],
   "source": [
    "df_table03_daily_period_2010_2014 = self.table_three_daily_period(start='2010', end='2014')\n",
    "df_table03_daily_period_2010_2014.to_excel(self.data_folder + '\\\\table03_daily_period_2010_2014.xlsx')\n",
    "df_table03_daily_period_2010_2014"
   ]
  },
  {
   "cell_type": "code",
   "execution_count": null,
   "metadata": {},
   "outputs": [],
   "source": [
    "df_table03_daily_period_2015_2019 = self.table_three_daily_period(start='2015', end='2019')\n",
    "df_table03_daily_period_2015_2019.to_excel(self.data_folder + '\\\\table03_daily_period_2015_2019.xlsx')\n",
    "df_table03_daily_period_2015_2019"
   ]
  },
  {
   "cell_type": "code",
   "execution_count": null,
   "metadata": {},
   "outputs": [],
   "source": [
    "df_table03_daily_period_2018_2019 = self.table_three_daily_period(start='2018', end='2019')\n",
    "df_table03_daily_period_2018_2019.to_excel(self.data_folder + '\\\\table03_daily_period_2018_2019.xlsx')\n",
    "df_table03_daily_period_2018_2019"
   ]
  },
  {
   "cell_type": "code",
   "execution_count": null,
   "metadata": {},
   "outputs": [],
   "source": []
  },
  {
   "cell_type": "code",
   "execution_count": null,
   "metadata": {},
   "outputs": [],
   "source": []
  },
  {
   "cell_type": "code",
   "execution_count": null,
   "metadata": {},
   "outputs": [],
   "source": []
  },
  {
   "cell_type": "code",
   "execution_count": null,
   "metadata": {},
   "outputs": [],
   "source": [
    "# nproocessors=3\n",
    "# processes = []\n",
    "# with ProcessPoolExecutor(max_workers=nproocessors) as executor:\n",
    "#     processes.append(executor.submit(self.run_strategy01))\n",
    "#     processes.append(executor.submit(self.run_strategy02))\n",
    "#     processes.append(executor.submit(self.run_strategy03))\n",
    "#     processes.append(executor.submit(self.run_strategy04))\n",
    "#     wait(processes)\n",
    "# results = {}\n",
    "# for process in processes:\n",
    "#     results.update(process.result())"
   ]
  },
  {
   "cell_type": "code",
   "execution_count": null,
   "metadata": {},
   "outputs": [],
   "source": [
    "# nproocessors=4\n",
    "# with ProcessPoolExecutor(max_workers=nproocessors) as executor:\n",
    "#     executor.submit(self.run_strategy01,)\n",
    "#     executor.submit(self.run_strategy02,)\n",
    "#     executor.submit(self.run_strategy03,)\n",
    "#     executor.submit(self.run_strategy04,)"
   ]
  },
  {
   "cell_type": "code",
   "execution_count": null,
   "metadata": {},
   "outputs": [],
   "source": []
  },
  {
   "cell_type": "code",
   "execution_count": null,
   "metadata": {},
   "outputs": [],
   "source": []
  },
  {
   "cell_type": "code",
   "execution_count": null,
   "metadata": {},
   "outputs": [],
   "source": [
    "def plot_break01(strategy_n, k):\n",
    "    name_strat = '_' + \"{:02}\".format(strategy_n)\n",
    "    nome_str = self.df_strategy.loc[strategy_n, 'Name']\n",
    "    k_str = 'k' + str(k)\n",
    "    spot_ret = getattr(self, 'pct_srfx' + name_strat).loc[k_str]\n",
    "    ir_ret = getattr(self, 'pct_irfx' + name_strat).loc[k_str]\n",
    "    df = pd.DataFrame(data=spot_ret.sum(), columns=['variação spot'])\n",
    "    df['juros'] = ir_ret.sum()\n",
    "    df.plot(kind='bar', figsize=(12,8), title=nome_str + '(' + k_str + ')' + ': decomposição dos retornos')"
   ]
  },
  {
   "cell_type": "code",
   "execution_count": null,
   "metadata": {},
   "outputs": [],
   "source": [
    "def plot_pnl(strategy_n, k):\n",
    "    name_strat = '_' + \"{:02}\".format(strategy_n)\n",
    "    nome_str = self.df_strategy.loc[strategy_n, 'Name']\n",
    "    k_str = 'k' + str(k)\n",
    "    spot_ret = getattr(self, 'pct_pnlfx' + name_strat).loc[k_str].sum()\n",
    "    spot_ret = pd.DataFrame(data=spot_ret, columns=['retornos'])\n",
    "    spot_ret.plot(kind='bar', figsize=(12,8), title=nome_str + '(' + k_str + ')' + ': decomposição por moeda')"
   ]
  },
  {
   "cell_type": "code",
   "execution_count": null,
   "metadata": {
    "scrolled": false
   },
   "outputs": [],
   "source": [
    "plot_pnl(1,5)\n",
    "plot_pnl(5,5)\n",
    "plot_pnl(2,5)\n",
    "plot_pnl(3,5)\n",
    "plot_pnl(4,5)"
   ]
  },
  {
   "cell_type": "code",
   "execution_count": null,
   "metadata": {},
   "outputs": [],
   "source": [
    "plot_break01(2, 5)"
   ]
  },
  {
   "cell_type": "code",
   "execution_count": null,
   "metadata": {},
   "outputs": [],
   "source": [
    "plot_break01(1, 5)"
   ]
  },
  {
   "cell_type": "code",
   "execution_count": null,
   "metadata": {},
   "outputs": [],
   "source": [
    "plot_break01(9, 1)"
   ]
  },
  {
   "cell_type": "code",
   "execution_count": null,
   "metadata": {},
   "outputs": [],
   "source": [
    "plot_break01(10, 1)"
   ]
  },
  {
   "cell_type": "code",
   "execution_count": null,
   "metadata": {},
   "outputs": [],
   "source": [
    "ret = self.pct_srfx_02.loc['k4']\n",
    "irr = self.pct_irfx_02.loc['k4']"
   ]
  },
  {
   "cell_type": "code",
   "execution_count": null,
   "metadata": {},
   "outputs": [],
   "source": [
    "(((self.holdings_df_02.loc['k4'] < 0.0) & (ret > 0.0)) * ret).sum().plot(kind='bar', figsize=(12,8), title='gain short')"
   ]
  },
  {
   "cell_type": "code",
   "execution_count": null,
   "metadata": {},
   "outputs": [],
   "source": [
    "(((self.holdings_df_02.loc['k4'] < 0.0) & (ret < 0.0)) * ret).sum().plot(kind='bar', figsize=(12,8), title='loss short')"
   ]
  },
  {
   "cell_type": "code",
   "execution_count": null,
   "metadata": {},
   "outputs": [],
   "source": [
    "ntrades = ret.count()\n",
    "n_acertos = (ret > 0).sum()\n",
    "n_erros = (ret < 0).sum()"
   ]
  },
  {
   "cell_type": "code",
   "execution_count": null,
   "metadata": {},
   "outputs": [],
   "source": [
    "(n_acertos / ntrades * 100).plot(kind='bar', figsize=(12,8))\n",
    "(n_acertos * 0 + 50).plot()"
   ]
  },
  {
   "cell_type": "code",
   "execution_count": null,
   "metadata": {},
   "outputs": [],
   "source": [
    "(n_erros / ntrades * 100).plot(kind='bar', figsize=(12,8))\n",
    "(n_erros * 0 + 50).plot()"
   ]
  },
  {
   "cell_type": "code",
   "execution_count": null,
   "metadata": {},
   "outputs": [],
   "source": []
  },
  {
   "cell_type": "code",
   "execution_count": null,
   "metadata": {},
   "outputs": [],
   "source": []
  },
  {
   "cell_type": "code",
   "execution_count": null,
   "metadata": {},
   "outputs": [],
   "source": []
  },
  {
   "cell_type": "markdown",
   "metadata": {},
   "source": [
    "# Daily P&L"
   ]
  },
  {
   "cell_type": "markdown",
   "metadata": {},
   "source": [
    "### Write to Excel"
   ]
  },
  {
   "cell_type": "code",
   "execution_count": null,
   "metadata": {},
   "outputs": [],
   "source": [
    "self.daily_fwds_XXXUSD.to_excel(r'C:\\Curvytrade\\data_EM\\daily_fwds_XXXUSD.xlsx')"
   ]
  },
  {
   "cell_type": "code",
   "execution_count": null,
   "metadata": {},
   "outputs": [],
   "source": [
    "def calculate_daily_pnl(dates, df_blotter):\n",
    "    list_to_do = tqdm(dates)\n",
    "    df_blotter['ndays'] = 0\n",
    "    df_blotter['k'] = ['k' + str(i) for i in df_blotter['k']]\n",
    "    TR_df_daily_new = pd.DataFrame(data=None, index=self.daily_calendar, columns=self.TR_df_daily_01.columns)\n",
    "    idx = pd.MultiIndex.from_product(iterables=[list(self.k_list), self.daily_calendar])\n",
    "    TR_df_daily_pnl_byfx = pd.DataFrame(data=None, index=idx, columns=self.currency_list)\n",
    "    \n",
    "    for d in list_to_do:\n",
    "        # Pnl of not expired trades\n",
    "        live_trades = (df_blotter['maturity'] >= d) & (df_blotter['trade_dt'] <= d)\n",
    "        time_delta_aux = (df_blotter.loc[live_trades, 'maturity'] - d)\n",
    "        df_blotter.loc[live_trades, 'ndays'] = time_delta_aux.astype('timedelta64[D]')\n",
    "        df_blotter['eval_date'] = d\n",
    "\n",
    "        col_fx = df_blotter.loc[live_trades, 'fx']\n",
    "        col_ndays = df_blotter.loc[live_trades, 'ndays']\n",
    "        col_eval = df_blotter.loc[live_trades, 'eval_date']\n",
    "        inputs = zip(col_fx, col_ndays, col_eval)\n",
    "        df_blotter.loc[live_trades, 'price_mtm'] = [self.daily_fwds_XXXUSD.loc[(fx, d), ndays] for fx, ndays, d in inputs]\n",
    "        df_blotter.loc[live_trades, 'pnl'] = (df_blotter.loc[live_trades, 'price_mtm'] -  df_blotter.loc[live_trades, 'traded_px']) * df_blotter.loc[live_trades, 'holding']\n",
    "\n",
    "        trades_till_now = (df_blotter['trade_dt'] <= d)\n",
    "        pnl_accum = df_blotter.loc[trades_till_now].groupby(by=['k', 'eval_date']).sum().loc[(self.k_list, d), 'pnl'].unstack(0).loc[d]\n",
    "        # Write Pnl\n",
    "        TR_df_daily_new.loc[d, self.k_list] = pnl_accum\n",
    "        lst_moedas = df_blotter.loc[trades_till_now].groupby(by=['k', 'eval_date', 'fx']).sum()['pnl'].unstack().columns\n",
    "        pnl_acum_fx = df_blotter.loc[trades_till_now].groupby(by=['k', 'eval_date', 'fx']).sum()['pnl'].unstack()\n",
    "        TR_df_daily_pnl_byfx.loc[(self.k_list, d), lst_moedas] = pnl_acum_fx\n",
    "    return TR_df_daily_new, TR_df_daily_pnl_byfx"
   ]
  },
  {
   "cell_type": "code",
   "execution_count": null,
   "metadata": {},
   "outputs": [],
   "source": [
    "df_blotter = pd.read_excel(r'C:\\Curvytrade\\data_EM\\01_Blotter.xlsx')\n",
    "list_dates = self.daily_calendar[22:]\n",
    "TR_df_daily, TR_df_daily_fx = calculate_daily_pnl(dates=list_dates, df_blotter=df_blotter)\n",
    "TR_df_daily.to_excel(r'C:\\Curvytrade\\data_EM\\01_TR_Daily.xlsx')\n",
    "TR_df_daily_fx.to_excel(r'C:\\Curvytrade\\data_EM\\01_TR_DailyFX.xlsx')"
   ]
  },
  {
   "cell_type": "code",
   "execution_count": null,
   "metadata": {},
   "outputs": [],
   "source": [
    "TR_df_daily.to_excel(r'C:\\Curvytrade\\data_EM\\01_TR_Daily.xlsx')\n",
    "TR_df_daily_fx.to_excel(r'C:\\Curvytrade\\data_EM\\01_TR_DailyFX.xlsx')"
   ]
  },
  {
   "cell_type": "code",
   "execution_count": null,
   "metadata": {},
   "outputs": [],
   "source": [
    "df_blotter = pd.read_excel(r'C:\\Curvytrade\\data_EM\\02_Blotter.xlsx')\n",
    "list_dates = self.daily_calendar[22:]\n",
    "TR_df_daily_new, TR_df_daily_pnl_byfx = calculate_daily_pnl(dates=list_dates, df_blotter=df_blotter)\n",
    "TR_df_daily_new.to_excel(r'C:\\Curvytrade\\data_EM\\02_TR_Daily.xlsx')\n",
    "TR_df_daily_pnl_byfx.to_excel(r'C:\\Curvytrade\\data_EM\\02_TR_DailyFX.xlsx')"
   ]
  },
  {
   "cell_type": "code",
   "execution_count": null,
   "metadata": {},
   "outputs": [],
   "source": [
    "list_dates = self.daily_calendar[22:]\n",
    "for i in range(1, 11):\n",
    "    strat_string = \"{:02}\".format(i)\n",
    "    df_blotter = pd.read_excel(self.data_folder + \"\\\\\" + strat_string + \"_Blotter.xlsx\")\n",
    "    [TR_df_daily, TR_df_daily_fx] = calculate_daily_pnl(dates=list_dates, df_blotter=df_blotter)\n",
    "    TR_df_daily.to_excel(self.data_folder + \"\\\\\" + strat_string +  \"_TR_Daily.xlsx\")\n",
    "    TR_df_daily_fx.to_excel(self.data_folder + \"\\\\\" + strat_string +  \"_TR_DailyFX.xlsx\")"
   ]
  },
  {
   "cell_type": "code",
   "execution_count": null,
   "metadata": {},
   "outputs": [],
   "source": []
  },
  {
   "cell_type": "code",
   "execution_count": null,
   "metadata": {},
   "outputs": [],
   "source": []
  },
  {
   "cell_type": "code",
   "execution_count": null,
   "metadata": {},
   "outputs": [],
   "source": []
  }
 ],
 "metadata": {
  "kernelspec": {
   "display_name": "Python 3",
   "language": "python",
   "name": "python3"
  },
  "language_info": {
   "codemirror_mode": {
    "name": "ipython",
    "version": 3
   },
   "file_extension": ".py",
   "mimetype": "text/x-python",
   "name": "python",
   "nbconvert_exporter": "python",
   "pygments_lexer": "ipython3",
   "version": "3.7.1"
  }
 },
 "nbformat": 4,
 "nbformat_minor": 2
}
