{
 "cells": [
  {
   "cell_type": "markdown",
   "metadata": {},
   "source": [
    "# Teste moedas G10"
   ]
  },
  {
   "cell_type": "markdown",
   "metadata": {},
   "source": [
    "#### Dados:\n",
    "- curvy_tracker9"
   ]
  },
  {
   "cell_type": "markdown",
   "metadata": {},
   "source": [
    "#### Melhorias v7:\n",
    "- a pasta default é alterável (atributo data_folder)\n",
    "- USD index (all FX, EM_FX e DM/G10_FX). Salva resultado no XL e foi incluido no construtor.\n",
    "- Especificação do exception dos comandos try (FileNotFound)"
   ]
  },
  {
   "cell_type": "markdown",
   "metadata": {},
   "source": [
    "#### Melhorias v8:\n",
    "- correcao da matriz de chg price diaria"
   ]
  },
  {
   "cell_type": "code",
   "execution_count": 1,
   "metadata": {},
   "outputs": [],
   "source": [
    "import time\n",
    "import pandas as pd\n",
    "import numpy as np\n",
    "from matplotlib import pyplot as plt\n",
    "from tqdm import tqdm"
   ]
  },
  {
   "cell_type": "code",
   "execution_count": 2,
   "metadata": {},
   "outputs": [],
   "source": [
    "import curvy_tracker9"
   ]
  },
  {
   "cell_type": "code",
   "execution_count": 3,
   "metadata": {
    "scrolled": true
   },
   "outputs": [],
   "source": [
    "self = curvy_tracker9.CurvyTrade(k_max=4)"
   ]
  },
  {
   "cell_type": "markdown",
   "metadata": {},
   "source": [
    "#### Data Folder"
   ]
  },
  {
   "cell_type": "code",
   "execution_count": 4,
   "metadata": {},
   "outputs": [],
   "source": [
    "self.data_folder = 'data_DM'"
   ]
  },
  {
   "cell_type": "markdown",
   "metadata": {},
   "source": [
    "#### Só usar PX last"
   ]
  },
  {
   "cell_type": "code",
   "execution_count": 5,
   "metadata": {},
   "outputs": [],
   "source": [
    "self.bbg_field_ask = self.bbg_field_last\n",
    "self.bbg_field_bid = self.bbg_field_last"
   ]
  },
  {
   "cell_type": "markdown",
   "metadata": {},
   "source": [
    "#### Moedas:"
   ]
  },
  {
   "cell_type": "code",
   "execution_count": 6,
   "metadata": {},
   "outputs": [
    {
     "name": "stdout",
     "output_type": "stream",
     "text": [
      "['AUD', 'CAD', 'CHF', 'DEM', 'EUR', 'GBP', 'JPY', 'NOK', 'NZD', 'SEK', 'BRL', 'CLP', 'COP', 'MXN', 'CZK', 'HUF', 'PLN', 'TRY', 'RUB', 'INR', 'HKD', 'KRW', 'SGD', 'TWD', 'ZAR']\n"
     ]
    }
   ],
   "source": [
    "print(self.currency_list)"
   ]
  },
  {
   "cell_type": "code",
   "execution_count": 7,
   "metadata": {},
   "outputs": [
    {
     "data": {
      "text/plain": [
       "['AUD', 'CAD', 'CHF', 'DEM', 'EUR', 'GBP', 'JPY', 'NOK', 'NZD', 'SEK']"
      ]
     },
     "execution_count": 7,
     "metadata": {},
     "output_type": "execute_result"
    }
   ],
   "source": [
    "self.currency_list_DM"
   ]
  },
  {
   "cell_type": "code",
   "execution_count": 8,
   "metadata": {},
   "outputs": [
    {
     "name": "stdout",
     "output_type": "stream",
     "text": [
      "['AUD', 'CAD', 'CHF', 'DEM', 'EUR', 'GBP', 'JPY', 'NOK', 'NZD', 'SEK']\n"
     ]
    }
   ],
   "source": [
    "self.currency_list = list(self.currency_list_DM)\n",
    "print(self.currency_list)"
   ]
  },
  {
   "cell_type": "code",
   "execution_count": 9,
   "metadata": {},
   "outputs": [
    {
     "name": "stdout",
     "output_type": "stream",
     "text": [
      "['AUD', 'CAD', 'CHF', 'DEM', 'EUR', 'GBP', 'JPY', 'NOK', 'NZD', 'SEK', 'USD']\n"
     ]
    }
   ],
   "source": [
    "list_currency_list_curve = list(self.currency_list)\n",
    "list_currency_list_curve.append('USD')\n",
    "print(list_currency_list_curve)"
   ]
  },
  {
   "cell_type": "code",
   "execution_count": 10,
   "metadata": {},
   "outputs": [
    {
     "name": "stdout",
     "output_type": "stream",
     "text": [
      "['AUD', 'CAD', 'CHF', 'DEM', 'EUR', 'GBP', 'JPY', 'NOK', 'NZD', 'SEK', 'USD']\n"
     ]
    }
   ],
   "source": [
    "self.currency_list_curve = list_currency_list_curve\n",
    "print(self.currency_list_curve)"
   ]
  },
  {
   "cell_type": "code",
   "execution_count": 11,
   "metadata": {
    "scrolled": false
   },
   "outputs": [
    {
     "name": "stdout",
     "output_type": "stream",
     "text": [
      "tickers OK -  0.04600262641906738  seconds\n"
     ]
    },
    {
     "name": "stderr",
     "output_type": "stream",
     "text": [
      "C:\\Curvytrade\\curvy_tracker9.py:217: SettingWithCopyWarning: \n",
      "A value is trying to be set on a copy of a slice from a DataFrame.\n",
      "Try using .loc[row_indexer,col_indexer] = value instead\n",
      "\n",
      "See the caveats in the documentation: http://pandas.pydata.org/pandas-docs/stable/indexing.html#indexing-view-versus-copy\n",
      "  self.spot_last.loc['1998-12':]['DEM'] = np.NaN\n",
      "C:\\Curvytrade\\curvy_tracker9.py:218: SettingWithCopyWarning: \n",
      "A value is trying to be set on a copy of a slice from a DataFrame.\n",
      "Try using .loc[row_indexer,col_indexer] = value instead\n",
      "\n",
      "See the caveats in the documentation: http://pandas.pydata.org/pandas-docs/stable/indexing.html#indexing-view-versus-copy\n",
      "  self.spot_last.loc[:'1998-12']['EUR'] = np.NaN\n"
     ]
    },
    {
     "name": "stdout",
     "output_type": "stream",
     "text": [
      "spot_last OK -  0.8150467872619629  seconds\n",
      "spot_bid and ask OK -  1.6450941562652588  seconds\n"
     ]
    },
    {
     "name": "stderr",
     "output_type": "stream",
     "text": [
      "C:\\Curvytrade\\curvy_tracker9.py:248: SettingWithCopyWarning: \n",
      "A value is trying to be set on a copy of a slice from a DataFrame.\n",
      "Try using .loc[row_indexer,col_indexer] = value instead\n",
      "\n",
      "See the caveats in the documentation: http://pandas.pydata.org/pandas-docs/stable/indexing.html#indexing-view-versus-copy\n",
      "  self.fwdpts_last.loc['1998-12':]['DEM'] = np.NaN\n",
      "C:\\Curvytrade\\curvy_tracker9.py:249: SettingWithCopyWarning: \n",
      "A value is trying to be set on a copy of a slice from a DataFrame.\n",
      "Try using .loc[row_indexer,col_indexer] = value instead\n",
      "\n",
      "See the caveats in the documentation: http://pandas.pydata.org/pandas-docs/stable/indexing.html#indexing-view-versus-copy\n",
      "  self.fwdpts_last.loc[:'1998-12']['EUR'] = np.NaN\n"
     ]
    },
    {
     "name": "stdout",
     "output_type": "stream",
     "text": [
      "fwdpts_last OK -  0.8560488224029541  seconds\n",
      "fwdpts_bid and ask OK -  1.5910911560058594  seconds\n",
      "fwd_last OK -  0.011000633239746094  seconds\n",
      "fwd_bid OK -  0.0019998550415039062  seconds\n",
      "fwd_ask OK -  0.002000093460083008  seconds\n",
      "fwd_discount_last OK -  0.0070002079010009766  seconds\n",
      "vol EWMA OK -  1.5310876369476318  seconds\n",
      "USD index OK -  0.2630147933959961  seconds\n"
     ]
    }
   ],
   "source": [
    "self.run_constructor_in_parts1()"
   ]
  },
  {
   "cell_type": "code",
   "execution_count": 12,
   "metadata": {},
   "outputs": [
    {
     "name": "stdout",
     "output_type": "stream",
     "text": [
      "interest_curve OK -  16.215927362442017  seconds\n"
     ]
    }
   ],
   "source": [
    "self.run_constructor_in_parts2()"
   ]
  },
  {
   "cell_type": "code",
   "execution_count": 13,
   "metadata": {
    "scrolled": true
   },
   "outputs": [],
   "source": [
    "# self.run_constructor_in_parts3()"
   ]
  },
  {
   "cell_type": "code",
   "execution_count": 14,
   "metadata": {
    "scrolled": true
   },
   "outputs": [
    {
     "name": "stdout",
     "output_type": "stream",
     "text": [
      "NS-from 3 month tenor OK -  4.67726731300354  seconds\n"
     ]
    }
   ],
   "source": [
    "self.run_constructor_in_parts4()"
   ]
  },
  {
   "cell_type": "code",
   "execution_count": 15,
   "metadata": {},
   "outputs": [
    {
     "name": "stdout",
     "output_type": "stream",
     "text": [
      "betas OK -  0.0890052318572998  seconds\n"
     ]
    },
    {
     "name": "stderr",
     "output_type": "stream",
     "text": [
      "C:\\ProgramData\\Anaconda3\\lib\\site-packages\\pandas\\core\\indexing.py:630: SettingWithCopyWarning: \n",
      "A value is trying to be set on a copy of a slice from a DataFrame.\n",
      "Try using .loc[row_indexer,col_indexer] = value instead\n",
      "\n",
      "See the caveats in the documentation: http://pandas.pydata.org/pandas-docs/stable/indexing.html#indexing-view-versus-copy\n",
      "  self.obj[item_labels[indexer[info_axis]]] = value\n",
      "C:\\Curvytrade\\curvy_tracker9.py:358: SettingWithCopyWarning: \n",
      "A value is trying to be set on a copy of a slice from a DataFrame.\n",
      "Try using .loc[row_indexer,col_indexer] = value instead\n",
      "\n",
      "See the caveats in the documentation: http://pandas.pydata.org/pandas-docs/stable/indexing.html#indexing-view-versus-copy\n",
      "  self.relative_level.loc['1998-12':]['DEM'] = np.NaN\n",
      "C:\\Curvytrade\\curvy_tracker9.py:359: SettingWithCopyWarning: \n",
      "A value is trying to be set on a copy of a slice from a DataFrame.\n",
      "Try using .loc[row_indexer,col_indexer] = value instead\n",
      "\n",
      "See the caveats in the documentation: http://pandas.pydata.org/pandas-docs/stable/indexing.html#indexing-view-versus-copy\n",
      "  self.relative_level.loc[:'1998-12']['EUR'] = np.NaN\n"
     ]
    },
    {
     "name": "stdout",
     "output_type": "stream",
     "text": [
      "relative level OK -  0.5370306968688965  seconds\n"
     ]
    },
    {
     "name": "stderr",
     "output_type": "stream",
     "text": [
      "C:\\Curvytrade\\curvy_tracker9.py:364: SettingWithCopyWarning: \n",
      "A value is trying to be set on a copy of a slice from a DataFrame.\n",
      "Try using .loc[row_indexer,col_indexer] = value instead\n",
      "\n",
      "See the caveats in the documentation: http://pandas.pydata.org/pandas-docs/stable/indexing.html#indexing-view-versus-copy\n",
      "  self.relative_slope.loc['1998-12':]['DEM'] = np.NaN\n",
      "C:\\Curvytrade\\curvy_tracker9.py:365: SettingWithCopyWarning: \n",
      "A value is trying to be set on a copy of a slice from a DataFrame.\n",
      "Try using .loc[row_indexer,col_indexer] = value instead\n",
      "\n",
      "See the caveats in the documentation: http://pandas.pydata.org/pandas-docs/stable/indexing.html#indexing-view-versus-copy\n",
      "  self.relative_slope.loc[:'1998-12']['EUR'] = np.NaN\n",
      "C:\\Curvytrade\\curvy_tracker9.py:368: SettingWithCopyWarning: \n",
      "A value is trying to be set on a copy of a slice from a DataFrame.\n",
      "Try using .loc[row_indexer,col_indexer] = value instead\n",
      "\n",
      "See the caveats in the documentation: http://pandas.pydata.org/pandas-docs/stable/indexing.html#indexing-view-versus-copy\n",
      "  self.relative_curvature.loc['1998-12':]['DEM'] = np.NaN\n",
      "C:\\Curvytrade\\curvy_tracker9.py:369: SettingWithCopyWarning: \n",
      "A value is trying to be set on a copy of a slice from a DataFrame.\n",
      "Try using .loc[row_indexer,col_indexer] = value instead\n",
      "\n",
      "See the caveats in the documentation: http://pandas.pydata.org/pandas-docs/stable/indexing.html#indexing-view-versus-copy\n",
      "  self.relative_curvature.loc[:'1998-12']['EUR'] = np.NaN\n"
     ]
    },
    {
     "name": "stdout",
     "output_type": "stream",
     "text": [
      "daily fwdpts OK -  14.679839849472046  seconds\n",
      "daily prices OK -  3.1631808280944824  seconds\n",
      "ranks OK -  3.0321733951568604  seconds\n"
     ]
    }
   ],
   "source": [
    "self.run_constructor_in_parts5()"
   ]
  },
  {
   "cell_type": "code",
   "execution_count": null,
   "metadata": {
    "scrolled": false
   },
   "outputs": [],
   "source": [
    "self.run_constructor_in_parts6()"
   ]
  },
  {
   "cell_type": "code",
   "execution_count": 16,
   "metadata": {},
   "outputs": [
    {
     "name": "stderr",
     "output_type": "stream",
     "text": [
      "100%|██████████████████████████████████████| 7414/7414 [08:32<00:00, 14.47it/s]\n"
     ]
    },
    {
     "name": "stdout",
     "output_type": "stream",
     "text": [
      "Daily P&L for 1: 523.9179663658142  seconds\n"
     ]
    },
    {
     "name": "stderr",
     "output_type": "stream",
     "text": [
      "100%|██████████████████████████████████████| 7414/7414 [10:53<00:00,  9.54it/s]\n"
     ]
    },
    {
     "name": "stdout",
     "output_type": "stream",
     "text": [
      "Daily P&L for 2: 666.0920984745026  seconds\n"
     ]
    },
    {
     "name": "stderr",
     "output_type": "stream",
     "text": [
      "100%|██████████████████████████████████████| 7414/7414 [09:19<00:00, 10.53it/s]\n"
     ]
    },
    {
     "name": "stdout",
     "output_type": "stream",
     "text": [
      "Daily P&L for 3: 569.7955904006958  seconds\n"
     ]
    },
    {
     "name": "stderr",
     "output_type": "stream",
     "text": [
      "100%|██████████████████████████████████████| 7414/7414 [09:08<00:00, 11.84it/s]\n"
     ]
    },
    {
     "name": "stdout",
     "output_type": "stream",
     "text": [
      "Daily P&L for 4: 558.0959212779999  seconds\n"
     ]
    },
    {
     "name": "stderr",
     "output_type": "stream",
     "text": [
      "100%|██████████████████████████████████████| 7414/7414 [09:11<00:00, 13.45it/s]\n"
     ]
    },
    {
     "name": "stdout",
     "output_type": "stream",
     "text": [
      "Daily P&L for 5: 560.8580791950226  seconds\n"
     ]
    },
    {
     "name": "stderr",
     "output_type": "stream",
     "text": [
      "100%|██████████████████████████████████████| 7414/7414 [08:11<00:00, 11.69it/s]\n"
     ]
    },
    {
     "name": "stdout",
     "output_type": "stream",
     "text": [
      "Daily P&L for 6: 501.42667984962463  seconds\n"
     ]
    },
    {
     "name": "stderr",
     "output_type": "stream",
     "text": [
      "100%|██████████████████████████████████████| 7414/7414 [08:37<00:00, 12.34it/s]\n"
     ]
    },
    {
     "name": "stdout",
     "output_type": "stream",
     "text": [
      "Daily P&L for 7: 527.2821588516235  seconds\n"
     ]
    },
    {
     "name": "stderr",
     "output_type": "stream",
     "text": [
      "100%|██████████████████████████████████████| 7414/7414 [08:43<00:00, 14.16it/s]\n"
     ]
    },
    {
     "name": "stdout",
     "output_type": "stream",
     "text": [
      "Daily P&L for 8: 533.5425169467926  seconds\n"
     ]
    },
    {
     "name": "stderr",
     "output_type": "stream",
     "text": [
      "100%|██████████████████████████████████████| 7414/7414 [07:43<00:00, 13.17it/s]\n"
     ]
    },
    {
     "name": "stdout",
     "output_type": "stream",
     "text": [
      "Daily P&L for 9: 471.98399591445923  seconds\n"
     ]
    },
    {
     "name": "stderr",
     "output_type": "stream",
     "text": [
      "100%|██████████████████████████████████████| 7414/7414 [07:16<00:00, 15.86it/s]\n"
     ]
    },
    {
     "name": "stdout",
     "output_type": "stream",
     "text": [
      "Daily P&L for 10: 444.66643357276917  seconds\n"
     ]
    },
    {
     "name": "stderr",
     "output_type": "stream",
     "text": [
      "100%|██████████████████████████████████████| 7414/7414 [06:12<00:00, 17.71it/s]\n"
     ]
    },
    {
     "name": "stdout",
     "output_type": "stream",
     "text": [
      "Daily P&L for 11: 380.3927571773529  seconds\n"
     ]
    }
   ],
   "source": [
    "self.run_daily_pnl_for_all_strategies(strategy_range=range(1,12))"
   ]
  },
  {
   "cell_type": "markdown",
   "metadata": {},
   "source": [
    "## Data for daily P&L"
   ]
  },
  {
   "cell_type": "code",
   "execution_count": null,
   "metadata": {},
   "outputs": [],
   "source": [
    "self.TR_df_daily_01 = pd.read_excel(r'data_DM\\01_TR_Daily.xlsx').loc['1991-01-31':]+100\n",
    "self.TR_df_daily_02 = pd.read_excel(r'data_DM\\02_TR_Daily.xlsx').loc['1991-01-31':]+100\n",
    "self.TR_df_daily_03 = pd.read_excel(r'data_DM\\03_TR_Daily.xlsx').loc['1991-01-31':]+100\n",
    "self.TR_df_daily_04 = pd.read_excel(r'data_DM\\04_TR_Daily.xlsx').loc['1991-01-31':]+100\n",
    "self.TR_df_daily_05 = pd.read_excel(r'data_DM\\05_TR_Daily.xlsx').loc['1991-01-31':]+100\n",
    "self.TR_df_daily_06 = pd.read_excel(r'data_DM\\06_TR_Daily.xlsx').loc['1991-01-31':]+100\n",
    "self.TR_df_daily_07 = pd.read_excel(r'data_DM\\07_TR_Daily.xlsx').loc['1991-01-31':]+100\n",
    "self.TR_df_daily_08 = pd.read_excel(r'data_DM\\08_TR_Daily.xlsx').loc['1991-01-31':]+100\n",
    "self.TR_df_daily_09 = pd.read_excel(r'data_DM\\09_TR_Daily.xlsx').loc['1991-01-31':]+100\n",
    "self.TR_df_daily_10 = pd.read_excel(r'data_DM\\10_TR_Daily.xlsx').loc['1991-01-31':]+100"
   ]
  },
  {
   "cell_type": "markdown",
   "metadata": {},
   "source": [
    "### Data"
   ]
  },
  {
   "cell_type": "code",
   "execution_count": null,
   "metadata": {},
   "outputs": [],
   "source": [
    "# Carry trade\n",
    "self.TR_df_01.plot(figsize=(12,8))\n",
    "self.TR_df_daily_01.plot(figsize=(12,8))"
   ]
  },
  {
   "cell_type": "code",
   "execution_count": null,
   "metadata": {},
   "outputs": [],
   "source": [
    "# Curvy trade\n",
    "self.TR_df_02.plot(figsize=(12,8))\n",
    "self.TR_df_daily_02.plot(figsize=(12,8))"
   ]
  },
  {
   "cell_type": "code",
   "execution_count": null,
   "metadata": {},
   "outputs": [],
   "source": [
    "# Level trade\n",
    "self.TR_df_03.plot(figsize=(12,8))\n",
    "self.TR_df_daily_03.plot(figsize=(12,8))"
   ]
  },
  {
   "cell_type": "code",
   "execution_count": null,
   "metadata": {},
   "outputs": [],
   "source": [
    "# Slope trade\n",
    "self.TR_df_04.plot(figsize=(12,8))\n",
    "self.TR_df_daily_04.plot(figsize=(12,8))"
   ]
  },
  {
   "cell_type": "code",
   "execution_count": null,
   "metadata": {},
   "outputs": [],
   "source": [
    "# Carry (EV)\n",
    "self.TR_df_05.plot(figsize=(12,8))\n",
    "self.TR_df_daily_05.plot(figsize=(12,8))"
   ]
  },
  {
   "cell_type": "code",
   "execution_count": null,
   "metadata": {},
   "outputs": [],
   "source": [
    "# Carry (EV)\n",
    "self.TR_df_05.plot(figsize=(12,8))\n",
    "self.TR_df_daily_05.plot(figsize=(12,8))"
   ]
  },
  {
   "cell_type": "code",
   "execution_count": null,
   "metadata": {
    "scrolled": false
   },
   "outputs": [],
   "source": [
    "# Curvy (EV)\n",
    "self.TR_df_06.plot(figsize=(12,8))\n",
    "self.TR_df_daily_06.plot(figsize=(12,8))"
   ]
  },
  {
   "cell_type": "code",
   "execution_count": null,
   "metadata": {},
   "outputs": [],
   "source": [
    "# Level (EV)\n",
    "self.TR_df_07.plot(figsize=(12,8))\n",
    "self.TR_df_daily_07.plot(figsize=(12,8))"
   ]
  },
  {
   "cell_type": "code",
   "execution_count": null,
   "metadata": {},
   "outputs": [],
   "source": [
    "# Slope (EV)\n",
    "self.TR_df_08.plot(figsize=(12,8))\n",
    "self.TR_df_daily_08.plot(figsize=(12,8))"
   ]
  },
  {
   "cell_type": "code",
   "execution_count": null,
   "metadata": {},
   "outputs": [],
   "source": [
    "# Carry-Curvy DS\n",
    "self.TR_df_09.plot(figsize=(12,8))\n",
    "self.TR_df_daily_09.plot(figsize=(12,8))"
   ]
  },
  {
   "cell_type": "code",
   "execution_count": null,
   "metadata": {},
   "outputs": [],
   "source": [
    "# Curvy-Carry DS\n",
    "self.TR_df_10.plot(figsize=(12,8))\n",
    "self.TR_df_daily_10.plot(figsize=(12,8))"
   ]
  },
  {
   "cell_type": "code",
   "execution_count": null,
   "metadata": {},
   "outputs": [],
   "source": [
    "# Carry to Vol\n",
    "self.TR_df_11.plot(figsize=(12,8))\n",
    "self.TR_df_daily_11.plot(figsize=(12,8))"
   ]
  },
  {
   "cell_type": "code",
   "execution_count": null,
   "metadata": {},
   "outputs": [],
   "source": [
    "df_table03 = self.table_three()\n",
    "df_table03.to_excel(self.data_folder + '\\\\table03_monthly.xlsx')"
   ]
  },
  {
   "cell_type": "code",
   "execution_count": null,
   "metadata": {},
   "outputs": [],
   "source": [
    "df_table03"
   ]
  },
  {
   "cell_type": "code",
   "execution_count": null,
   "metadata": {},
   "outputs": [],
   "source": [
    "df_table03_daily = self.table_three_daily()\n",
    "df_table03_daily.to_excel(self.data_folder + '\\\\table03_daily.xlsx')"
   ]
  },
  {
   "cell_type": "code",
   "execution_count": null,
   "metadata": {},
   "outputs": [],
   "source": [
    "df_table03_daily"
   ]
  },
  {
   "cell_type": "code",
   "execution_count": null,
   "metadata": {},
   "outputs": [],
   "source": [
    "self.run_table_four_five()"
   ]
  },
  {
   "cell_type": "code",
   "execution_count": null,
   "metadata": {},
   "outputs": [],
   "source": [
    "self.table04_Funding.to_excel(self.data_folder + '\\\\table04_funding.xlsx')\n",
    "self.table04_Funding"
   ]
  },
  {
   "cell_type": "code",
   "execution_count": null,
   "metadata": {},
   "outputs": [],
   "source": [
    "self.table05_Investing.to_excel(self.data_folder + '\\\\table05_investing.xlsx')\n",
    "self.table05_Investing"
   ]
  },
  {
   "cell_type": "code",
   "execution_count": null,
   "metadata": {
    "scrolled": true
   },
   "outputs": [],
   "source": [
    "self.USD_index"
   ]
  },
  {
   "cell_type": "code",
   "execution_count": null,
   "metadata": {},
   "outputs": [],
   "source": [
    "self.USD_index.plot(figsize=(12,8), logy=True)"
   ]
  },
  {
   "cell_type": "code",
   "execution_count": null,
   "metadata": {},
   "outputs": [],
   "source": [
    "self.plot_vols((12,8))"
   ]
  },
  {
   "cell_type": "markdown",
   "metadata": {},
   "source": [
    "# USD beta exposure data"
   ]
  },
  {
   "cell_type": "code",
   "execution_count": null,
   "metadata": {},
   "outputs": [],
   "source": [
    "cota = self.TR_df_daily_01.copy(deep=True)"
   ]
  },
  {
   "cell_type": "code",
   "execution_count": null,
   "metadata": {},
   "outputs": [],
   "source": [
    "cota.loc[self.USD_index.index, 'USD'] = self.USD_index['USD_DM']"
   ]
  },
  {
   "cell_type": "code",
   "execution_count": null,
   "metadata": {},
   "outputs": [],
   "source": [
    "cota.pct_change(1).corr()"
   ]
  },
  {
   "cell_type": "code",
   "execution_count": null,
   "metadata": {
    "scrolled": true
   },
   "outputs": [],
   "source": [
    "covariances = cota.pct_change(1).rolling(84).cov()\n",
    "covariance_USD = covariances.xs(key='USD', axis=0, level=1)\n",
    "variance_USD = covariances.loc[(slice(None),'USD'), 'USD']"
   ]
  },
  {
   "cell_type": "code",
   "execution_count": null,
   "metadata": {},
   "outputs": [],
   "source": [
    "beta_USD = pd.DataFrame(data=None, index=covariance_USD.index, columns=covariance_USD.columns)\n",
    "for d in self.USD_index.index:\n",
    "    beta_USD.loc[d] = covariance_USD.loc[d]  / covariance_USD['USD'].loc[d]"
   ]
  },
  {
   "cell_type": "code",
   "execution_count": null,
   "metadata": {},
   "outputs": [],
   "source": [
    "beta_USD.plot(figsize=(15,10))"
   ]
  },
  {
   "cell_type": "code",
   "execution_count": null,
   "metadata": {},
   "outputs": [],
   "source": [
    "self.beta_USD(prices_df=self.TR_df_daily_01, usd_index_name='USD_DM', window=84).plot(figsize=(15,10))"
   ]
  },
  {
   "cell_type": "code",
   "execution_count": null,
   "metadata": {
    "scrolled": true
   },
   "outputs": [],
   "source": [
    "self.interest_curve.loc['AUD', 3].diff(63)"
   ]
  },
  {
   "cell_type": "code",
   "execution_count": null,
   "metadata": {
    "scrolled": true
   },
   "outputs": [],
   "source": [
    "self.nsiegel_betas_3month.loc['AUD','b3']"
   ]
  },
  {
   "cell_type": "code",
   "execution_count": null,
   "metadata": {},
   "outputs": [],
   "source": [
    "self.nsiegel_betas_3month.loc['AUD','b3'].corr(self.interest_curve.loc['AUD', 12].diff(126))"
   ]
  },
  {
   "cell_type": "code",
   "execution_count": null,
   "metadata": {},
   "outputs": [],
   "source": [
    "plt.scatter(self.nsiegel_betas_3month.loc['AUD','b3'].values, self.interest_curve.loc['AUD', 12].diff(126))"
   ]
  },
  {
   "cell_type": "markdown",
   "metadata": {},
   "source": [
    "### Performance by period"
   ]
  },
  {
   "cell_type": "code",
   "execution_count": null,
   "metadata": {},
   "outputs": [],
   "source": [
    "df_table03_daily_period_1991_1994 = self.table_three_daily_period(start='1991', end='1994')\n",
    "df_table03_daily_period_1991_1994.to_excel(self.data_folder + '\\\\table03_daily_period_1991_1994.xlsx')\n",
    "df_table03_daily_period_1991_1994"
   ]
  },
  {
   "cell_type": "code",
   "execution_count": null,
   "metadata": {},
   "outputs": [],
   "source": [
    "df_table03_daily_period_1995_1999 = self.table_three_daily_period(start='1995', end='1999')\n",
    "df_table03_daily_period_1995_1999.to_excel(self.data_folder + '\\\\table03_daily_period_1995_1999.xlsx')\n",
    "df_table03_daily_period_1995_1999"
   ]
  },
  {
   "cell_type": "code",
   "execution_count": null,
   "metadata": {},
   "outputs": [],
   "source": [
    "df_table03_daily_period_2000_2004 = self.table_three_daily_period(start='2000', end='2004')\n",
    "df_table03_daily_period_2000_2004.to_excel(self.data_folder + '\\\\table03_daily_period_2000_2004.xlsx')\n",
    "df_table03_daily_period_2000_2004"
   ]
  },
  {
   "cell_type": "code",
   "execution_count": null,
   "metadata": {},
   "outputs": [],
   "source": [
    "df_table03_daily_period_2005_2009 = self.table_three_daily_period(start='2005', end='2009')\n",
    "df_table03_daily_period_2005_2009.to_excel(self.data_folder + '\\\\table03_daily_period_2005_2009.xlsx')\n",
    "df_table03_daily_period_2005_2009"
   ]
  },
  {
   "cell_type": "code",
   "execution_count": null,
   "metadata": {},
   "outputs": [],
   "source": [
    "df_table03_daily_period_2010_2014 = self.table_three_daily_period(start='2010', end='2014')\n",
    "df_table03_daily_period_2010_2014.to_excel(self.data_folder + '\\\\table03_daily_period_2010_2014.xlsx')\n",
    "df_table03_daily_period_2010_2014"
   ]
  },
  {
   "cell_type": "code",
   "execution_count": null,
   "metadata": {},
   "outputs": [],
   "source": [
    "df_table03_daily_period_2015_2019 = self.table_three_daily_period(start='2015', end='2019')\n",
    "df_table03_daily_period_2015_2019.to_excel(self.data_folder + '\\\\table03_daily_period_2015_2019.xlsx')\n",
    "df_table03_daily_period_2015_2019"
   ]
  },
  {
   "cell_type": "code",
   "execution_count": null,
   "metadata": {},
   "outputs": [],
   "source": [
    "df_table03_daily_period_2018_2019 = self.table_three_daily_period(start='2018', end='2019')\n",
    "df_table03_daily_period_2018_2019.to_excel(self.data_folder + '\\\\table03_daily_period_2018_2019.xlsx')\n",
    "df_table03_daily_period_2018_2019"
   ]
  },
  {
   "cell_type": "code",
   "execution_count": null,
   "metadata": {},
   "outputs": [],
   "source": []
  },
  {
   "cell_type": "code",
   "execution_count": null,
   "metadata": {},
   "outputs": [],
   "source": [
    "df_aud_curvature = self.nsiegel_betas_3month.loc['AUD']['b3']"
   ]
  },
  {
   "cell_type": "code",
   "execution_count": null,
   "metadata": {},
   "outputs": [],
   "source": [
    "self.nsiegel_betas_3month.loc['AUD']['b3']"
   ]
  },
  {
   "cell_type": "code",
   "execution_count": null,
   "metadata": {},
   "outputs": [],
   "source": [
    "df_aud_rate = self.interest_curve.loc['AUD'][1/30]"
   ]
  },
  {
   "cell_type": "code",
   "execution_count": null,
   "metadata": {
    "scrolled": false
   },
   "outputs": [],
   "source": [
    "self.interest_curve.loc[('AUD', '1991-02'),]"
   ]
  },
  {
   "cell_type": "code",
   "execution_count": null,
   "metadata": {},
   "outputs": [],
   "source": [
    "self.interest_curve.loc[('AUD', '1996'),][3].plot()"
   ]
  },
  {
   "cell_type": "code",
   "execution_count": null,
   "metadata": {},
   "outputs": [],
   "source": [
    "self.df_tickers_curve.loc['AUD']"
   ]
  },
  {
   "cell_type": "code",
   "execution_count": null,
   "metadata": {},
   "outputs": [],
   "source": [
    "self.currency_list_curve"
   ]
  },
  {
   "cell_type": "code",
   "execution_count": null,
   "metadata": {},
   "outputs": [],
   "source": [
    "df_betas = self.nsiegel_betas_3month['b3'].unstack().T"
   ]
  },
  {
   "cell_type": "code",
   "execution_count": null,
   "metadata": {
    "scrolled": true
   },
   "outputs": [],
   "source": [
    "df_betas"
   ]
  },
  {
   "cell_type": "code",
   "execution_count": null,
   "metadata": {},
   "outputs": [],
   "source": [
    "df_rates = self.interest_curve[1].unstack().T.copy(deep=True)\n",
    "df_rates['AUD'] = self.interest_curve[1/30].unstack().T['AUD']\n",
    "df_rates['CAD'] = self.interest_curve[1/30].unstack().T['CAD']\n",
    "df_rates['DEM'] = self.interest_curve[3].unstack().T['DEM']\n",
    "df_rates['NZD'] = self.interest_curve[1/30].unstack().T['NZD']"
   ]
  },
  {
   "cell_type": "code",
   "execution_count": null,
   "metadata": {
    "scrolled": false
   },
   "outputs": [],
   "source": [
    "df_rates.diff(180).plot(figsize=(12,8))"
   ]
  },
  {
   "cell_type": "code",
   "execution_count": null,
   "metadata": {},
   "outputs": [],
   "source": [
    "df_rates['1993':].diff(180).plot(figsize=(12,8))"
   ]
  },
  {
   "cell_type": "code",
   "execution_count": null,
   "metadata": {
    "scrolled": true
   },
   "outputs": [],
   "source": [
    "df_rates.diff(180)"
   ]
  },
  {
   "cell_type": "code",
   "execution_count": null,
   "metadata": {},
   "outputs": [],
   "source": [
    "from sklearn import linear_model\n",
    "from sklearn.metrics import mean_squared_error, r2_score"
   ]
  },
  {
   "cell_type": "code",
   "execution_count": null,
   "metadata": {},
   "outputs": [],
   "source": [
    "regr = linear_model.LinearRegression()"
   ]
  },
  {
   "cell_type": "code",
   "execution_count": null,
   "metadata": {},
   "outputs": [],
   "source": [
    "df_betas"
   ]
  },
  {
   "cell_type": "code",
   "execution_count": null,
   "metadata": {
    "scrolled": true
   },
   "outputs": [],
   "source": [
    "df_rates['AUD'].diff(90).shift(-90).dropna(how='all')"
   ]
  },
  {
   "cell_type": "code",
   "execution_count": null,
   "metadata": {
    "scrolled": true
   },
   "outputs": [],
   "source": [
    "df_betas['AUD']"
   ]
  },
  {
   "cell_type": "code",
   "execution_count": null,
   "metadata": {},
   "outputs": [],
   "source": [
    "df_reg = pd.DataFrame(data=df_rates['AUD'].diff(90).shift(-90).dropna(how='all'))"
   ]
  },
  {
   "cell_type": "code",
   "execution_count": null,
   "metadata": {},
   "outputs": [],
   "source": [
    "df_reg.rename(columns={'AUD': 'y'}, inplace=True)"
   ]
  },
  {
   "cell_type": "code",
   "execution_count": null,
   "metadata": {},
   "outputs": [],
   "source": [
    "df_reg['X'] = 0"
   ]
  },
  {
   "cell_type": "code",
   "execution_count": null,
   "metadata": {},
   "outputs": [],
   "source": [
    "df_reg['X'] = df_betas.loc[df_reg.index, 'AUD']"
   ]
  },
  {
   "cell_type": "code",
   "execution_count": null,
   "metadata": {
    "scrolled": true
   },
   "outputs": [],
   "source": [
    "df_reg"
   ]
  },
  {
   "cell_type": "code",
   "execution_count": null,
   "metadata": {},
   "outputs": [],
   "source": [
    "covar = ((df_reg.X - df_reg.X.mean()) * (df_reg.y - df_reg.y.mean())).sum() / (len(df_reg)-1)"
   ]
  },
  {
   "cell_type": "code",
   "execution_count": null,
   "metadata": {},
   "outputs": [],
   "source": [
    "covar / df_reg.X.var()"
   ]
  },
  {
   "cell_type": "code",
   "execution_count": null,
   "metadata": {},
   "outputs": [],
   "source": [
    "covar / df_reg.y.var()"
   ]
  },
  {
   "cell_type": "code",
   "execution_count": null,
   "metadata": {},
   "outputs": [],
   "source": [
    "covar / (df_reg.X.std() * df_reg.y.std())"
   ]
  },
  {
   "cell_type": "code",
   "execution_count": null,
   "metadata": {},
   "outputs": [],
   "source": [
    "df_rates = self.interest_curve[1].unstack().T.copy(deep=True)\n",
    "df_rates['AUD'] = self.interest_curve[1/30].unstack().T['AUD']\n",
    "df_rates['CAD'] = self.interest_curve[1/30].unstack().T['CAD']\n",
    "df_rates['DEM'] = self.interest_curve[3].unstack().T['DEM']\n",
    "df_rates['NZD'] = self.interest_curve[1/30].unstack().T['NZD']\n",
    "df_betas = self.nsiegel_betas_3month['b3'].unstack().T\n",
    "def rates_correl(fx='AUD', window=90):\n",
    "    y = df_rates[fx].diff(window).shift(-window).dropna(how='all')\n",
    "    x = df_betas.loc[y.index, fx]\n",
    "    cov = ((x - x.mean())*(y-y.mean())).sum() / (len(y) - 1)\n",
    "    return cov/(x.std() * y.std()), cov\n",
    "#     return np.cov(np.array(x),np.array(y))"
   ]
  },
  {
   "cell_type": "code",
   "execution_count": null,
   "metadata": {},
   "outputs": [],
   "source": []
  },
  {
   "cell_type": "code",
   "execution_count": null,
   "metadata": {},
   "outputs": [],
   "source": [
    "self.currency_list_curve"
   ]
  },
  {
   "cell_type": "code",
   "execution_count": null,
   "metadata": {},
   "outputs": [],
   "source": [
    "[rates_correl(x, 90)[0] for x in self.currency_list_curve]"
   ]
  },
  {
   "cell_type": "code",
   "execution_count": null,
   "metadata": {},
   "outputs": [],
   "source": [
    "full_correl_df = pd.DataFrame(data=[rates_correl(x, 90)[0] for x in self.currency_list_curve], index=self.currency_list_curve, columns=['correl'])"
   ]
  },
  {
   "cell_type": "code",
   "execution_count": null,
   "metadata": {},
   "outputs": [],
   "source": [
    "full_correl_df.plot(kind='bar', figsize=(12,8))"
   ]
  },
  {
   "cell_type": "code",
   "execution_count": null,
   "metadata": {},
   "outputs": [],
   "source": [
    "rates_correl(fx='NOK')"
   ]
  },
  {
   "cell_type": "code",
   "execution_count": null,
   "metadata": {},
   "outputs": [],
   "source": [
    "fx = 'NOK'\n",
    "window = 84\n",
    "# y = df_rates[fx].diff(window).dropna(how='all')\n",
    "y = df_rates[fx].diff(window).shift(-window).dropna(how='all')\n",
    "x = df_betas.loc[y.index, fx]\n",
    "cov = ((x - x.mean())*(y-y.mean())).sum() / (len(y) - 1)\n",
    "cov/(x.std() * y.std())"
   ]
  },
  {
   "cell_type": "code",
   "execution_count": null,
   "metadata": {
    "scrolled": false
   },
   "outputs": [],
   "source": [
    "y.plot(figsize=(12,8))\n",
    "x.plot(figsize=(12,8))"
   ]
  },
  {
   "cell_type": "code",
   "execution_count": null,
   "metadata": {},
   "outputs": [],
   "source": [
    "from matplotlib.pyplot import xcorr"
   ]
  },
  {
   "cell_type": "code",
   "execution_count": null,
   "metadata": {
    "scrolled": false
   },
   "outputs": [],
   "source": [
    "dados = xcorr(x,y,maxlags=100)"
   ]
  },
  {
   "cell_type": "code",
   "execution_count": null,
   "metadata": {},
   "outputs": [],
   "source": [
    "best_lag = dados[0][dados[1] == dados[1].max()][0]\n",
    "best_lag"
   ]
  },
  {
   "cell_type": "code",
   "execution_count": null,
   "metadata": {},
   "outputs": [],
   "source": [
    "lags = dados[0]\n",
    "corr_calc = dados[1]\n",
    "cross_correl = pd.DataFrame(data=corr_calc, index=lags)"
   ]
  },
  {
   "cell_type": "code",
   "execution_count": null,
   "metadata": {},
   "outputs": [],
   "source": [
    "cross_correl.plot()"
   ]
  },
  {
   "cell_type": "code",
   "execution_count": null,
   "metadata": {},
   "outputs": [],
   "source": [
    "dados_formatados = pd.DataFrame(data=y.values, index=y.index, columns=['rates'])"
   ]
  },
  {
   "cell_type": "code",
   "execution_count": null,
   "metadata": {},
   "outputs": [],
   "source": [
    "dados_formatados['curvatura'] = x"
   ]
  },
  {
   "cell_type": "code",
   "execution_count": null,
   "metadata": {
    "scrolled": true
   },
   "outputs": [],
   "source": [
    "dados_formatados"
   ]
  },
  {
   "cell_type": "code",
   "execution_count": null,
   "metadata": {},
   "outputs": [],
   "source": [
    "dados_formatados.rolling(252*2).corr().loc[(slice(None), 'curvatura'),'rates'].plot()"
   ]
  },
  {
   "cell_type": "code",
   "execution_count": null,
   "metadata": {
    "scrolled": true
   },
   "outputs": [],
   "source": [
    "dados_formatados.rolling(252*2).corr().xs(key='rates', level=1)['curvatura'].plot()\n",
    "y['1994':].plot(secondary_y=True)"
   ]
  },
  {
   "cell_type": "code",
   "execution_count": null,
   "metadata": {},
   "outputs": [],
   "source": [
    "dados_formatados.rolling(252*1).corr().xs(key='rates', level=1)['curvatura'].plot()\n",
    "df_rates['NOK']['1994':].plot(secondary_y=True)"
   ]
  },
  {
   "cell_type": "code",
   "execution_count": null,
   "metadata": {},
   "outputs": [],
   "source": [
    "x['1994':].plot()\n",
    "df_rates['NOK']['1994':].plot(secondary_y=True)"
   ]
  },
  {
   "cell_type": "code",
   "execution_count": null,
   "metadata": {},
   "outputs": [],
   "source": [
    "df_rates['NOK'].plot(secondary_y=True)"
   ]
  },
  {
   "cell_type": "code",
   "execution_count": null,
   "metadata": {},
   "outputs": [],
   "source": [
    "(self.interest_curve.loc['NOK'][24] *2 - self.interest_curve.loc['NOK'][3] - self.interest_curve.loc['NOK'][120]).plot(figsize=(12,8))\n",
    "x['1993':].plot(secondary_y=True)"
   ]
  },
  {
   "cell_type": "code",
   "execution_count": null,
   "metadata": {},
   "outputs": [],
   "source": [
    "from matplotlib import pyplot as plt"
   ]
  },
  {
   "cell_type": "code",
   "execution_count": null,
   "metadata": {},
   "outputs": [],
   "source": [
    "df_comparacao = pd.DataFrame(data=(self.interest_curve.loc['NOK'][24] *2 - self.interest_curve.loc['NOK'][3] - self.interest_curve.loc['NOK'][120]), columns=['fly'])\n",
    "df_comparacao['curvatura'] = x\n",
    "df_comparacao.dropna(how='any', inplace=True)"
   ]
  },
  {
   "cell_type": "code",
   "execution_count": null,
   "metadata": {},
   "outputs": [],
   "source": [
    "plt.scatter(x=df_comparacao.fly, y=df_comparacao.curvatura)"
   ]
  },
  {
   "cell_type": "code",
   "execution_count": null,
   "metadata": {},
   "outputs": [],
   "source": [
    "df_comparacao.plot(kind='scatter',x='fly', y='curvatura',)"
   ]
  },
  {
   "cell_type": "code",
   "execution_count": null,
   "metadata": {},
   "outputs": [],
   "source": [
    "df_xy = pd.DataFrame(data=x)\n",
    "df_xy.rename(columns={'NOK': 'curvatura'},inplace=True)\n",
    "df_xy['chg_rates'] = y"
   ]
  },
  {
   "cell_type": "code",
   "execution_count": null,
   "metadata": {
    "scrolled": true
   },
   "outputs": [],
   "source": [
    "df_xy"
   ]
  },
  {
   "cell_type": "code",
   "execution_count": null,
   "metadata": {},
   "outputs": [],
   "source": [
    "df_xy.plot(kind='scatter',x='curvatura', y='chg_rates')"
   ]
  },
  {
   "cell_type": "code",
   "execution_count": null,
   "metadata": {},
   "outputs": [],
   "source": []
  },
  {
   "cell_type": "code",
   "execution_count": null,
   "metadata": {
    "scrolled": true
   },
   "outputs": [],
   "source": [
    "df_xy"
   ]
  },
  {
   "cell_type": "code",
   "execution_count": null,
   "metadata": {},
   "outputs": [],
   "source": []
  },
  {
   "cell_type": "code",
   "execution_count": null,
   "metadata": {},
   "outputs": [],
   "source": []
  },
  {
   "cell_type": "code",
   "execution_count": null,
   "metadata": {},
   "outputs": [],
   "source": [
    "import numpy as np\n",
    "import pandas as pd\n",
    "import statsmodels.api as sm\n",
    "import statsmodels.formula.api as smf\n",
    "import matplotlib.pyplot as plt\n",
    "\n",
    "data = sm.datasets.engel.load_pandas().data\n",
    "data = df_xy\n",
    "data.head()"
   ]
  },
  {
   "cell_type": "code",
   "execution_count": null,
   "metadata": {},
   "outputs": [],
   "source": [
    "mod = smf.quantreg('chg_rates ~ curvatura', data)\n",
    "res = mod.fit(q=.2)\n",
    "print(res.summary())"
   ]
  },
  {
   "cell_type": "code",
   "execution_count": null,
   "metadata": {},
   "outputs": [],
   "source": [
    "quantiles = np.arange(.05, .96, .1)\n",
    "def fit_model(q):\n",
    "    res = mod.fit(q=q)\n",
    "    return [q, res.params['Intercept'], res.params['curvatura']] + \\\n",
    "            res.conf_int().loc['curvatura'].tolist()\n",
    "\n",
    "models = [fit_model(x) for x in quantiles]\n",
    "models = pd.DataFrame(models, columns=['q', 'a', 'b', 'lb', 'ub'])\n",
    "\n",
    "ols = smf.ols('chg_rates ~ curvatura', data).fit()\n",
    "ols_ci = ols.conf_int().loc['curvatura'].tolist()\n",
    "ols = dict(a = ols.params['Intercept'],\n",
    "           b = ols.params['curvatura'],\n",
    "           lb = ols_ci[0],\n",
    "           ub = ols_ci[1])\n",
    "\n",
    "print(models)\n",
    "print(ols)"
   ]
  },
  {
   "cell_type": "code",
   "execution_count": null,
   "metadata": {},
   "outputs": [],
   "source": [
    "x = np.arange(data.curvatura.min(), data.curvatura.max(), 50)\n",
    "get_y = lambda a, b: a + b * x\n",
    "\n",
    "fig, ax = plt.subplots(figsize=(12, 8))\n",
    "\n",
    "for i in range(models.shape[0]):\n",
    "    y = get_y(models.a[i], models.b[i])\n",
    "    ax.plot(x, y, linestyle='dotted', color='grey')\n",
    "\n",
    "y = get_y(ols['a'], ols['b'])\n",
    "\n",
    "ax.plot(x, y, color='red', label='OLS')\n",
    "ax.scatter(data.curvatura, data.chg_rates, alpha=.2)\n",
    "ax.set_xlim((data.curvatura.min(), data.curvatura.max()))\n",
    "ax.set_ylim((data.chg_rates.min(), data.chg_rates.max()))\n",
    "legend = ax.legend()\n",
    "ax.set_xlabel('curvatura', fontsize=16)\n",
    "ax.set_ylabel('chg_rates', fontsize=16);"
   ]
  },
  {
   "cell_type": "code",
   "execution_count": null,
   "metadata": {},
   "outputs": [],
   "source": [
    "n = models.shape[0]\n",
    "p1 = plt.plot(models.q, models.b, color='black', label='Quantile Reg.')\n",
    "p2 = plt.plot(models.q, models.ub, linestyle='dotted', color='black')\n",
    "p3 = plt.plot(models.q, models.lb, linestyle='dotted', color='black')\n",
    "p4 = plt.plot(models.q, [ols['b']] * n, color='red', label='OLS')\n",
    "p5 = plt.plot(models.q, [ols['lb']] * n, linestyle='dotted', color='red')\n",
    "p6 = plt.plot(models.q, [ols['ub']] * n, linestyle='dotted', color='red')\n",
    "plt.ylabel(r'$\\beta_{curvatura}$')\n",
    "plt.xlabel('Quantiles of the conditional chg_rates distribution')\n",
    "plt.legend()\n",
    "plt.show()"
   ]
  },
  {
   "cell_type": "code",
   "execution_count": null,
   "metadata": {},
   "outputs": [],
   "source": []
  },
  {
   "cell_type": "code",
   "execution_count": null,
   "metadata": {},
   "outputs": [],
   "source": []
  },
  {
   "cell_type": "code",
   "execution_count": null,
   "metadata": {},
   "outputs": [],
   "source": []
  },
  {
   "cell_type": "code",
   "execution_count": null,
   "metadata": {},
   "outputs": [],
   "source": [
    "df_comparacao['fly'].rolling(63).corr()"
   ]
  },
  {
   "cell_type": "code",
   "execution_count": null,
   "metadata": {},
   "outputs": [],
   "source": [
    "(self.interest_curve.loc['NOK'][24] *2 - self.interest_curve.loc['NOK'][3] - self.interest_curve.loc['NOK'][120]).plot(figsize=(12,8))\n",
    "# x['1993':].plot(secondary_y=True)"
   ]
  },
  {
   "cell_type": "code",
   "execution_count": null,
   "metadata": {},
   "outputs": [],
   "source": []
  },
  {
   "cell_type": "code",
   "execution_count": null,
   "metadata": {},
   "outputs": [],
   "source": []
  },
  {
   "cell_type": "code",
   "execution_count": null,
   "metadata": {},
   "outputs": [],
   "source": []
  },
  {
   "cell_type": "code",
   "execution_count": null,
   "metadata": {},
   "outputs": [],
   "source": []
  },
  {
   "cell_type": "code",
   "execution_count": null,
   "metadata": {},
   "outputs": [],
   "source": []
  },
  {
   "cell_type": "code",
   "execution_count": null,
   "metadata": {},
   "outputs": [],
   "source": []
  },
  {
   "cell_type": "code",
   "execution_count": null,
   "metadata": {},
   "outputs": [],
   "source": []
  },
  {
   "cell_type": "markdown",
   "metadata": {},
   "source": [
    "# VAR Tutorial"
   ]
  },
  {
   "cell_type": "code",
   "execution_count": null,
   "metadata": {},
   "outputs": [],
   "source": [
    "import numpy as np\n",
    "import pandas\n",
    "import statsmodels.api as sm\n",
    "from statsmodels.tsa.api import VAR, DynamicVAR\n",
    "mdata = sm.datasets.macrodata.load_pandas().data"
   ]
  },
  {
   "cell_type": "code",
   "execution_count": null,
   "metadata": {},
   "outputs": [],
   "source": [
    "# prepare the dates index\n",
    "dates = mdata[['year', 'quarter']].astype(int).astype(str)\n",
    "quarterly = dates[\"year\"] + \"Q\" + dates[\"quarter\"]\n",
    "from statsmodels.tsa.base.datetools import dates_from_str\n",
    "quarterly = dates_from_str(quarterly)\n",
    "mdata = mdata[['realgdp','realcons','realinv']]\n",
    "mdata.index = pandas.DatetimeIndex(quarterly)\n",
    "data = np.log(mdata).diff().dropna()\n",
    "\n",
    "data = dados_formatados\n",
    "# make a VAR model\n",
    "model = VAR(data)"
   ]
  },
  {
   "cell_type": "code",
   "execution_count": null,
   "metadata": {
    "scrolled": true
   },
   "outputs": [],
   "source": [
    "data"
   ]
  },
  {
   "cell_type": "code",
   "execution_count": null,
   "metadata": {},
   "outputs": [],
   "source": [
    "results = model.fit(2)\n",
    "results.summary()"
   ]
  },
  {
   "cell_type": "code",
   "execution_count": null,
   "metadata": {},
   "outputs": [],
   "source": [
    "results.plot()"
   ]
  },
  {
   "cell_type": "code",
   "execution_count": null,
   "metadata": {},
   "outputs": [],
   "source": [
    "results.plot_acorr()"
   ]
  },
  {
   "cell_type": "code",
   "execution_count": null,
   "metadata": {},
   "outputs": [],
   "source": [
    "model.select_order(150)"
   ]
  },
  {
   "cell_type": "code",
   "execution_count": null,
   "metadata": {},
   "outputs": [],
   "source": [
    "results = model.fit(maxlags=150, ic='aic')"
   ]
  },
  {
   "cell_type": "code",
   "execution_count": null,
   "metadata": {},
   "outputs": [],
   "source": [
    "results.k_ar"
   ]
  },
  {
   "cell_type": "code",
   "execution_count": null,
   "metadata": {},
   "outputs": [],
   "source": [
    "lag_order = results.k_ar\n",
    "results.forecast(data.values[-lag_order:], 5)"
   ]
  },
  {
   "cell_type": "code",
   "execution_count": null,
   "metadata": {},
   "outputs": [],
   "source": [
    "results.plot_forecast(100)"
   ]
  },
  {
   "cell_type": "code",
   "execution_count": null,
   "metadata": {},
   "outputs": [],
   "source": [
    "irf = results.irf(100)"
   ]
  },
  {
   "cell_type": "code",
   "execution_count": null,
   "metadata": {},
   "outputs": [],
   "source": [
    "irf.plot(orth=False)"
   ]
  },
  {
   "cell_type": "code",
   "execution_count": null,
   "metadata": {},
   "outputs": [],
   "source": [
    "irf.plot(impulse='curvatura')"
   ]
  },
  {
   "cell_type": "code",
   "execution_count": null,
   "metadata": {},
   "outputs": [],
   "source": [
    "irf.plot_cum_effects(orth=False)"
   ]
  },
  {
   "cell_type": "code",
   "execution_count": null,
   "metadata": {},
   "outputs": [],
   "source": [
    "fevd = results.fevd(100)\n",
    "fevd.summary()"
   ]
  },
  {
   "cell_type": "code",
   "execution_count": null,
   "metadata": {},
   "outputs": [],
   "source": [
    "results.fevd(50).plot()"
   ]
  },
  {
   "cell_type": "code",
   "execution_count": null,
   "metadata": {},
   "outputs": [],
   "source": [
    "results.test_causality('rates', ['curvatura'], kind='f')."
   ]
  },
  {
   "cell_type": "code",
   "execution_count": null,
   "metadata": {},
   "outputs": [],
   "source": [
    "print(results.test_causality('rates', ['curvatura'], kind='f'))"
   ]
  },
  {
   "cell_type": "code",
   "execution_count": null,
   "metadata": {},
   "outputs": [],
   "source": [
    "np.random.seed(1)\n",
    "import pandas.util.testing as ptest\n",
    "ptest.N = 500\n",
    "data = ptest.makeTimeDataFrame().cumsum(0)\n",
    "data\n",
    "var = DynamicVAR(data, lag_order=2, window_type='expanding')"
   ]
  },
  {
   "cell_type": "code",
   "execution_count": null,
   "metadata": {},
   "outputs": [],
   "source": [
    "import datetime as dt\n",
    "var.coefs\n",
    "var.coefs.minor_xs('A').info()\n",
    "var.coefs.major_xs(dt.datetime(2001, 11, 30)).T"
   ]
  },
  {
   "cell_type": "code",
   "execution_count": null,
   "metadata": {
    "scrolled": true
   },
   "outputs": [],
   "source": [
    "var.forecast(2)"
   ]
  },
  {
   "cell_type": "code",
   "execution_count": null,
   "metadata": {},
   "outputs": [],
   "source": [
    "var.plot_forecast(2)"
   ]
  },
  {
   "cell_type": "code",
   "execution_count": null,
   "metadata": {},
   "outputs": [],
   "source": []
  },
  {
   "cell_type": "code",
   "execution_count": null,
   "metadata": {},
   "outputs": [],
   "source": []
  },
  {
   "cell_type": "code",
   "execution_count": null,
   "metadata": {},
   "outputs": [],
   "source": []
  },
  {
   "cell_type": "code",
   "execution_count": null,
   "metadata": {},
   "outputs": [],
   "source": []
  },
  {
   "cell_type": "code",
   "execution_count": null,
   "metadata": {},
   "outputs": [],
   "source": []
  },
  {
   "cell_type": "code",
   "execution_count": null,
   "metadata": {},
   "outputs": [],
   "source": []
  },
  {
   "cell_type": "code",
   "execution_count": null,
   "metadata": {},
   "outputs": [],
   "source": []
  },
  {
   "cell_type": "code",
   "execution_count": null,
   "metadata": {},
   "outputs": [],
   "source": []
  },
  {
   "cell_type": "code",
   "execution_count": null,
   "metadata": {},
   "outputs": [],
   "source": []
  },
  {
   "cell_type": "code",
   "execution_count": null,
   "metadata": {},
   "outputs": [],
   "source": []
  },
  {
   "cell_type": "code",
   "execution_count": null,
   "metadata": {},
   "outputs": [],
   "source": []
  },
  {
   "cell_type": "code",
   "execution_count": null,
   "metadata": {},
   "outputs": [],
   "source": []
  },
  {
   "cell_type": "code",
   "execution_count": null,
   "metadata": {},
   "outputs": [],
   "source": []
  },
  {
   "cell_type": "code",
   "execution_count": null,
   "metadata": {},
   "outputs": [],
   "source": []
  },
  {
   "cell_type": "code",
   "execution_count": null,
   "metadata": {},
   "outputs": [],
   "source": []
  },
  {
   "cell_type": "code",
   "execution_count": null,
   "metadata": {},
   "outputs": [],
   "source": []
  },
  {
   "cell_type": "code",
   "execution_count": null,
   "metadata": {},
   "outputs": [],
   "source": []
  },
  {
   "cell_type": "code",
   "execution_count": null,
   "metadata": {},
   "outputs": [],
   "source": []
  },
  {
   "cell_type": "code",
   "execution_count": null,
   "metadata": {},
   "outputs": [],
   "source": []
  },
  {
   "cell_type": "code",
   "execution_count": null,
   "metadata": {},
   "outputs": [],
   "source": []
  },
  {
   "cell_type": "code",
   "execution_count": null,
   "metadata": {},
   "outputs": [],
   "source": []
  },
  {
   "cell_type": "code",
   "execution_count": null,
   "metadata": {},
   "outputs": [],
   "source": []
  },
  {
   "cell_type": "code",
   "execution_count": null,
   "metadata": {},
   "outputs": [],
   "source": []
  },
  {
   "cell_type": "code",
   "execution_count": null,
   "metadata": {},
   "outputs": [],
   "source": []
  },
  {
   "cell_type": "code",
   "execution_count": null,
   "metadata": {},
   "outputs": [],
   "source": []
  },
  {
   "cell_type": "code",
   "execution_count": null,
   "metadata": {},
   "outputs": [],
   "source": []
  },
  {
   "cell_type": "code",
   "execution_count": null,
   "metadata": {},
   "outputs": [],
   "source": []
  },
  {
   "cell_type": "code",
   "execution_count": null,
   "metadata": {},
   "outputs": [],
   "source": [
    "# nproocessors=3\n",
    "# processes = []\n",
    "# with ProcessPoolExecutor(max_workers=nproocessors) as executor:\n",
    "#     processes.append(executor.submit(self.run_strategy01))\n",
    "#     processes.append(executor.submit(self.run_strategy02))\n",
    "#     processes.append(executor.submit(self.run_strategy03))\n",
    "#     processes.append(executor.submit(self.run_strategy04))\n",
    "#     wait(processes)\n",
    "# results = {}\n",
    "# for process in processes:\n",
    "#     results.update(process.result())"
   ]
  },
  {
   "cell_type": "code",
   "execution_count": null,
   "metadata": {},
   "outputs": [],
   "source": [
    "# nproocessors=4\n",
    "# with ProcessPoolExecutor(max_workers=nproocessors) as executor:\n",
    "#     executor.submit(self.run_strategy01,)\n",
    "#     executor.submit(self.run_strategy02,)\n",
    "#     executor.submit(self.run_strategy03,)\n",
    "#     executor.submit(self.run_strategy04,)"
   ]
  },
  {
   "cell_type": "markdown",
   "metadata": {},
   "source": [
    "## Additional data for presentation"
   ]
  },
  {
   "cell_type": "code",
   "execution_count": null,
   "metadata": {},
   "outputs": [],
   "source": [
    "self.fwd_discount_last.loc[self.monthly_calendar].plot(figsize=(12,8))"
   ]
  },
  {
   "cell_type": "code",
   "execution_count": null,
   "metadata": {},
   "outputs": [],
   "source": [
    "self.fwd_discount_last.rolling(21).mean().plot(figsize=(12,8))"
   ]
  },
  {
   "cell_type": "code",
   "execution_count": null,
   "metadata": {},
   "outputs": [],
   "source": [
    "self.fwd_discount_last.rolling(2).mean().loc['1999-10':'1999-12'].plot(figsize=(12,8))"
   ]
  },
  {
   "cell_type": "code",
   "execution_count": null,
   "metadata": {},
   "outputs": [],
   "source": []
  },
  {
   "cell_type": "markdown",
   "metadata": {},
   "source": [
    "# Cost Analysis"
   ]
  },
  {
   "cell_type": "code",
   "execution_count": null,
   "metadata": {},
   "outputs": [],
   "source": [
    "((self.fwd_ask_XXXUSD / self.fwd_bid_XXXUSD - 1)*100).loc['2018':]['NZD'].plot()"
   ]
  },
  {
   "cell_type": "code",
   "execution_count": null,
   "metadata": {},
   "outputs": [],
   "source": [
    "(((self.fwd_ask_XXXUSD / self.fwd_bid_XXXUSD - 1)*100).loc['2018':]['NZD']).mean()"
   ]
  },
  {
   "cell_type": "code",
   "execution_count": null,
   "metadata": {},
   "outputs": [],
   "source": [
    "(((self.fwd_ask_XXXUSD / self.fwd_bid_XXXUSD - 1)*100).loc['2018':]['NZD']).median()"
   ]
  },
  {
   "cell_type": "code",
   "execution_count": null,
   "metadata": {},
   "outputs": [],
   "source": [
    "self.fwd_ask_XXXUSD['NZD'].index[-1]"
   ]
  },
  {
   "cell_type": "code",
   "execution_count": null,
   "metadata": {},
   "outputs": [],
   "source": [
    "self.fwd_ask_XXXUSD['NZD'][-1]"
   ]
  },
  {
   "cell_type": "code",
   "execution_count": null,
   "metadata": {},
   "outputs": [],
   "source": [
    "self.fwd_bid_XXXUSD['NZD'][-1]"
   ]
  },
  {
   "cell_type": "code",
   "execution_count": null,
   "metadata": {},
   "outputs": [],
   "source": [
    "(self.fwd_ask_XXXUSD['NZD'][-1] / self.fwd_bid_XXXUSD['NZD'][-1] -1)*100"
   ]
  },
  {
   "cell_type": "code",
   "execution_count": null,
   "metadata": {},
   "outputs": [],
   "source": [
    "(0.634512/0.63464-1)*100"
   ]
  },
  {
   "cell_type": "code",
   "execution_count": null,
   "metadata": {},
   "outputs": [],
   "source": [
    "self.cost_02.plot()"
   ]
  },
  {
   "cell_type": "code",
   "execution_count": null,
   "metadata": {},
   "outputs": [],
   "source": [
    "self.cost_03.plot()"
   ]
  },
  {
   "cell_type": "code",
   "execution_count": null,
   "metadata": {},
   "outputs": [],
   "source": [
    "self.ir_01.plot()\n",
    "self.ir_02.plot()\n",
    "self.ir_03.plot()"
   ]
  },
  {
   "cell_type": "code",
   "execution_count": null,
   "metadata": {
    "scrolled": false
   },
   "outputs": [],
   "source": [
    "[getattr(self, \"ir_0\" + str(i)).plot() for i in range(1, 10)]"
   ]
  },
  {
   "cell_type": "code",
   "execution_count": null,
   "metadata": {},
   "outputs": [],
   "source": [
    "getattr(self, \"ir_0\" + str(1)).plot()"
   ]
  },
  {
   "cell_type": "code",
   "execution_count": null,
   "metadata": {},
   "outputs": [],
   "source": []
  },
  {
   "cell_type": "code",
   "execution_count": null,
   "metadata": {},
   "outputs": [],
   "source": []
  },
  {
   "cell_type": "code",
   "execution_count": null,
   "metadata": {},
   "outputs": [],
   "source": []
  },
  {
   "cell_type": "code",
   "execution_count": null,
   "metadata": {},
   "outputs": [],
   "source": []
  },
  {
   "cell_type": "code",
   "execution_count": null,
   "metadata": {},
   "outputs": [],
   "source": [
    "def plot_break01(strategy_n, k):\n",
    "    name_strat = '_' + \"{:02}\".format(strategy_n)\n",
    "    nome_str = self.df_strategy.loc[strategy_n, 'Name']\n",
    "    k_str = 'k' + str(k)\n",
    "    spot_ret = getattr(self, 'pct_srfx' + name_strat).loc[k_str]\n",
    "    ir_ret = getattr(self, 'pct_irfx' + name_strat).loc[k_str]\n",
    "    df = pd.DataFrame(data=spot_ret.sum(), columns=['variação spot'])\n",
    "    df['juros'] = ir_ret.sum()\n",
    "    df.plot(kind='bar', figsize=(12,8), title=nome_str + '(' + k_str + ')' + ': decomposição dos retornos')"
   ]
  },
  {
   "cell_type": "code",
   "execution_count": null,
   "metadata": {},
   "outputs": [],
   "source": [
    "def plot_pnl(strategy_n, k):\n",
    "    name_strat = '_' + \"{:02}\".format(strategy_n)\n",
    "    nome_str = self.df_strategy.loc[strategy_n, 'Name']\n",
    "    k_str = 'k' + str(k)\n",
    "    spot_ret = getattr(self, 'pct_pnlfx' + name_strat).loc[k_str].sum()\n",
    "    spot_ret = pd.DataFrame(data=spot_ret, columns=['retornos'])\n",
    "    spot_ret.plot(kind='bar', figsize=(12,8), title=nome_str + '(' + k_str + ')' + ': decomposição por moeda')"
   ]
  },
  {
   "cell_type": "code",
   "execution_count": null,
   "metadata": {
    "scrolled": false
   },
   "outputs": [],
   "source": [
    "plot_pnl(1,3)\n",
    "plot_pnl(5,3)\n",
    "plot_pnl(2,3)\n",
    "plot_pnl(3,3)\n",
    "plot_pnl(4,3)"
   ]
  },
  {
   "cell_type": "code",
   "execution_count": null,
   "metadata": {},
   "outputs": [],
   "source": [
    "plot_break01(2, 3)"
   ]
  },
  {
   "cell_type": "code",
   "execution_count": null,
   "metadata": {},
   "outputs": [],
   "source": [
    "plot_break01(1, 3)"
   ]
  },
  {
   "cell_type": "code",
   "execution_count": null,
   "metadata": {},
   "outputs": [],
   "source": [
    "plot_break01(9, 1)"
   ]
  },
  {
   "cell_type": "code",
   "execution_count": null,
   "metadata": {},
   "outputs": [],
   "source": [
    "plot_break01(10, 1)"
   ]
  },
  {
   "cell_type": "code",
   "execution_count": null,
   "metadata": {},
   "outputs": [],
   "source": [
    "ret = self.pct_srfx_02.loc['k3']\n",
    "irr = self.pct_irfx_02.loc['k3']"
   ]
  },
  {
   "cell_type": "code",
   "execution_count": null,
   "metadata": {},
   "outputs": [],
   "source": [
    "(((self.holdings_df_02.loc['k3'] < 0.0) & (ret > 0.0)) * ret).sum().plot(kind='bar', figsize=(12,8), title='gain short')"
   ]
  },
  {
   "cell_type": "code",
   "execution_count": null,
   "metadata": {},
   "outputs": [],
   "source": [
    "(((self.holdings_df_02.loc['k3'] < 0.0) & (ret < 0.0)) * ret).sum().plot(kind='bar', figsize=(12,8), title='loss short')"
   ]
  },
  {
   "cell_type": "code",
   "execution_count": null,
   "metadata": {},
   "outputs": [],
   "source": [
    "ntrades = ret.count()\n",
    "n_acertos = (ret > 0).sum()\n",
    "n_erros = (ret < 0).sum()"
   ]
  },
  {
   "cell_type": "code",
   "execution_count": null,
   "metadata": {},
   "outputs": [],
   "source": [
    "(n_acertos / ntrades * 100).plot(kind='bar', figsize=(12,8))\n",
    "(n_acertos * 0 + 50).plot()"
   ]
  },
  {
   "cell_type": "code",
   "execution_count": null,
   "metadata": {},
   "outputs": [],
   "source": [
    "(n_erros / ntrades * 100).plot(kind='bar', figsize=(12,8))\n",
    "(n_erros * 0 + 50).plot()"
   ]
  },
  {
   "cell_type": "code",
   "execution_count": null,
   "metadata": {},
   "outputs": [],
   "source": []
  },
  {
   "cell_type": "code",
   "execution_count": null,
   "metadata": {},
   "outputs": [],
   "source": []
  },
  {
   "cell_type": "code",
   "execution_count": null,
   "metadata": {},
   "outputs": [],
   "source": []
  },
  {
   "cell_type": "code",
   "execution_count": null,
   "metadata": {},
   "outputs": [],
   "source": []
  },
  {
   "cell_type": "code",
   "execution_count": null,
   "metadata": {},
   "outputs": [],
   "source": []
  },
  {
   "cell_type": "code",
   "execution_count": null,
   "metadata": {},
   "outputs": [],
   "source": []
  },
  {
   "cell_type": "code",
   "execution_count": null,
   "metadata": {},
   "outputs": [],
   "source": []
  },
  {
   "cell_type": "code",
   "execution_count": null,
   "metadata": {},
   "outputs": [],
   "source": [
    "self.daily_fwds_XXXUSD"
   ]
  },
  {
   "cell_type": "code",
   "execution_count": null,
   "metadata": {},
   "outputs": [],
   "source": [
    "d = pd.to_datetime('1991-01-31')"
   ]
  },
  {
   "cell_type": "code",
   "execution_count": null,
   "metadata": {},
   "outputs": [],
   "source": [
    "self.daily_fwds_XXXUSD.loc[('AUD', d), 28]"
   ]
  },
  {
   "cell_type": "code",
   "execution_count": null,
   "metadata": {},
   "outputs": [],
   "source": [
    "df_blotter = self.blotter_01.copy(deep=True)\n",
    "df_blotter['ndays'] = 0"
   ]
  },
  {
   "cell_type": "code",
   "execution_count": null,
   "metadata": {},
   "outputs": [],
   "source": [
    "df_blotter"
   ]
  },
  {
   "cell_type": "code",
   "execution_count": null,
   "metadata": {},
   "outputs": [],
   "source": []
  },
  {
   "cell_type": "code",
   "execution_count": null,
   "metadata": {},
   "outputs": [],
   "source": [
    "filter = (df_blotter['trade_dt'] <= self.monthly_calendar[0])"
   ]
  },
  {
   "cell_type": "code",
   "execution_count": null,
   "metadata": {},
   "outputs": [],
   "source": [
    "td_aux = (df_blotter[filter]['maturity'] - self.monthly_calendar[0]).astype('timedelta64[D]')"
   ]
  },
  {
   "cell_type": "code",
   "execution_count": null,
   "metadata": {},
   "outputs": [],
   "source": [
    "td_aux"
   ]
  },
  {
   "cell_type": "code",
   "execution_count": null,
   "metadata": {
    "scrolled": true
   },
   "outputs": [],
   "source": [
    "df_blotter[filter]['ndays'] = td_aux"
   ]
  },
  {
   "cell_type": "code",
   "execution_count": null,
   "metadata": {},
   "outputs": [],
   "source": [
    "df_blotter.loc[filter, 'ndays'] = td_aux"
   ]
  },
  {
   "cell_type": "code",
   "execution_count": null,
   "metadata": {},
   "outputs": [],
   "source": [
    "df_blotter.loc[0, 'ndays'] = -20"
   ]
  },
  {
   "cell_type": "code",
   "execution_count": null,
   "metadata": {},
   "outputs": [],
   "source": [
    "df_blotter"
   ]
  },
  {
   "cell_type": "code",
   "execution_count": null,
   "metadata": {},
   "outputs": [],
   "source": [
    "df_blotter.loc[df_blotter['ndays'] > 0, 'ndays'].index"
   ]
  },
  {
   "cell_type": "code",
   "execution_count": null,
   "metadata": {},
   "outputs": [],
   "source": [
    "df_blotter.loc[df_blotter['ndays'] > 0, 'ndays'].index"
   ]
  },
  {
   "cell_type": "code",
   "execution_count": null,
   "metadata": {},
   "outputs": [],
   "source": [
    "    time_delta_aux = (df_blotter['maturity'] - df_blotter['maturity'].index)\n",
    "        # number of days to maturity (forward)\n",
    "        df_px_change['days'] = time_delta_aux.astype('timedelta64[D]')"
   ]
  },
  {
   "cell_type": "code",
   "execution_count": null,
   "metadata": {},
   "outputs": [],
   "source": []
  },
  {
   "cell_type": "code",
   "execution_count": null,
   "metadata": {},
   "outputs": [],
   "source": [
    "self.blotter_01 = pd.read_excel(r'C:\\Curvytrade\\data_DM\\01_Blotter.xlsx')"
   ]
  },
  {
   "cell_type": "code",
   "execution_count": null,
   "metadata": {},
   "outputs": [],
   "source": [
    "df_blotter = self.blotter_01.copy(deep=True)\n",
    "df_blotter['ndays'] = 0\n",
    "hist_blotter_pnl = pd.DataFrame(data=None, columns=self.blotter_01.columns)\n",
    "\n",
    "for d in self.monthly_calendar:\n",
    "    filter_trade_dt = (df_blotter['trade_dt'] <= d)\n",
    "    _blotter = df_blotter[filter_trade_dt].copy(deep=True)\n",
    "    time_delta_aux = (_blotter['maturity'] - d)\n",
    "    # number of days to maturity (forward)\n",
    "    _blotter['ndays'] = time_delta_aux.astype('timedelta64[D]')\n",
    "    filter_neg_days = _blotter['ndays'] < 0\n",
    "    _blotter.loc[filter_neg_days, 'ndays'] = 0\n",
    "    _blotter['eval_date'] = d\n",
    "    for n in _blotter.index:\n",
    "        curncy = _blotter.loc[n, 'fx']\n",
    "        ndays = _blotter.loc[n, 'ndays']\n",
    "        _price = self.daily_fwds_XXXUSD.loc[(curncy, d), ndays]\n",
    "        _blotter.loc[n, 'price_mtm'] = _price\n",
    "    _blotter['pnl'] = (_blotter['price_mtm'] -  _blotter['traded_px']) * _blotter['holding']\n",
    "    hist_blotter_pnl = hist_blotter_pnl.append(_blotter, ignore_index=True)"
   ]
  },
  {
   "cell_type": "code",
   "execution_count": null,
   "metadata": {},
   "outputs": [],
   "source": [
    "hist_blotter_pnl.groupby(by=['k', 'eval_date']).sum()['pnl']"
   ]
  },
  {
   "cell_type": "code",
   "execution_count": null,
   "metadata": {},
   "outputs": [],
   "source": []
  },
  {
   "cell_type": "markdown",
   "metadata": {},
   "source": [
    "# Daily P&L"
   ]
  },
  {
   "cell_type": "markdown",
   "metadata": {},
   "source": [
    "### Write to Excel"
   ]
  },
  {
   "cell_type": "code",
   "execution_count": null,
   "metadata": {},
   "outputs": [],
   "source": [
    "self.daily_fwds_XXXUSD.to_excel(r'C:\\Curvytrade\\data_DM\\daily_fwds_XXXUSD.xlsx')"
   ]
  },
  {
   "cell_type": "code",
   "execution_count": null,
   "metadata": {},
   "outputs": [],
   "source": [
    "pd.DataFrame(data=self.daily_calendar).to_excel(r'C:\\Curvytrade\\data_DM\\daily_calendar.xlsx')"
   ]
  },
  {
   "cell_type": "markdown",
   "metadata": {},
   "source": [
    "### Variables needed"
   ]
  },
  {
   "cell_type": "code",
   "execution_count": null,
   "metadata": {},
   "outputs": [],
   "source": [
    "df_blotter = pd.read_excel(r'C:\\Curvytrade\\data_DM\\01_Blotter.xlsx')"
   ]
  },
  {
   "cell_type": "code",
   "execution_count": null,
   "metadata": {},
   "outputs": [],
   "source": [
    "TR_df_daily_new = pd.DataFrame(data=None, index=self.daily_calendar, columns=self.TR_df_daily_01.columns)"
   ]
  },
  {
   "cell_type": "code",
   "execution_count": null,
   "metadata": {},
   "outputs": [],
   "source": [
    "df_blotter['ndays'] = 0"
   ]
  },
  {
   "cell_type": "code",
   "execution_count": null,
   "metadata": {},
   "outputs": [],
   "source": [
    "df_blotter['k'] = ['k' + str(i) for i in df_blotter['k']]"
   ]
  },
  {
   "cell_type": "code",
   "execution_count": null,
   "metadata": {},
   "outputs": [],
   "source": [
    "idx = pd.MultiIndex.from_product(iterables=[list(self.k_list), self.daily_calendar])\n",
    "TR_df_daily_pnl_byfx = pd.DataFrame(data=None, index=idx, columns=self.currency_list)"
   ]
  },
  {
   "cell_type": "code",
   "execution_count": null,
   "metadata": {
    "scrolled": true
   },
   "outputs": [],
   "source": [
    "df_blotter"
   ]
  },
  {
   "cell_type": "code",
   "execution_count": null,
   "metadata": {},
   "outputs": [],
   "source": [
    "TR_df_daily_new.head()"
   ]
  },
  {
   "cell_type": "code",
   "execution_count": null,
   "metadata": {},
   "outputs": [],
   "source": [
    "TR_df_daily_pnl_byfx.head(3)"
   ]
  },
  {
   "cell_type": "code",
   "execution_count": null,
   "metadata": {},
   "outputs": [],
   "source": [
    "TR_df_daily_pnl_byfx.tail(3)"
   ]
  },
  {
   "cell_type": "code",
   "execution_count": null,
   "metadata": {},
   "outputs": [],
   "source": [
    "# df_blotter = self.blotter_01.copy(deep=True)\n",
    "# df_blotter = pd.read_excel(r'C:\\Curvytrade\\data_DM\\01_Blotter.xlsx')\n",
    "# df_blotter['ndays'] = 0\n",
    "# TR_df_daily_new = pd.DataFrame(data=None, index=self.daily_calendar, columns=self.TR_df_daily_01.columns)\n",
    "# idx = pd.MultiIndex.from_product(iterables=[list(self.k_list), self.daily_calendar])\n",
    "# TR_df_daily_pnl_byfx = pd.DataFrame(data=None, index=idx, columns=self.currency_list)\n",
    "\n",
    "df_blotter = pd.read_excel(r'C:\\Curvytrade\\data_DM\\01_Blotter.xlsx')\n",
    "df_blotter['ndays'] = 0\n",
    "df_blotter['k'] = ['k' + str(i) for i in df_blotter['k']]\n",
    "TR_df_daily_new = pd.DataFrame(data=None, index=self.daily_calendar, columns=self.TR_df_daily_01.columns)\n",
    "idx = pd.MultiIndex.from_product(iterables=[list(self.k_list), self.daily_calendar])\n",
    "TR_df_daily_pnl_byfx = pd.DataFrame(data=None, index=idx, columns=self.currency_list)\n",
    "\n",
    "list_to_do = tqdm(self.daily_calendar[22:])\n",
    "for d in list_to_do:\n",
    "    # Pnl of not expired trades\n",
    "    live_trades = (df_blotter['maturity'] >= d) & (df_blotter['trade_dt'] <= d)\n",
    "    time_delta_aux = (df_blotter.loc[live_trades, 'maturity'] - d)\n",
    "    df_blotter.loc[live_trades, 'ndays'] = time_delta_aux.astype('timedelta64[D]')\n",
    "    df_blotter['eval_date'] = d\n",
    "\n",
    "    col_fx = df_blotter.loc[live_trades, 'fx']\n",
    "    col_ndays = df_blotter.loc[live_trades, 'ndays']\n",
    "    col_eval = df_blotter.loc[live_trades, 'eval_date']\n",
    "    inputs = zip(col_fx, col_ndays, col_eval)\n",
    "    df_blotter.loc[live_trades, 'price_mtm'] = [self.daily_fwds_XXXUSD.loc[(fx, d), ndays] for fx, ndays, d in inputs]\n",
    "    df_blotter.loc[live_trades, 'pnl'] = (df_blotter.loc[live_trades, 'price_mtm'] -  df_blotter.loc[live_trades, 'traded_px']) * df_blotter.loc[live_trades, 'holding']\n",
    "\n",
    "    trades_till_now = (df_blotter['trade_dt'] <= d)\n",
    "    pnl_accum = df_blotter.loc[trades_till_now].groupby(by=['k', 'eval_date']).sum().loc[(self.k_list, d), 'pnl'].unstack(0).loc[d]\n",
    "    # Write Pnl\n",
    "    TR_df_daily_new.loc[d, self.k_list] = pnl_accum\n",
    "    lst_moedas = df_blotter.loc[trades_till_now].groupby(by=['k', 'eval_date', 'fx']).sum()['pnl'].unstack().columns\n",
    "    pnl_acum_fx = df_blotter.loc[trades_till_now].groupby(by=['k', 'eval_date', 'fx']).sum()['pnl'].unstack()\n",
    "    TR_df_daily_pnl_byfx.loc[(self.k_list, d), lst_moedas] = pnl_acum_fx"
   ]
  },
  {
   "cell_type": "code",
   "execution_count": null,
   "metadata": {},
   "outputs": [],
   "source": []
  },
  {
   "cell_type": "code",
   "execution_count": null,
   "metadata": {},
   "outputs": [],
   "source": []
  },
  {
   "cell_type": "code",
   "execution_count": null,
   "metadata": {},
   "outputs": [],
   "source": []
  },
  {
   "cell_type": "code",
   "execution_count": null,
   "metadata": {},
   "outputs": [],
   "source": []
  },
  {
   "cell_type": "code",
   "execution_count": null,
   "metadata": {},
   "outputs": [],
   "source": [
    "TR_df_daily_new.to_excel(r'C:\\Curvytrade\\data_DM\\01_TR_Daily.xlsx')"
   ]
  },
  {
   "cell_type": "code",
   "execution_count": null,
   "metadata": {},
   "outputs": [],
   "source": [
    "TR_df_daily_pnl_byfx.to_excel(r'C:\\Curvytrade\\data_DM\\01_TR_DailyFX.xlsx')"
   ]
  },
  {
   "cell_type": "code",
   "execution_count": null,
   "metadata": {},
   "outputs": [],
   "source": [
    "def calculate_daily_pnl(dates, df_blotter):\n",
    "    list_to_do = tqdm(dates)\n",
    "    df_blotter['ndays'] = 0\n",
    "    df_blotter['k'] = ['k' + str(i) for i in df_blotter['k']]\n",
    "    TR_df_daily_new = pd.DataFrame(data=None, index=self.daily_calendar, columns=self.TR_df_daily_01.columns)\n",
    "    idx = pd.MultiIndex.from_product(iterables=[list(self.k_list), self.daily_calendar])\n",
    "    TR_df_daily_pnl_byfx = pd.DataFrame(data=None, index=idx, columns=self.currency_list)\n",
    "    \n",
    "    for d in list_to_do:\n",
    "        # Pnl of not expired trades\n",
    "        live_trades = (df_blotter['maturity'] >= d) & (df_blotter['trade_dt'] <= d)\n",
    "        time_delta_aux = (df_blotter.loc[live_trades, 'maturity'] - d)\n",
    "        df_blotter.loc[live_trades, 'ndays'] = time_delta_aux.astype('timedelta64[D]')\n",
    "        df_blotter['eval_date'] = d\n",
    "\n",
    "        col_fx = df_blotter.loc[live_trades, 'fx']\n",
    "        col_ndays = df_blotter.loc[live_trades, 'ndays']\n",
    "        col_eval = df_blotter.loc[live_trades, 'eval_date']\n",
    "        inputs = zip(col_fx, col_ndays, col_eval)\n",
    "        df_blotter.loc[live_trades, 'price_mtm'] = [self.daily_fwds_XXXUSD.loc[(fx, d), ndays] for fx, ndays, d in inputs]\n",
    "        df_blotter.loc[live_trades, 'pnl'] = (df_blotter.loc[live_trades, 'price_mtm'] -  df_blotter.loc[live_trades, 'traded_px']) * df_blotter.loc[live_trades, 'holding']\n",
    "\n",
    "        trades_till_now = (df_blotter['trade_dt'] <= d)\n",
    "        pnl_accum = df_blotter.loc[trades_till_now].groupby(by=['k', 'eval_date']).sum().loc[(self.k_list, d), 'pnl'].unstack(0).loc[d]\n",
    "        # Write Pnl\n",
    "        TR_df_daily_new.loc[d, self.k_list] = pnl_accum\n",
    "        lst_moedas = df_blotter.loc[trades_till_now].groupby(by=['k', 'eval_date', 'fx']).sum()['pnl'].unstack().columns\n",
    "        pnl_acum_fx = df_blotter.loc[trades_till_now].groupby(by=['k', 'eval_date', 'fx']).sum()['pnl'].unstack()\n",
    "        TR_df_daily_pnl_byfx.loc[(self.k_list, d), lst_moedas] = pnl_acum_fx\n",
    "    return TR_df_daily_new, TR_df_daily_pnl_byfx"
   ]
  },
  {
   "cell_type": "code",
   "execution_count": null,
   "metadata": {
    "scrolled": true
   },
   "outputs": [],
   "source": [
    "df_blotter = pd.read_excel(r'C:\\Curvytrade\\data_DM\\02_Blotter.xlsx')\n",
    "list_daily_pnl_dates = pd.DataFrame(index=self.daily_calendar).loc['1991-01-31':]\n",
    "TR_df_daily, TR_df_daily_fx = calculate_daily_pnl(dates=list_dates, df_blotter=df_blotter)\n",
    "TR_df_daily_new.to_excel(r'C:\\Curvytrade\\data_DM\\02_TR_Daily.xlsx')\n",
    "TR_df_daily_pnl_byfx.to_excel(r'C:\\Curvytrade\\data_DM\\02_TR_DailyFX.xlsx')"
   ]
  },
  {
   "cell_type": "code",
   "execution_count": null,
   "metadata": {},
   "outputs": [],
   "source": [
    "df_blotter = pd.read_excel(r'C:\\Curvytrade\\data_DM\\03_Blotter.xlsx')\n",
    "list_dates = self.daily_calendar[22:]\n",
    "TR_df_daily, TR_df_daily_fx = calculate_daily_pnl(dates=list_dates, df_blotter=df_blotter)\n",
    "TR_df_daily_new.to_excel(r'C:\\Curvytrade\\data_DM\\03_TR_Daily.xlsx')\n",
    "TR_df_daily_pnl_byfx.to_excel(r'C:\\Curvytrade\\data_DM\\03_TR_DailyFX.xlsx')"
   ]
  },
  {
   "cell_type": "code",
   "execution_count": null,
   "metadata": {},
   "outputs": [],
   "source": [
    "df_blotter = pd.read_excel(r'C:\\Curvytrade\\data_DM\\04_Blotter.xlsx')\n",
    "list_dates = self.daily_calendar[22:]\n",
    "TR_df_daily, TR_df_daily_fx = calculate_daily_pnl(dates=list_dates, df_blotter=df_blotter)\n",
    "TR_df_daily_new.to_excel(r'C:\\Curvytrade\\data_DM\\04_TR_Daily.xlsx')\n",
    "TR_df_daily_pnl_byfx.to_excel(r'C:\\Curvytrade\\data_DM\\04_TR_DailyFX.xlsx')"
   ]
  },
  {
   "cell_type": "code",
   "execution_count": null,
   "metadata": {},
   "outputs": [],
   "source": [
    "list_dates = self.daily_calendar[22:]\n",
    "for i in range(1, 11):\n",
    "    strat_string = \"{:02}\".format(i)\n",
    "    df_blotter = pd.read_excel(self.data_folder + \"\\\\\" + strat_string + \"_Blotter.xlsx\")\n",
    "    [TR_df_daily, TR_df_daily_fx] = calculate_daily_pnl(dates=list_dates, df_blotter=df_blotter)\n",
    "    TR_df_daily.to_excel(self.data_folder + \"\\\\\" + strat_string +  \"_TR_Daily.xlsx\")\n",
    "    TR_df_daily_fx.to_excel(self.data_folder + \"\\\\\" + strat_string +  \"_TR_DailyFX.xlsx\")"
   ]
  },
  {
   "cell_type": "code",
   "execution_count": null,
   "metadata": {},
   "outputs": [],
   "source": []
  }
 ],
 "metadata": {
  "kernelspec": {
   "display_name": "Python 3",
   "language": "python",
   "name": "python3"
  },
  "language_info": {
   "codemirror_mode": {
    "name": "ipython",
    "version": 3
   },
   "file_extension": ".py",
   "mimetype": "text/x-python",
   "name": "python",
   "nbconvert_exporter": "python",
   "pygments_lexer": "ipython3",
   "version": "3.7.1"
  }
 },
 "nbformat": 4,
 "nbformat_minor": 2
}
